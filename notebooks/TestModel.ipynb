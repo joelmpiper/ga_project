{
 "cells": [
  {
   "cell_type": "markdown",
   "metadata": {},
   "source": [
    "Go up one level to access all of the scripts from the main director"
   ]
  },
  {
   "cell_type": "code",
   "execution_count": 2,
   "metadata": {
    "collapsed": true
   },
   "outputs": [],
   "source": [
    "import os\n",
    "os.chdir('..')"
   ]
  },
  {
   "cell_type": "markdown",
   "metadata": {},
   "source": [
    "Create some simple X, y training values"
   ]
  },
  {
   "cell_type": "code",
   "execution_count": 66,
   "metadata": {
    "collapsed": false
   },
   "outputs": [
    {
     "name": "stdout",
     "output_type": "stream",
     "text": [
      "Training data shape (32, 3) (32, 2)\n"
     ]
    }
   ],
   "source": [
    "reload(solar.wrangle.wrangle)\n",
    "reload(solar.wrangle.subset)\n",
    "\n",
    "from solar.wrangle.wrangle import SolarData\n",
    "from solar.wrangle.subset import Subset\n",
    "station = ['ACME', 'BEAV']\n",
    "train_dates = ['2005-07-29','2005-08-29']\n",
    "test_dates = ['2008-12-29', '2009-01-29']\n",
    "#var = ['dswrf_sfc', 'uswrf_sfc', 'spfh_2m', 'ulwrf_tatm']\n",
    "var = ['dswrf_sfc']\n",
    "models = [0]\n",
    "times = [18]\n",
    "lats = range(37,38)\n",
    "longs = range(265,268)\n",
    "input_data = SolarData.load('solar/data/kaggle_solar/train/', 'solar/data/kaggle_solar/train.csv', \n",
    "                                'solar/data/kaggle_solar/test', 'solar/data/kaggle_solar/station_info.csv',\n",
    "                                var=var, lats=lats, longs=longs, test_dates=test_dates, train_dates=train_dates,\n",
    "                                models=models, times=times, station=station)"
   ]
  },
  {
   "cell_type": "code",
   "execution_count": 67,
   "metadata": {
    "collapsed": false
   },
   "outputs": [
    {
     "data": {
      "text/html": [
       "<div>\n",
       "<table border=\"1\" class=\"dataframe\">\n",
       "  <thead>\n",
       "    <tr style=\"text-align: right;\">\n",
       "      <th>location</th>\n",
       "      <th>ACME</th>\n",
       "      <th>BEAV</th>\n",
       "    </tr>\n",
       "    <tr>\n",
       "      <th>date</th>\n",
       "      <th></th>\n",
       "      <th></th>\n",
       "    </tr>\n",
       "  </thead>\n",
       "  <tbody>\n",
       "    <tr>\n",
       "      <th>2005-07-29</th>\n",
       "      <td>28302900</td>\n",
       "      <td>29221200</td>\n",
       "    </tr>\n",
       "    <tr>\n",
       "      <th>2005-07-30</th>\n",
       "      <td>26890800</td>\n",
       "      <td>27926700</td>\n",
       "    </tr>\n",
       "    <tr>\n",
       "      <th>2005-07-31</th>\n",
       "      <td>26932200</td>\n",
       "      <td>27732300</td>\n",
       "    </tr>\n",
       "    <tr>\n",
       "      <th>2005-08-01</th>\n",
       "      <td>26653800</td>\n",
       "      <td>27705600</td>\n",
       "    </tr>\n",
       "    <tr>\n",
       "      <th>2005-08-02</th>\n",
       "      <td>26087700</td>\n",
       "      <td>27396000</td>\n",
       "    </tr>\n",
       "    <tr>\n",
       "      <th>2005-08-03</th>\n",
       "      <td>26110200</td>\n",
       "      <td>26341200</td>\n",
       "    </tr>\n",
       "    <tr>\n",
       "      <th>2005-08-04</th>\n",
       "      <td>21778200</td>\n",
       "      <td>13657500</td>\n",
       "    </tr>\n",
       "    <tr>\n",
       "      <th>2005-08-05</th>\n",
       "      <td>23165700</td>\n",
       "      <td>21474300</td>\n",
       "    </tr>\n",
       "    <tr>\n",
       "      <th>2005-08-06</th>\n",
       "      <td>16723200</td>\n",
       "      <td>21845400</td>\n",
       "    </tr>\n",
       "    <tr>\n",
       "      <th>2005-08-07</th>\n",
       "      <td>19678500</td>\n",
       "      <td>25909500</td>\n",
       "    </tr>\n",
       "    <tr>\n",
       "      <th>2005-08-08</th>\n",
       "      <td>14941200</td>\n",
       "      <td>23597700</td>\n",
       "    </tr>\n",
       "    <tr>\n",
       "      <th>2005-08-09</th>\n",
       "      <td>23424900</td>\n",
       "      <td>26688300</td>\n",
       "    </tr>\n",
       "    <tr>\n",
       "      <th>2005-08-10</th>\n",
       "      <td>23497200</td>\n",
       "      <td>22423200</td>\n",
       "    </tr>\n",
       "    <tr>\n",
       "      <th>2005-08-11</th>\n",
       "      <td>21048900</td>\n",
       "      <td>24960900</td>\n",
       "    </tr>\n",
       "    <tr>\n",
       "      <th>2005-08-12</th>\n",
       "      <td>23110800</td>\n",
       "      <td>17272500</td>\n",
       "    </tr>\n",
       "    <tr>\n",
       "      <th>2005-08-13</th>\n",
       "      <td>12648300</td>\n",
       "      <td>9591000</td>\n",
       "    </tr>\n",
       "    <tr>\n",
       "      <th>2005-08-14</th>\n",
       "      <td>5879700</td>\n",
       "      <td>4396200</td>\n",
       "    </tr>\n",
       "    <tr>\n",
       "      <th>2005-08-15</th>\n",
       "      <td>8742600</td>\n",
       "      <td>9235500</td>\n",
       "    </tr>\n",
       "    <tr>\n",
       "      <th>2005-08-16</th>\n",
       "      <td>6998100</td>\n",
       "      <td>11945700</td>\n",
       "    </tr>\n",
       "    <tr>\n",
       "      <th>2005-08-17</th>\n",
       "      <td>23789700</td>\n",
       "      <td>24288600</td>\n",
       "    </tr>\n",
       "    <tr>\n",
       "      <th>2005-08-18</th>\n",
       "      <td>25192500</td>\n",
       "      <td>23188500</td>\n",
       "    </tr>\n",
       "    <tr>\n",
       "      <th>2005-08-19</th>\n",
       "      <td>24472500</td>\n",
       "      <td>24807900</td>\n",
       "    </tr>\n",
       "    <tr>\n",
       "      <th>2005-08-20</th>\n",
       "      <td>24631500</td>\n",
       "      <td>17841600</td>\n",
       "    </tr>\n",
       "    <tr>\n",
       "      <th>2005-08-21</th>\n",
       "      <td>20253900</td>\n",
       "      <td>9878700</td>\n",
       "    </tr>\n",
       "    <tr>\n",
       "      <th>2005-08-22</th>\n",
       "      <td>22303500</td>\n",
       "      <td>23787900</td>\n",
       "    </tr>\n",
       "    <tr>\n",
       "      <th>2005-08-23</th>\n",
       "      <td>19127400</td>\n",
       "      <td>24324000</td>\n",
       "    </tr>\n",
       "    <tr>\n",
       "      <th>2005-08-24</th>\n",
       "      <td>24222300</td>\n",
       "      <td>23621100</td>\n",
       "    </tr>\n",
       "    <tr>\n",
       "      <th>2005-08-25</th>\n",
       "      <td>23527800</td>\n",
       "      <td>21767400</td>\n",
       "    </tr>\n",
       "    <tr>\n",
       "      <th>2005-08-26</th>\n",
       "      <td>24054900</td>\n",
       "      <td>24712200</td>\n",
       "    </tr>\n",
       "    <tr>\n",
       "      <th>2005-08-27</th>\n",
       "      <td>3354300</td>\n",
       "      <td>24649500</td>\n",
       "    </tr>\n",
       "    <tr>\n",
       "      <th>2005-08-28</th>\n",
       "      <td>20629200</td>\n",
       "      <td>22219200</td>\n",
       "    </tr>\n",
       "    <tr>\n",
       "      <th>2005-08-29</th>\n",
       "      <td>23314500</td>\n",
       "      <td>24656700</td>\n",
       "    </tr>\n",
       "  </tbody>\n",
       "</table>\n",
       "</div>"
      ],
      "text/plain": [
       "location        ACME      BEAV\n",
       "date                          \n",
       "2005-07-29  28302900  29221200\n",
       "2005-07-30  26890800  27926700\n",
       "2005-07-31  26932200  27732300\n",
       "2005-08-01  26653800  27705600\n",
       "2005-08-02  26087700  27396000\n",
       "2005-08-03  26110200  26341200\n",
       "2005-08-04  21778200  13657500\n",
       "2005-08-05  23165700  21474300\n",
       "2005-08-06  16723200  21845400\n",
       "2005-08-07  19678500  25909500\n",
       "2005-08-08  14941200  23597700\n",
       "2005-08-09  23424900  26688300\n",
       "2005-08-10  23497200  22423200\n",
       "2005-08-11  21048900  24960900\n",
       "2005-08-12  23110800  17272500\n",
       "2005-08-13  12648300   9591000\n",
       "2005-08-14   5879700   4396200\n",
       "2005-08-15   8742600   9235500\n",
       "2005-08-16   6998100  11945700\n",
       "2005-08-17  23789700  24288600\n",
       "2005-08-18  25192500  23188500\n",
       "2005-08-19  24472500  24807900\n",
       "2005-08-20  24631500  17841600\n",
       "2005-08-21  20253900   9878700\n",
       "2005-08-22  22303500  23787900\n",
       "2005-08-23  19127400  24324000\n",
       "2005-08-24  24222300  23621100\n",
       "2005-08-25  23527800  21767400\n",
       "2005-08-26  24054900  24712200\n",
       "2005-08-27   3354300  24649500\n",
       "2005-08-28  20629200  22219200\n",
       "2005-08-29  23314500  24656700"
      ]
     },
     "execution_count": 67,
     "metadata": {},
     "output_type": "execute_result"
    }
   ],
   "source": [
    "trainX = input_data[0]\n",
    "trainy = input_data[1]\n",
    "trainy"
   ]
  },
  {
   "cell_type": "code",
   "execution_count": 37,
   "metadata": {
    "collapsed": true
   },
   "outputs": [],
   "source": [
    "import solar.analyze.model\n",
    "from solar.analyze.model import Model"
   ]
  },
  {
   "cell_type": "code",
   "execution_count": 116,
   "metadata": {
    "collapsed": false
   },
   "outputs": [],
   "source": [
    "reload(solar.analyze.model)\n",
    "from solar.analyze.model import Model\n",
    "\n",
    "from sklearn.linear_model import Ridge\n",
    "from sklearn import metrics\n",
    "\n",
    "error_formula = 'mean_absolute_error'\n",
    "\n",
    "trainX, trainy, model = Model.model(input_data, Ridge, {'alpha':[0.2,0.3]}, 10, \n",
    "                    error_formula, normalize=True)"
   ]
  },
  {
   "cell_type": "code",
   "execution_count": 120,
   "metadata": {
    "collapsed": false
   },
   "outputs": [],
   "source": [
    "import numpy as np\n",
    "from sklearn.neighbors import KNeighborsRegressor\n",
    "trainX, trainy, model = Model.model(input_data, KNeighborsRegressor, \n",
    "                                    {'n_neighbors':np.arange(1,10)}, 10, \n",
    "                                    error_formula)"
   ]
  },
  {
   "cell_type": "code",
   "execution_count": 121,
   "metadata": {
    "collapsed": false
   },
   "outputs": [
    {
     "data": {
      "text/plain": [
       "GridSearchCV(cv=10, error_score='raise',\n",
       "       estimator=KNeighborsRegressor(algorithm='auto', leaf_size=30, metric='minkowski',\n",
       "          metric_params=None, n_jobs=1, n_neighbors=5, p=2,\n",
       "          weights='uniform'),\n",
       "       fit_params={}, iid=True, n_jobs=1,\n",
       "       param_grid={'n_neighbors': array([1, 2, 3, 4, 5, 6, 7, 8, 9])},\n",
       "       pre_dispatch='2*n_jobs', refit=True, scoring='mean_absolute_error',\n",
       "       verbose=0)"
      ]
     },
     "execution_count": 121,
     "metadata": {},
     "output_type": "execute_result"
    }
   ],
   "source": [
    "model.fit(trainX,trainy)"
   ]
  },
  {
   "cell_type": "code",
   "execution_count": 126,
   "metadata": {
    "collapsed": false
   },
   "outputs": [
    {
     "data": {
      "text/plain": [
       "-5067979.166666667"
      ]
     },
     "execution_count": 126,
     "metadata": {},
     "output_type": "execute_result"
    }
   ],
   "source": [
    "model.best_score_"
   ]
  },
  {
   "cell_type": "code",
   "execution_count": 123,
   "metadata": {
    "collapsed": false
   },
   "outputs": [
    {
     "name": "stdout",
     "output_type": "stream",
     "text": [
      "(32, 3)\n",
      "(32, 2)\n",
      "[[ 24152833.33333333  25498633.33333333]]\n"
     ]
    }
   ],
   "source": [
    "model.predict(trainX.iloc[20:21,:])\n",
    "print trainX.shape\n",
    "print trainy.shape\n",
    "print model.predict(trainX.iloc[0:1,:])"
   ]
  },
  {
   "cell_type": "code",
   "execution_count": 132,
   "metadata": {
    "collapsed": false
   },
   "outputs": [
    {
     "data": {
      "text/plain": [
       "'2016-01-18-17-15-21'"
      ]
     },
     "execution_count": 132,
     "metadata": {},
     "output_type": "execute_result"
    }
   ],
   "source": [
    "import datetime\n",
    "strftime(\"%Y%m%d-%H%M%S\")"
   ]
  },
  {
   "cell_type": "code",
   "execution_count": 223,
   "metadata": {
    "collapsed": false
   },
   "outputs": [
    {
     "name": "stdout",
     "output_type": "stream",
     "text": [
      "Training data shape (5113, 720) (5113, 98)\n"
     ]
    }
   ],
   "source": [
    "reload(solar.wrangle.wrangle)\n",
    "reload(solar.wrangle.subset)\n",
    "\n",
    "from solar.wrangle.wrangle import SolarData\n",
    "#station = ['ACME', 'BEAV']\n",
    "station = ['all']\n",
    "#train_dates = ['2005-07-29','2005-08-29']\n",
    "train_dates = []\n",
    "#test_dates = ['2008-12-29', '2009-01-29']\n",
    "test_dates = []\n",
    "#var = ['dswrf_sfc', 'uswrf_sfc', 'spfh_2m', 'ulwrf_tatm']\n",
    "var = ['dswrf_sfc']\n",
    "models = [0]\n",
    "#times = [18]\n",
    "times = []\n",
    "#lats = range(37,38)\n",
    "lats = []\n",
    "#longs = range(265,268)\n",
    "longs = []\n",
    "trainX, trainy, testX = SolarData.load('solar/data/kaggle_solar/train/', 'solar/data/kaggle_solar/train.csv', \n",
    "                                'solar/data/kaggle_solar/test', 'solar/data/kaggle_solar/station_info.csv',\n",
    "                                var=var, lats=lats, longs=longs, test_dates=test_dates, train_dates=train_dates,\n",
    "                                models=models, times=times, station=station)"
   ]
  },
  {
   "cell_type": "code",
   "execution_count": 224,
   "metadata": {
    "collapsed": true
   },
   "outputs": [],
   "source": [
    "reload(solar.analyze.model)\n",
    "from solar.analyze.model import Model\n",
    "\n",
    "from sklearn.linear_model import Ridge\n",
    "from sklearn import metrics\n",
    "\n",
    "error_formula = 'mean_absolute_error'\n",
    "\n",
    "model = Model.model([trainX,trainy,testX], Ridge, {'alpha':np.logspace(-3,1,8,base=10)}, 10, \n",
    "                    error_formula, normalize=True)"
   ]
  },
  {
   "cell_type": "code",
   "execution_count": 225,
   "metadata": {
    "collapsed": false
   },
   "outputs": [],
   "source": [
    "reload(solar.report.submission)\n",
    "from solar.report.submission import Submission\n",
    "\n",
    "preds = Submission.make_submission_file(model, trainy, testX)"
   ]
  },
  {
   "cell_type": "code",
   "execution_count": 221,
   "metadata": {
    "collapsed": false
   },
   "outputs": [
    {
     "data": {
      "text/plain": [
       "(1796, 98)"
      ]
     },
     "execution_count": 221,
     "metadata": {},
     "output_type": "execute_result"
    }
   ],
   "source": [
    "preds.shape"
   ]
  },
  {
   "cell_type": "code",
   "execution_count": 226,
   "metadata": {
    "collapsed": false
   },
   "outputs": [
    {
     "data": {
      "text/plain": [
       "-2547805.8119099629"
      ]
     },
     "execution_count": 226,
     "metadata": {},
     "output_type": "execute_result"
    }
   ],
   "source": [
    "model.best_score_"
   ]
  },
  {
   "cell_type": "code",
   "execution_count": null,
   "metadata": {
    "collapsed": true
   },
   "outputs": [],
   "source": []
  },
  {
   "cell_type": "code",
   "execution_count": null,
   "metadata": {
    "collapsed": true
   },
   "outputs": [],
   "source": []
  },
  {
   "cell_type": "code",
   "execution_count": 227,
   "metadata": {
    "collapsed": true
   },
   "outputs": [],
   "source": [
    "import cPickle as pickle"
   ]
  },
  {
   "cell_type": "code",
   "execution_count": 229,
   "metadata": {
    "collapsed": false
   },
   "outputs": [],
   "source": [
    "model = pickle.load(open('solar/data/kaggle_solar/model.p','rb'))"
   ]
  },
  {
   "cell_type": "code",
   "execution_count": 232,
   "metadata": {
    "collapsed": false
   },
   "outputs": [
    {
     "data": {
      "text/plain": [
       "[mean: -6810007.57575, std: 338020.07264, params: {'alpha': 0.001},\n",
       " mean: -6793310.06300, std: 339836.63444, params: {'alpha': 0.0037275937203149379},\n",
       " mean: -6787378.97584, std: 341423.87630, params: {'alpha': 0.013894954943731374},\n",
       " mean: -6786606.73713, std: 342246.64587, params: {'alpha': 0.0517947467923121},\n",
       " mean: -6786692.36930, std: 342599.88944, params: {'alpha': 0.19306977288832497},\n",
       " mean: -6786762.10570, std: 342720.09553, params: {'alpha': 0.71968567300115138},\n",
       " mean: -6786772.49729, std: 342754.73196, params: {'alpha': 2.6826957952797246},\n",
       " mean: -6786723.58849, std: 342763.51199, params: {'alpha': 10.0}]"
      ]
     },
     "execution_count": 232,
     "metadata": {},
     "output_type": "execute_result"
    }
   ],
   "source": [
    "model.grid_scores_"
   ]
  }
 ],
 "metadata": {
  "kernelspec": {
   "display_name": "Python 2",
   "language": "python",
   "name": "python2"
  },
  "language_info": {
   "codemirror_mode": {
    "name": "ipython",
    "version": 2
   },
   "file_extension": ".py",
   "mimetype": "text/x-python",
   "name": "python",
   "nbconvert_exporter": "python",
   "pygments_lexer": "ipython2",
   "version": "2.7.11"
  }
 },
 "nbformat": 4,
 "nbformat_minor": 0
}
