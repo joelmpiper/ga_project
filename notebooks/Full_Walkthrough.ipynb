{
 "cells": [
  {
   "cell_type": "markdown",
   "metadata": {},
   "source": [
    "# Analysis Walkthrough"
   ]
  },
  {
   "cell_type": "markdown",
   "metadata": {},
   "source": [
    "## Determine all of the parameters"
   ]
  },
  {
   "cell_type": "markdown",
   "metadata": {},
   "source": [
    "### Specify the locations of the files for X_train, X_test, and y_train. Also, there is a file that contains information about the individual stations that can be useful for models that learn for each station."
   ]
  },
  {
   "cell_type": "code",
   "execution_count": 1,
   "metadata": {
    "collapsed": true
   },
   "outputs": [],
   "source": [
    "import os\n",
    "os.chdir('..')"
   ]
  },
  {
   "cell_type": "code",
   "execution_count": 2,
   "metadata": {
    "collapsed": true
   },
   "outputs": [],
   "source": [
    "Xtrain_dir = 'solar/data/kaggle_solar/train/'\n",
    "Xtest_dir = 'solar/data/kaggle_solar/test'\n",
    "ytrain_file = 'solar/data/kaggle_solar/train.csv'\n",
    "station_file = 'solar/data/kaggle_solar/station_info.csv'"
   ]
  },
  {
   "cell_type": "markdown",
   "metadata": {},
   "source": [
    "### Import the various files. This is mostly done so that any file updates during testing are carried over to this notebook."
   ]
  },
  {
   "cell_type": "code",
   "execution_count": 3,
   "metadata": {
    "collapsed": false
   },
   "outputs": [],
   "source": [
    "import solar.wrangle.wrangle\n",
    "import solar.wrangle.subset\n",
    "import solar.wrangle.engineer\n",
    "import solar.analyze.model\n",
    "import solar.report.submission\n",
    "import numpy as np"
   ]
  },
  {
   "cell_type": "markdown",
   "metadata": {},
   "source": [
    "### Set the parameters that will be used to set up the data. There are some parameters that determine the size and shape of the data but have effects other than setting up feature columns. This includes the dates that are included for testing and training, the stations considered, and whether to have X values correspond to a date or to a specific date/station combination."
   ]
  },
  {
   "cell_type": "code",
   "execution_count": 20,
   "metadata": {
    "collapsed": true
   },
   "outputs": [],
   "source": [
    "# Choose up to 98 stations; not specifying a station means to use all that fall within the given lats and longs. If the\n",
    "# parameter 'all' is given, then it will use all stations no matter the provided lats and longs\n",
    "#station = ['ACME', 'BEAV', 'ADAX']\n",
    "station = ['all']\n",
    "\n",
    "# Determine which dates will be used to train the model. No specified date means use the entire set from 1994-01-01 \n",
    "# until 2007-12-31.\n",
    "#train_dates = ['1994-01-01','2007-12-31']\n",
    "train_dates = ['1994-01-01','2007-12-31']\n",
    "# Determine the test X values to produce. There is no practical purpose to use fewer than all of the points other than\n",
    "# for testing. Again, not choosing a date will use 2008-01-01 through 2012-11-30.\n",
    "test_dates = ['2008-01-01', '2012-11-30']\n",
    "#test_dates = ['all']\n",
    "#test_dates = []\n",
    "#train_dates = []\n",
    "#test_dates = []\n",
    "\n",
    "# The last parameter that is not specifically involved in feature selection in the layout to be used for training\n",
    "# I have switched to almost always training for each individual station rather than having a single row for a date.\n",
    "# However, I am still not beating the benchmark, and the file would grow too large to have the benchmark laid out\n",
    "# with a row for each station, so I'll keep the switch. True means that each station has a row (5113 dates X 98\n",
    "# stations to train the data). False means that there are 5113 rows that are being used to train the data.\n",
    "station_layout = True"
   ]
  },
  {
   "cell_type": "markdown",
   "metadata": {},
   "source": [
    "### First, just duplicate the functionality of the basic grid analysis"
   ]
  },
  {
   "cell_type": "code",
   "execution_count": 27,
   "metadata": {
    "collapsed": true
   },
   "outputs": [],
   "source": [
    "# Use all variables\n",
    "#var = ['uswrf_sfc', 'dswrf_sfc']\n",
    "var = ['all']\n",
    "\n",
    "# Keep model 0 (the default model) as a column for each of the variables (aggregated over other dimensions)\n",
    "model = [0]\n",
    "\n",
    "# Aggregate over all times\n",
    "times = [12, 15, 18, 21, 24]\n",
    "\n",
    "default_grid = {'type':'relative', 'axes':{'var':var, 'models':model, 'times':times,\n",
    "                                          'station':station}}\n",
    "just_grid = [default_grid]\n"
   ]
  },
  {
   "cell_type": "markdown",
   "metadata": {},
   "source": [
    "### Run data extraction"
   ]
  },
  {
   "cell_type": "code",
   "execution_count": 6,
   "metadata": {
    "collapsed": false
   },
   "outputs": [
    {
     "name": "stderr",
     "output_type": "stream",
     "text": [
      "INFO:solar.wrangle.wrangle:Started building test and training data\n",
      "INFO:solar.wrangle.wrangle:Features: [{'axes': {'var': ['uswrf_sfc', 'dswrf_sfc'], 'models': [0, 7], 'station': ['ACME', 'BEAV', 'ADAX'], 'times': [18, 21]}, 'type': 'relative'}]\n",
      "INFO:solar.wrangle.wrangle:Train dates: ['2005-11-30', '2006-11-30']\n",
      "INFO:solar.wrangle.wrangle:Test dates: ['2008-12-29', '2009-02-04']\n",
      "INFO:solar.wrangle.wrangle:Stations: ['ACME', 'BEAV', 'ADAX']\n",
      "INFO:solar.wrangle.wrangle:Finished building test and training data\n"
     ]
    },
    {
     "name": "stdout",
     "output_type": "stream",
     "text": [
      " "
     ]
    }
   ],
   "source": [
    "# if I am modifying code for any of these pythons\n",
    "reload(solar.wrangle.wrangle)\n",
    "reload(solar.wrangle.subset)\n",
    "reload(solar.wrangle.engineer)\n",
    "from solar.wrangle.wrangle import SolarData\n",
    "\n",
    "%prun input_data = SolarData.load(Xtrain_dir, ytrain_file, Xtest_dir, station_file, \\\n",
    "                                  train_dates, test_dates, station, \\\n",
    "                                  station_layout, just_grid)"
   ]
  },
  {
   "cell_type": "code",
   "execution_count": 8,
   "metadata": {
    "collapsed": false
   },
   "outputs": [],
   "source": [
    "#input_data[3]"
   ]
  },
  {
   "cell_type": "markdown",
   "metadata": {},
   "source": [
    "### Run through the full analysis"
   ]
  },
  {
   "cell_type": "code",
   "execution_count": 10,
   "metadata": {
    "collapsed": false
   },
   "outputs": [
    {
     "name": "stderr",
     "output_type": "stream",
     "text": [
      "INFO:solar.analyze.model:Started building model\n",
      "INFO:solar.analyze.model:Train input columns: MultiIndex(levels=[[u'relative'], [0, 7], [u'dswrf_sfc', u'uswrf_sfc'], [u'NE', u'NW', u'SE', u'SW'], [18, 21]],\n",
      "           labels=[[0, 0, 0, 0, 0, 0, 0, 0, 0, 0, 0, 0, 0, 0, 0, 0, 0, 0, 0, 0, 0, 0, 0, 0, 0, 0, 0, 0, 0, 0, 0, 0], [0, 0, 0, 0, 0, 0, 0, 0, 0, 0, 0, 0, 0, 0, 0, 0, 1, 1, 1, 1, 1, 1, 1, 1, 1, 1, 1, 1, 1, 1, 1, 1], [1, 1, 1, 1, 0, 0, 0, 0, 1, 1, 1, 1, 0, 0, 0, 0, 1, 1, 1, 1, 0, 0, 0, 0, 1, 1, 1, 1, 0, 0, 0, 0], [2, 3, 0, 1, 2, 3, 0, 1, 2, 3, 0, 1, 2, 3, 0, 1, 2, 3, 0, 1, 2, 3, 0, 1, 2, 3, 0, 1, 2, 3, 0, 1], [0, 0, 0, 0, 0, 0, 0, 0, 1, 1, 1, 1, 1, 1, 1, 1, 0, 0, 0, 0, 0, 0, 0, 0, 1, 1, 1, 1, 1, 1, 1, 1]],\n",
      "           names=[None, u'models', u'var', u'lat_longs', u'times'])\n",
      "INFO:solar.analyze.model:Train input indices: [[2005-11-30 00:00:00, 2005-12-01 00:00:00, 2005-12-02 00:00:00, 2005-12-03 00:00:00, 2005-12-04 00:00:00, 2005-12-05 00:00:00, 2005-12-06 00:00:00, 2005-12-07 00:00:00, 2005-12-08 00:00:00, 2005-12-09 00:00:00, 2005-12-10 00:00:00, 2005-12-11 00:00:00, 2005-12-12 00:00:00, 2005-12-13 00:00:00, 2005-12-14 00:00:00, 2005-12-15 00:00:00, 2005-12-16 00:00:00, 2005-12-17 00:00:00, 2005-12-18 00:00:00, 2005-12-19 00:00:00, 2005-12-20 00:00:00, 2005-12-21 00:00:00, 2005-12-22 00:00:00, 2005-12-23 00:00:00, 2005-12-24 00:00:00, 2005-12-25 00:00:00, 2005-12-26 00:00:00, 2005-12-27 00:00:00, 2005-12-28 00:00:00, 2005-12-29 00:00:00, 2005-12-30 00:00:00, 2005-12-31 00:00:00, 2006-01-01 00:00:00, 2006-01-02 00:00:00, 2006-01-03 00:00:00, 2006-01-04 00:00:00, 2006-01-05 00:00:00, 2006-01-06 00:00:00, 2006-01-07 00:00:00, 2006-01-08 00:00:00, 2006-01-09 00:00:00, 2006-01-10 00:00:00, 2006-01-11 00:00:00, 2006-01-12 00:00:00, 2006-01-13 00:00:00, 2006-01-14 00:00:00, 2006-01-15 00:00:00, 2006-01-16 00:00:00, 2006-01-17 00:00:00, 2006-01-18 00:00:00, 2006-01-19 00:00:00, 2006-01-20 00:00:00, 2006-01-21 00:00:00, 2006-01-22 00:00:00, 2006-01-23 00:00:00, 2006-01-24 00:00:00, 2006-01-25 00:00:00, 2006-01-26 00:00:00, 2006-01-27 00:00:00, 2006-01-28 00:00:00, 2006-01-29 00:00:00, 2006-01-30 00:00:00, 2006-01-31 00:00:00, 2006-02-01 00:00:00, 2006-02-02 00:00:00, 2006-02-03 00:00:00, 2006-02-04 00:00:00, 2006-02-05 00:00:00, 2006-02-06 00:00:00, 2006-02-07 00:00:00, 2006-02-08 00:00:00, 2006-02-09 00:00:00, 2006-02-10 00:00:00, 2006-02-11 00:00:00, 2006-02-12 00:00:00, 2006-02-13 00:00:00, 2006-02-14 00:00:00, 2006-02-15 00:00:00, 2006-02-16 00:00:00, 2006-02-17 00:00:00, 2006-02-18 00:00:00, 2006-02-19 00:00:00, 2006-02-20 00:00:00, 2006-02-21 00:00:00, 2006-02-22 00:00:00, 2006-02-23 00:00:00, 2006-02-24 00:00:00, 2006-02-25 00:00:00, 2006-02-26 00:00:00, 2006-02-27 00:00:00, 2006-02-28 00:00:00, 2006-03-01 00:00:00, 2006-03-02 00:00:00, 2006-03-03 00:00:00, 2006-03-04 00:00:00, 2006-03-05 00:00:00, 2006-03-06 00:00:00, 2006-03-07 00:00:00, 2006-03-08 00:00:00, 2006-03-09 00:00:00, ...], [u'ACME', u'ADAX', u'BEAV']]\n",
      "INFO:solar.analyze.model:Test input indices: [[2008-12-29 00:00:00, 2008-12-30 00:00:00, 2008-12-31 00:00:00, 2009-01-01 00:00:00, 2009-01-02 00:00:00, 2009-01-03 00:00:00, 2009-01-04 00:00:00, 2009-01-05 00:00:00, 2009-01-06 00:00:00, 2009-01-07 00:00:00, 2009-01-08 00:00:00, 2009-01-09 00:00:00, 2009-01-10 00:00:00, 2009-01-11 00:00:00, 2009-01-12 00:00:00, 2009-01-13 00:00:00, 2009-01-14 00:00:00, 2009-01-15 00:00:00, 2009-01-16 00:00:00, 2009-01-17 00:00:00, 2009-01-18 00:00:00, 2009-01-19 00:00:00, 2009-01-20 00:00:00, 2009-01-21 00:00:00, 2009-01-22 00:00:00, 2009-01-23 00:00:00, 2009-01-24 00:00:00, 2009-01-25 00:00:00, 2009-01-26 00:00:00, 2009-01-27 00:00:00, 2009-01-28 00:00:00, 2009-01-29 00:00:00, 2009-01-30 00:00:00, 2009-01-31 00:00:00, 2009-02-01 00:00:00, 2009-02-02 00:00:00, 2009-02-03 00:00:00, 2009-02-04 00:00:00], [u'ACME', u'ADAX', u'BEAV']]\n",
      "INFO:solar.analyze.model:Model name: <class 'sklearn.linear_model.ridge.Ridge'>\n",
      "INFO:solar.analyze.model:Params: {'alpha': array([  1.00000000e-03,   3.72759372e-03,   1.38949549e-02,\n",
      "         5.17947468e-02,   1.93069773e-01,   7.19685673e-01,\n",
      "         2.68269580e+00,   1.00000000e+01])}\n",
      "INFO:solar.analyze.model:CV splits: 10\n",
      "INFO:solar.analyze.model:Error formula: mean_absolute_error\n",
      "INFO:solar.analyze.model:Model params: {'normalize': True}\n",
      "INFO:solar.analyze.model:Best score: -6728349.98029\n",
      "INFO:solar.analyze.model:Best params: {'alpha': 0.001}\n",
      "INFO:solar.analyze.model:Best estimator: Ridge(alpha=0.001, copy_X=True, fit_intercept=True, max_iter=None,\n",
      "   normalize=True, random_state=None, solver='auto', tol=0.001)\n"
     ]
    }
   ],
   "source": [
    "reload(solar.analyze.model)\n",
    "import numpy as np\n",
    "from solar.analyze.model import Model\n",
    "\n",
    "from sklearn.linear_model import Ridge\n",
    "from sklearn import metrics\n",
    "\n",
    "error_formula = 'mean_absolute_error'\n",
    "cv_splits = 10\n",
    "\n",
    "model = Model.model(input_data, Ridge, {'alpha':np.logspace(-3,1,8,base=10)}, cv_splits, \n",
    "                    error_formula, normalize=True)"
   ]
  },
  {
   "cell_type": "code",
   "execution_count": null,
   "metadata": {
    "collapsed": false
   },
   "outputs": [],
   "source": [
    "reload(solar.report.submission)\n",
    "from solar.report.submission import Submission\n",
    "\n",
    "preds = Submission.make_submission_file(model, input_data[1], input_data[2], {'grid'})"
   ]
  },
  {
   "cell_type": "code",
   "execution_count": null,
   "metadata": {
    "collapsed": false
   },
   "outputs": [],
   "source": [
    "import pandas as pd\n",
    "import numpy as np\n",
    "import matplotlib.pyplot as plt\n",
    "import seaborn as sns\n",
    "%matplotlib inline"
   ]
  },
  {
   "cell_type": "code",
   "execution_count": null,
   "metadata": {
    "collapsed": true
   },
   "outputs": [],
   "source": [
    "# here we set some aesthetic parameters so that all of our figures are nice and big\n",
    "plt.rcParams['figure.figsize'] = (8, 6)\n",
    "plt.rcParams['font.size'] = 14\n",
    "sns.set(style=\"white\", context=\"talk\")"
   ]
  },
  {
   "cell_type": "code",
   "execution_count": null,
   "metadata": {
    "collapsed": false
   },
   "outputs": [],
   "source": [
    "y_pred = model.predict(input_data[0])"
   ]
  },
  {
   "cell_type": "code",
   "execution_count": null,
   "metadata": {
    "collapsed": false
   },
   "outputs": [],
   "source": [
    "errors = abs(y_pred - input_data[1])/input_data[1]"
   ]
  },
  {
   "cell_type": "code",
   "execution_count": null,
   "metadata": {
    "collapsed": false
   },
   "outputs": [],
   "source": [
    "#sns.distplot(errors, rug=True)"
   ]
  },
  {
   "cell_type": "code",
   "execution_count": null,
   "metadata": {
    "collapsed": false
   },
   "outputs": [],
   "source": [
    "#input_data[0].shape"
   ]
  },
  {
   "cell_type": "code",
   "execution_count": null,
   "metadata": {
    "collapsed": false
   },
   "outputs": [],
   "source": [
    "#errors.shape"
   ]
  },
  {
   "cell_type": "code",
   "execution_count": null,
   "metadata": {
    "collapsed": false
   },
   "outputs": [],
   "source": [
    "#input_data[0][(errors > 0.8).values]"
   ]
  },
  {
   "cell_type": "code",
   "execution_count": null,
   "metadata": {
    "collapsed": false
   },
   "outputs": [],
   "source": [
    "#input_data[1][(errors > 0.8).values]"
   ]
  },
  {
   "cell_type": "code",
   "execution_count": null,
   "metadata": {
    "collapsed": false
   },
   "outputs": [],
   "source": [
    "#pd.DataFrame(y_pred, index=input_data[1].index, columns=input_data[1].columns)[(errors > 0.8).values]"
   ]
  },
  {
   "cell_type": "code",
   "execution_count": null,
   "metadata": {
    "collapsed": false
   },
   "outputs": [],
   "source": [
    "#max(errors.values)"
   ]
  },
  {
   "cell_type": "code",
   "execution_count": null,
   "metadata": {
    "collapsed": false
   },
   "outputs": [],
   "source": [
    "#unstacked = input_data[0].stack('time').stack('model').stack('variable').stack('lat_longs').reset_index('model').reset_index('time').reset_index('variable').reset_index('lat_longs')"
   ]
  },
  {
   "cell_type": "code",
   "execution_count": null,
   "metadata": {
    "collapsed": false
   },
   "outputs": [],
   "source": [
    "#dswrf = unstacked[(unstacked['lat_longs'] == 'NE') & (unstacked['variable'] == 'dswrf_sfc') & (unstacked['time'] == 21)\n",
    "#         & (unstacked['model'] == 0)]['relative']"
   ]
  },
  {
   "cell_type": "code",
   "execution_count": null,
   "metadata": {
    "collapsed": false
   },
   "outputs": [],
   "source": [
    "#pd.DataFrame(dswrf).reset_index('station').rename(columns={'station':'location'}).unstack('location').set_index('location')"
   ]
  },
  {
   "cell_type": "code",
   "execution_count": null,
   "metadata": {
    "collapsed": false
   },
   "outputs": [],
   "source": [
    "#dswrf"
   ]
  },
  {
   "cell_type": "code",
   "execution_count": null,
   "metadata": {
    "collapsed": false
   },
   "outputs": [],
   "source": [
    "#pd.concat((errors,dswrf))"
   ]
  },
  {
   "cell_type": "code",
   "execution_count": null,
   "metadata": {
    "collapsed": false
   },
   "outputs": [],
   "source": [
    "#pd.concat([dswrf,errors])"
   ]
  },
  {
   "cell_type": "code",
   "execution_count": null,
   "metadata": {
    "collapsed": true
   },
   "outputs": [],
   "source": [
    "#sns.jointplot(\"total_solar\",\"dswrf\", data=drinks[(drinks.beer < 100) & (drinks.wine < 30)] , kind = \"kde\")"
   ]
  },
  {
   "cell_type": "code",
   "execution_count": null,
   "metadata": {
    "collapsed": false
   },
   "outputs": [],
   "source": [
    "#import netCDF4 as nc\n",
    "#X = nc.Dataset('solar/data/kaggle_solar/train/dswrf_sfc_latlon_subset_19940101_20071231.nc','r+').variables.values()\n",
    "#X[-1][0:10,0,2:3,:,:]"
   ]
  },
  {
   "cell_type": "code",
   "execution_count": null,
   "metadata": {
    "collapsed": true
   },
   "outputs": [],
   "source": [
    "# This just uses the station_names as another feature\n",
    "stat_names = {'type':'station_names'}\n",
    "stat_feats = [stat_names]"
   ]
  },
  {
   "cell_type": "markdown",
   "metadata": {},
   "source": [
    "### Next, we start to layout the features to include. The two most important (and complicated) are 'absolute', which just reports out the weather variables at specific GEFS, times, and models, and 'relative' which uses a grid to identify nearby GEFS for weather measurements based on the location of the station. The second option makes the most sense when using the station_layout above, but it will work with either layout."
   ]
  },
  {
   "cell_type": "code",
   "execution_count": null,
   "metadata": {
    "collapsed": false
   },
   "outputs": [],
   "source": [
    "# A very simple model would just take the average value of all variables at all locations, using all models over the\n",
    "# course of the day. Here, only the var parameter and one value of the model is expanded. \n",
    "# All of the other axes are aggregated using an aggregation function. In this case, the mean value. \n",
    "# This will provide a 15 aggregated columns for model 0 and 15 aggregated columns for the mean of models 1 though 10.\n",
    "# In this case, setting station_layout to false would make the most sense because the measurements will be repeated\n",
    "# for each station. However, for consistency in this walkthough, I will just keep it in the station_layout.\n",
    "\n",
    "# Dimensions without aggregation\n",
    "\n",
    "# Use all variables\n",
    "var = ['all']\n",
    "\n",
    "# Keep model 0 (the default model) as a column for each of the variables (aggregated over other dimensions)\n",
    "model1 = [0]\n",
    "\n",
    "# Dimensions with aggregation\n",
    "\n",
    "# Aggregate over all other models (excluding model 0, which is used directly)\n",
    "model2 = range(1,11)\n",
    "\n",
    "# Aggregate over all times\n",
    "times = ['all']\n",
    "\n",
    "# Aggregate over all latitudes which surround Mesonet stations (exclude those that are outside of the main grid)\n",
    "lats = range(33,38)\n",
    "\n",
    "# Same as for lats\n",
    "longs = range(257,267)\n",
    "\n",
    "all_avgs = {'type':'absolute', 'full_axes':{'var':var, 'models':model1}, \n",
    "            'agg_axes':{'models':[model2,[np.mean]], 'times':[times, [np.mean, np.sum]], 'lats':[lats,[np.median]],\n",
    "                        'longs':[longs,[np.median]]}}\n",
    "\n",
    "avgs_feats = [all_avgs]"
   ]
  },
  {
   "cell_type": "code",
   "execution_count": null,
   "metadata": {
    "collapsed": false
   },
   "outputs": [],
   "source": [
    "# A similar example using a surrounding grid for each station. There are no lat or long options for this type of\n",
    "# feature set\n",
    "\n",
    "# Dimensions without aggregation\n",
    "\n",
    "# Use all variables\n",
    "var = ['all']\n",
    "\n",
    "# Keep model 0 (the default model) as a column for each of the variables (aggregated over other dimensions)\n",
    "model1 = [0]\n",
    "\n",
    "# Dimensions with aggregation\n",
    "\n",
    "# Aggregate over all other models (excluding model 0, which is used directly)\n",
    "model2 = range(1,11)\n",
    "\n",
    "# Aggregate over all times\n",
    "times = ['all']\n",
    "\n",
    "# Create a column for each member of the grid. All or nothing for gefs now. Could specify but currently see no need\n",
    "# for it. We could also take an aggregate measure of the gefs (including interpolate). That doesn't work for the\n",
    "# other dimensions\n",
    "\n",
    "gefs = ['all']\n",
    "\n",
    "grid_avgs = {'type':'relative', 'full_axes':{'var':var, 'models':model1, 'gefs':gefs}, \n",
    "            'agg_axes':{'models':[model2,[np.mean]], 'times':[times, [np.mean, np.sum]]}}\n",
    "\n",
    "grid_feats = [grid_avgs]"
   ]
  },
  {
   "cell_type": "code",
   "execution_count": null,
   "metadata": {
    "collapsed": true
   },
   "outputs": [],
   "source": [
    "# A similar example using a surrounding grid for each station. Now, just average over the grid\n",
    "\n",
    "# Dimensions without aggregation\n",
    "\n",
    "# Use all variables\n",
    "var = ['all']\n",
    "\n",
    "# Keep model 0 (the default model) as a column for each of the variables (aggregated over other dimensions)\n",
    "model1 = [0]\n",
    "\n",
    "# Dimensions with aggregation\n",
    "\n",
    "# Aggregate over all other models (excluding model 0, which is used directly)\n",
    "model2 = range(1,11)\n",
    "\n",
    "# Aggregate over all times\n",
    "times = ['all']\n",
    "\n",
    "# Create a column for each member of the grid. All or nothing for gefs now. Could specify but currently see no need\n",
    "# for it. We could also take an aggregate measure of the gefs (including interpolate). That doesn't work for the\n",
    "# other dimensions\n",
    "\n",
    "gefs = ['all']\n",
    "\n",
    "grid_avgs = {'type':'relative', 'full_axes':{'var':var, 'models':model1}, \n",
    "            'agg_axes':{'models':[model2,[np.mean]], 'times':[times, [np.mean, np.sum]], 'gefs':[gefs, [np.mean]]}}\n",
    "\n",
    "gefs_mean_feats = [grid_avgs]"
   ]
  },
  {
   "cell_type": "code",
   "execution_count": 14,
   "metadata": {
    "collapsed": true
   },
   "outputs": [],
   "source": [
    "# This just uses the station_names as another feature\n",
    "stat_names = {'type':'station_names'}\n",
    "stat_feats = [stat_names]"
   ]
  },
  {
   "cell_type": "code",
   "execution_count": 15,
   "metadata": {
    "collapsed": true
   },
   "outputs": [],
   "source": [
    "frac_dist = {'type':'frac_dist'}\n",
    "dist_feats = [frac_dist]"
   ]
  },
  {
   "cell_type": "code",
   "execution_count": 52,
   "metadata": {
    "collapsed": false
   },
   "outputs": [
    {
     "name": "stderr",
     "output_type": "stream",
     "text": [
      "INFO:solar.wrangle.wrangle:Started building test and training data\n",
      "INFO:solar.wrangle.wrangle:Features: [{'type': 'frac_dist'}]\n",
      "INFO:solar.wrangle.wrangle:Finished building test and training data\n"
     ]
    },
    {
     "name": "stdout",
     "output_type": "stream",
     "text": [
      "log/log_2016-02-06-16-04-32.log\n"
     ]
    }
   ],
   "source": [
    "# if I am modifying code for any of these pythons\n",
    "reload(solar.wrangle.wrangle)\n",
    "reload(solar.wrangle.subset)\n",
    "reload(solar.wrangle.engineer)\n",
    "from solar.wrangle.wrangle import SolarData\n",
    "\n",
    "dist_data = SolarData.load(Xtrain_dir, ytrain_file, Xtest_dir, station_file, \\\n",
    "                                  train_dates, test_dates, station, \\\n",
    "                                  station_layout, dist_feats)"
   ]
  },
  {
   "cell_type": "code",
   "execution_count": 16,
   "metadata": {
    "collapsed": true
   },
   "outputs": [],
   "source": [
    "days_solstice = {'type':'days_from_solstice'}\n",
    "days_cold = {'type':'days_from_coldest'}\n",
    "days_feats = [days_solstice, days_cold]"
   ]
  },
  {
   "cell_type": "code",
   "execution_count": null,
   "metadata": {
    "collapsed": false
   },
   "outputs": [],
   "source": [
    "# if I am modifying code for any of these pythons\n",
    "reload(solar.wrangle.wrangle)\n",
    "reload(solar.wrangle.subset)\n",
    "reload(solar.wrangle.engineer)\n",
    "from solar.wrangle.wrangle import SolarData\n",
    "\n",
    "dist_data = SolarData.load(Xtrain_dir, ytrain_file, Xtest_dir, station_file, \\\n",
    "                                  train_dates, test_dates, station, \\\n",
    "                                  station_layout, days_feats)"
   ]
  },
  {
   "cell_type": "code",
   "execution_count": 30,
   "metadata": {
    "collapsed": false
   },
   "outputs": [],
   "source": [
    "all_feats = [frac_dist, days_cold, days_solstice, default_grid, stat_names]"
   ]
  },
  {
   "cell_type": "code",
   "execution_count": 29,
   "metadata": {
    "collapsed": false
   },
   "outputs": [
    {
     "name": "stderr",
     "output_type": "stream",
     "text": [
      "INFO:solar.wrangle.wrangle:Started building test and training data\n",
      "INFO:solar.wrangle.wrangle:Features: [{'type': 'frac_dist'}, {'type': 'days_from_coldest'}, {'type': 'days_from_solstice'}, {'axes': {'var': ['all'], 'models': [0], 'station': ['all'], 'times': [12, 15, 18, 21, 24]}, 'type': 'relative'}]\n",
      "INFO:solar.wrangle.wrangle:Train dates: ['1994-01-01', '2007-12-31']\n",
      "INFO:solar.wrangle.wrangle:Test dates: ['2008-01-01', '2012-11-30']\n",
      "INFO:solar.wrangle.wrangle:Stations: ['all']\n",
      "INFO:solar.wrangle.wrangle:Finished building test and training data\n"
     ]
    }
   ],
   "source": [
    "# if I am modifying code for any of these pythons\n",
    "reload(solar.wrangle.wrangle)\n",
    "reload(solar.wrangle.subset)\n",
    "reload(solar.wrangle.engineer)\n",
    "from solar.wrangle.wrangle import SolarData\n",
    "\n",
    "all_feats_data = SolarData.load(Xtrain_dir, ytrain_file, Xtest_dir, station_file, \\\n",
    "                                  train_dates, test_dates, station, \\\n",
    "                                  station_layout, all_feats)"
   ]
  },
  {
   "cell_type": "code",
   "execution_count": 62,
   "metadata": {
    "collapsed": false
   },
   "outputs": [
    {
     "name": "stderr",
     "output_type": "stream",
     "text": [
      "INFO:solar.analyze.model:Started building model\n",
      "INFO:solar.analyze.model:Train input columns: MultiIndex(levels=[[u'days_from_coldest', u'days_from_solstice', u'frac_dist', u'relative'], [0, u'from_coldest', u'from_solstice', u'lat_dist', u'long_dist']],\n",
      "           labels=[[2, 2, 0, 1, 3, 3, 3, 3, 3, 3, 3, 3, 3, 3, 3, 3, 3, 3, 3, 3, 3, 3, 3, 3, 3, 3, 3, 3, 3, 3, 3, 3, 3, 3, 3, 3, 3, 3, 3, 3, 3, 3, 3, 3, 3, 3, 3, 3, 3, 3, 3, 3, 3, 3, 3, 3, 3, 3, 3, 3, 3, 3, 3, 3, 3, 3, 3, 3, 3, 3, 3, 3, 3, 3, 3, 3, 3, 3, 3, 3, 3, 3, 3, 3, 3, 3, 3, 3, 3, 3, 3, 3, 3, 3, 3, 3, 3, 3, 3, 3, 3, 3, 3, 3, 3, 3, 3, 3, 3, 3, 3, 3, 3, 3, 3, 3, 3, 3, 3, 3, 3, 3, 3, 3, 3, 3, 3, 3, 3, 3, 3, 3, 3, 3, 3, 3, 3, 3, 3, 3, 3, 3, 3, 3, 3, 3, 3, 3, 3, 3, 3, 3, 3, 3, 3, 3, 3, 3, 3, 3, 3, 3, 3, 3, 3, 3, 3, 3, 3, 3, 3, 3, 3, 3, 3, 3, 3, 3, 3, 3, 3, 3, 3, 3, 3, 3, 3, 3, 3, 3, 3, 3, 3, 3, 3, 3, 3, 3, 3, 3, 3, 3, 3, 3, 3, 3, 3, 3, 3, 3, 3, 3, 3, 3, 3, 3, 3, 3, 3, 3, 3, 3, 3, 3, 3, 3, 3, 3, 3, 3, 3, 3, 3, 3, 3, 3, 3, 3, 3, 3, 3, 3, 3, 3, 3, 3, 3, 3, 3, 3, 3, 3, 3, 3, 3, 3, 3, 3, 3, 3, 3, 3, 3, 3, 3, 3, 3, 3, 3, 3, 3, 3, 3, 3, 3, 3, 3, 3, 3, 3, 3, 3, 3, 3, 3, 3, 3, 3, 3, 3, 3, 3, 3, 3, 3, 3, 3, 3, 3, 3, 3, 3, 3, 3], [3, 4, 1, 2, 0, 0, 0, 0, 0, 0, 0, 0, 0, 0, 0, 0, 0, 0, 0, 0, 0, 0, 0, 0, 0, 0, 0, 0, 0, 0, 0, 0, 0, 0, 0, 0, 0, 0, 0, 0, 0, 0, 0, 0, 0, 0, 0, 0, 0, 0, 0, 0, 0, 0, 0, 0, 0, 0, 0, 0, 0, 0, 0, 0, 0, 0, 0, 0, 0, 0, 0, 0, 0, 0, 0, 0, 0, 0, 0, 0, 0, 0, 0, 0, 0, 0, 0, 0, 0, 0, 0, 0, 0, 0, 0, 0, 0, 0, 0, 0, 0, 0, 0, 0, 0, 0, 0, 0, 0, 0, 0, 0, 0, 0, 0, 0, 0, 0, 0, 0, 0, 0, 0, 0, 0, 0, 0, 0, 0, 0, 0, 0, 0, 0, 0, 0, 0, 0, 0, 0, 0, 0, 0, 0, 0, 0, 0, 0, 0, 0, 0, 0, 0, 0, 0, 0, 0, 0, 0, 0, 0, 0, 0, 0, 0, 0, 0, 0, 0, 0, 0, 0, 0, 0, 0, 0, 0, 0, 0, 0, 0, 0, 0, 0, 0, 0, 0, 0, 0, 0, 0, 0, 0, 0, 0, 0, 0, 0, 0, 0, 0, 0, 0, 0, 0, 0, 0, 0, 0, 0, 0, 0, 0, 0, 0, 0, 0, 0, 0, 0, 0, 0, 0, 0, 0, 0, 0, 0, 0, 0, 0, 0, 0, 0, 0, 0, 0, 0, 0, 0, 0, 0, 0, 0, 0, 0, 0, 0, 0, 0, 0, 0, 0, 0, 0, 0, 0, 0, 0, 0, 0, 0, 0, 0, 0, 0, 0, 0, 0, 0, 0, 0, 0, 0, 0, 0, 0, 0, 0, 0, 0, 0, 0, 0, 0, 0, 0, 0, 0, 0, 0, 0, 0, 0, 0, 0, 0, 0, 0, 0, 0, 0, 0, 0]],\n",
      "           names=[None, u'dist_ind'])\n",
      "INFO:solar.analyze.model:Train input indices: [[1994-01-01 00:00:00, 1994-01-02 00:00:00, 1994-01-03 00:00:00, 1994-01-04 00:00:00, 1994-01-05 00:00:00, 1994-01-06 00:00:00, 1994-01-07 00:00:00, 1994-01-08 00:00:00, 1994-01-09 00:00:00, 1994-01-10 00:00:00, 1994-01-11 00:00:00, 1994-01-12 00:00:00, 1994-01-13 00:00:00, 1994-01-14 00:00:00, 1994-01-15 00:00:00, 1994-01-16 00:00:00, 1994-01-17 00:00:00, 1994-01-18 00:00:00, 1994-01-19 00:00:00, 1994-01-20 00:00:00, 1994-01-21 00:00:00, 1994-01-22 00:00:00, 1994-01-23 00:00:00, 1994-01-24 00:00:00, 1994-01-25 00:00:00, 1994-01-26 00:00:00, 1994-01-27 00:00:00, 1994-01-28 00:00:00, 1994-01-29 00:00:00, 1994-01-30 00:00:00, 1994-01-31 00:00:00, 1994-02-01 00:00:00, 1994-02-02 00:00:00, 1994-02-03 00:00:00, 1994-02-04 00:00:00, 1994-02-05 00:00:00, 1994-02-06 00:00:00, 1994-02-07 00:00:00, 1994-02-08 00:00:00, 1994-02-09 00:00:00, 1994-02-10 00:00:00, 1994-02-11 00:00:00, 1994-02-12 00:00:00, 1994-02-13 00:00:00, 1994-02-14 00:00:00, 1994-02-15 00:00:00, 1994-02-16 00:00:00, 1994-02-17 00:00:00, 1994-02-18 00:00:00, 1994-02-19 00:00:00, 1994-02-20 00:00:00, 1994-02-21 00:00:00, 1994-02-22 00:00:00, 1994-02-23 00:00:00, 1994-02-24 00:00:00, 1994-02-25 00:00:00, 1994-02-26 00:00:00, 1994-02-27 00:00:00, 1994-02-28 00:00:00, 1994-03-01 00:00:00, 1994-03-02 00:00:00, 1994-03-03 00:00:00, 1994-03-04 00:00:00, 1994-03-05 00:00:00, 1994-03-06 00:00:00, 1994-03-07 00:00:00, 1994-03-08 00:00:00, 1994-03-09 00:00:00, 1994-03-10 00:00:00, 1994-03-11 00:00:00, 1994-03-12 00:00:00, 1994-03-13 00:00:00, 1994-03-14 00:00:00, 1994-03-15 00:00:00, 1994-03-16 00:00:00, 1994-03-17 00:00:00, 1994-03-18 00:00:00, 1994-03-19 00:00:00, 1994-03-20 00:00:00, 1994-03-21 00:00:00, 1994-03-22 00:00:00, 1994-03-23 00:00:00, 1994-03-24 00:00:00, 1994-03-25 00:00:00, 1994-03-26 00:00:00, 1994-03-27 00:00:00, 1994-03-28 00:00:00, 1994-03-29 00:00:00, 1994-03-30 00:00:00, 1994-03-31 00:00:00, 1994-04-01 00:00:00, 1994-04-02 00:00:00, 1994-04-03 00:00:00, 1994-04-04 00:00:00, 1994-04-05 00:00:00, 1994-04-06 00:00:00, 1994-04-07 00:00:00, 1994-04-08 00:00:00, 1994-04-09 00:00:00, 1994-04-10 00:00:00, ...], [u'ACME', u'ADAX', u'ALTU', u'APAC', u'ARNE', u'BEAV', u'BESS', u'BIXB', u'BLAC', u'BOIS', u'BOWL', u'BREC', u'BRIS', u'BUFF', u'BURB', u'BURN', u'BUTL', u'BYAR', u'CAMA', u'CENT', u'CHAN', u'CHER', u'CHEY', u'CHIC', u'CLAY', u'CLOU', u'COOK', u'COPA', u'DURA', u'ELRE', u'ERIC', u'EUFA', u'FAIR', u'FORA', u'FREE', u'FTCB', u'GOOD', u'GUTH', u'HASK', u'HINT', u'HOBA', u'HOLL', u'HOOK', u'HUGO', u'IDAB', u'JAYX', u'KENT', u'KETC', u'LAHO', u'LANE', u'MADI', u'MANG', u'MARE', u'MAYR', u'MCAL', u'MEDF', u'MEDI', u'MIAM', u'MINC', u'MTHE', u'NEWK', u'NINN', u'NOWA', u'OILT', u'OKEM', u'OKMU', u'PAUL', u'PAWN', u'PERK', u'PRYO', u'PUTN', u'REDR', u'RETR', u'RING', u'SALL', u'SEIL', u'SHAW', u'SKIA', u'SLAP', u'SPEN', u'STIG', u'STIL', u'STUA', u'SULP', u'TAHL', u'TALI', u'TIPT', u'TISH', u'VINI', u'WASH', u'WATO', u'WAUR', u'WEAT', u'WEST', u'WILB', u'WIST', u'WOOD', u'WYNO']]\n",
      "INFO:solar.analyze.model:Test input indices: [[2008-01-01 00:00:00, 2008-01-02 00:00:00, 2008-01-03 00:00:00, 2008-01-04 00:00:00, 2008-01-05 00:00:00, 2008-01-06 00:00:00, 2008-01-07 00:00:00, 2008-01-08 00:00:00, 2008-01-09 00:00:00, 2008-01-10 00:00:00, 2008-01-11 00:00:00, 2008-01-12 00:00:00, 2008-01-13 00:00:00, 2008-01-14 00:00:00, 2008-01-15 00:00:00, 2008-01-16 00:00:00, 2008-01-17 00:00:00, 2008-01-18 00:00:00, 2008-01-19 00:00:00, 2008-01-20 00:00:00, 2008-01-21 00:00:00, 2008-01-22 00:00:00, 2008-01-23 00:00:00, 2008-01-24 00:00:00, 2008-01-25 00:00:00, 2008-01-26 00:00:00, 2008-01-27 00:00:00, 2008-01-28 00:00:00, 2008-01-29 00:00:00, 2008-01-30 00:00:00, 2008-01-31 00:00:00, 2008-02-01 00:00:00, 2008-02-02 00:00:00, 2008-02-03 00:00:00, 2008-02-04 00:00:00, 2008-02-05 00:00:00, 2008-02-06 00:00:00, 2008-02-07 00:00:00, 2008-02-08 00:00:00, 2008-02-09 00:00:00, 2008-02-10 00:00:00, 2008-02-11 00:00:00, 2008-02-12 00:00:00, 2008-02-13 00:00:00, 2008-02-14 00:00:00, 2008-02-15 00:00:00, 2008-02-16 00:00:00, 2008-02-17 00:00:00, 2008-02-18 00:00:00, 2008-02-19 00:00:00, 2008-02-20 00:00:00, 2008-02-21 00:00:00, 2008-02-22 00:00:00, 2008-02-23 00:00:00, 2008-02-24 00:00:00, 2008-02-25 00:00:00, 2008-02-26 00:00:00, 2008-02-27 00:00:00, 2008-02-28 00:00:00, 2008-02-29 00:00:00, 2008-03-01 00:00:00, 2008-03-02 00:00:00, 2008-03-03 00:00:00, 2008-03-04 00:00:00, 2008-03-05 00:00:00, 2008-03-06 00:00:00, 2008-03-07 00:00:00, 2008-03-08 00:00:00, 2008-03-09 00:00:00, 2008-03-10 00:00:00, 2008-03-11 00:00:00, 2008-03-12 00:00:00, 2008-03-13 00:00:00, 2008-03-14 00:00:00, 2008-03-15 00:00:00, 2008-03-16 00:00:00, 2008-03-17 00:00:00, 2008-03-18 00:00:00, 2008-03-19 00:00:00, 2008-03-20 00:00:00, 2008-03-21 00:00:00, 2008-03-22 00:00:00, 2008-03-23 00:00:00, 2008-03-24 00:00:00, 2008-03-25 00:00:00, 2008-03-26 00:00:00, 2008-03-27 00:00:00, 2008-03-28 00:00:00, 2008-03-29 00:00:00, 2008-03-30 00:00:00, 2008-03-31 00:00:00, 2008-04-01 00:00:00, 2008-04-02 00:00:00, 2008-04-03 00:00:00, 2008-04-04 00:00:00, 2008-04-05 00:00:00, 2008-04-06 00:00:00, 2008-04-07 00:00:00, 2008-04-08 00:00:00, 2008-04-09 00:00:00, ...], [u'ACME', u'ADAX', u'ALTU', u'APAC', u'ARNE', u'BEAV', u'BESS', u'BIXB', u'BLAC', u'BOIS', u'BOWL', u'BREC', u'BRIS', u'BUFF', u'BURB', u'BURN', u'BUTL', u'BYAR', u'CAMA', u'CENT', u'CHAN', u'CHER', u'CHEY', u'CHIC', u'CLAY', u'CLOU', u'COOK', u'COPA', u'DURA', u'ELRE', u'ERIC', u'EUFA', u'FAIR', u'FORA', u'FREE', u'FTCB', u'GOOD', u'GUTH', u'HASK', u'HINT', u'HOBA', u'HOLL', u'HOOK', u'HUGO', u'IDAB', u'JAYX', u'KENT', u'KETC', u'LAHO', u'LANE', u'MADI', u'MANG', u'MARE', u'MAYR', u'MCAL', u'MEDF', u'MEDI', u'MIAM', u'MINC', u'MTHE', u'NEWK', u'NINN', u'NOWA', u'OILT', u'OKEM', u'OKMU', u'PAUL', u'PAWN', u'PERK', u'PRYO', u'PUTN', u'REDR', u'RETR', u'RING', u'SALL', u'SEIL', u'SHAW', u'SKIA', u'SLAP', u'SPEN', u'STIG', u'STIL', u'STUA', u'SULP', u'TAHL', u'TALI', u'TIPT', u'TISH', u'VINI', u'WASH', u'WATO', u'WAUR', u'WEAT', u'WEST', u'WILB', u'WIST', u'WOOD', u'WYNO']]\n",
      "INFO:solar.analyze.model:Model name: <class 'sklearn.linear_model.ridge.Ridge'>\n",
      "INFO:solar.analyze.model:Params: {'alpha': array([  1.00000000e-05,   2.68269580e-05,   7.19685673e-05,\n",
      "         1.93069773e-04,   5.17947468e-04,   1.38949549e-03,\n",
      "         3.72759372e-03,   1.00000000e-02])}\n",
      "INFO:solar.analyze.model:CV splits: 10\n",
      "INFO:solar.analyze.model:Error formula: mean_absolute_error\n",
      "INFO:solar.analyze.model:Model params: {'normalize': True, 'random_state': 1}\n",
      "INFO:solar.analyze.model:Best score: -2305168.55344\n",
      "INFO:solar.analyze.model:Best params: {'alpha': 0.00019306977288832496}\n",
      "INFO:solar.analyze.model:Best estimator: Ridge(alpha=0.00019306977288832496, copy_X=True, fit_intercept=True,\n",
      "   max_iter=None, normalize=True, random_state=1, solver='auto', tol=0.001)\n"
     ]
    }
   ],
   "source": [
    "reload(solar.analyze.model)\n",
    "import numpy as np\n",
    "from solar.analyze.model import Model\n",
    "\n",
    "from sklearn.linear_model import Ridge\n",
    "from sklearn import metrics\n",
    "\n",
    "error_formula = 'mean_absolute_error'\n",
    "cv_splits = 10\n",
    "\n",
    "model = Model.model(all_feats_data, Ridge, {'alpha':np.logspace(-5,-2,8,base=10)}, cv_splits, \n",
    "                    error_formula, normalize=True, random_state=1)"
   ]
  },
  {
   "cell_type": "code",
   "execution_count": 61,
   "metadata": {
    "collapsed": false
   },
   "outputs": [
    {
     "ename": "IOError",
     "evalue": "[Errno 2] No such file or directory: 'solar/data/kaggle_solar/inputs/input_2016-02-06-15-38-35.p'",
     "output_type": "error",
     "traceback": [
      "\u001b[0;31m---------------------------------------------------------------------------\u001b[0m",
      "\u001b[0;31mIOError\u001b[0m                                   Traceback (most recent call last)",
      "\u001b[0;32m<ipython-input-61-c86824bb2794>\u001b[0m in \u001b[0;36m<module>\u001b[0;34m()\u001b[0m\n\u001b[1;32m     10\u001b[0m \u001b[0;34m\u001b[0m\u001b[0m\n\u001b[1;32m     11\u001b[0m model = Model.model_from_pickle('input_2016-02-06-15-38-35.p', Ridge, {'alpha':np.logspace(5,10,10,base=10)}, cv_splits, \n\u001b[0;32m---> 12\u001b[0;31m                     error_formula, normalize=True, random_state=1)\n\u001b[0m",
      "\u001b[0;32m/Users/Joel/Desktop/ga/ga_project/solar/analyze/model.pyc\u001b[0m in \u001b[0;36mmodel_from_pickle\u001b[0;34m(pickle_name, model_name, param_dict, cv_splits, err_formula, extern, **model_params)\u001b[0m\n\u001b[1;32m     54\u001b[0m             \u001b[0mpickle_file\u001b[0m \u001b[0;34m=\u001b[0m \u001b[0;34m'solar/data/kaggle_solar/inputs/'\u001b[0m \u001b[0;34m+\u001b[0m \u001b[0mpickle_name\u001b[0m\u001b[0;34m\u001b[0m\u001b[0m\n\u001b[1;32m     55\u001b[0m \u001b[0;34m\u001b[0m\u001b[0m\n\u001b[0;32m---> 56\u001b[0;31m         \u001b[0minput_data\u001b[0m \u001b[0;34m=\u001b[0m \u001b[0mpickle\u001b[0m\u001b[0;34m.\u001b[0m\u001b[0mload\u001b[0m\u001b[0;34m(\u001b[0m\u001b[0mopen\u001b[0m\u001b[0;34m(\u001b[0m\u001b[0mpickle_file\u001b[0m\u001b[0;34m,\u001b[0m \u001b[0;34m'rb'\u001b[0m\u001b[0;34m)\u001b[0m\u001b[0;34m)\u001b[0m\u001b[0;34m\u001b[0m\u001b[0m\n\u001b[0m\u001b[1;32m     57\u001b[0m         return Model.model(input_data, model_name, param_dict, cv_splits,\n\u001b[1;32m     58\u001b[0m                            err_formula, **model_params)\n",
      "\u001b[0;31mIOError\u001b[0m: [Errno 2] No such file or directory: 'solar/data/kaggle_solar/inputs/input_2016-02-06-15-38-35.p'"
     ]
    }
   ],
   "source": [
    "reload(solar.analyze.model)\n",
    "import numpy as np\n",
    "from solar.analyze.model import Model\n",
    "\n",
    "from sklearn.linear_model import Ridge\n",
    "from sklearn import metrics\n",
    "\n",
    "error_formula = 'mean_absolute_error'\n",
    "cv_splits = 10\n",
    "\n",
    "model = Model.model_from_pickle('input_2016-02-06-15-38-35.p', Ridge, {'alpha':np.logspace(5,10,10,base=10)}, cv_splits, \n",
    "                    error_formula, normalize=True, random_state=1)"
   ]
  },
  {
   "cell_type": "code",
   "execution_count": 60,
   "metadata": {
    "collapsed": false
   },
   "outputs": [
    {
     "name": "stderr",
     "output_type": "stream",
     "text": [
      "INFO:solar.report.submission:Started building submission file\n",
      "INFO:solar.report.submission:Finished building submission file\n"
     ]
    },
    {
     "name": "stdout",
     "output_type": "stream",
     "text": [
      "                   frac_dist           days_from_coldest days_from_solstice  \\\n",
      "dist_ind            lat_dist long_dist      from_coldest      from_solstice   \n",
      "test_dates station                                                            \n",
      "2008-01-01 ACME      0.80833   0.97675                 3                 11   \n",
      "           ADAX      0.79851   0.33091                 3                 11   \n",
      "           ALTU      0.58722   0.66192                 3                 11   \n",
      "           APAC      0.91418   0.70784                 3                 11   \n",
      "           ARNE      0.07204   0.09692                 3                 11   \n",
      "           BEAV      0.80253   0.46988                 3                 11   \n",
      "           BESS      0.40185   0.94153                 3                 11   \n",
      "           BIXB      0.96305   0.13379                 3                 11   \n",
      "           BLAC      0.75443   0.74548                 3                 11   \n",
      "           BOIS      0.69256   0.50287                 3                 11   \n",
      "           BOWL      0.17156   0.36879                 3                 11   \n",
      "           BREC      0.41201   0.30606                 3                 11   \n",
      "           BRIS      0.78050   0.64596                 3                 11   \n",
      "           BUFF      0.83129   0.35899                 3                 11   \n",
      "           BURB      0.63459   0.18954                 3                 11   \n",
      "           BURN      0.89376   0.73082                 3                 11   \n",
      "           BUTL      0.59150   0.72941                 3                 11   \n",
      "           BYAR      0.84970   0.99670                 3                 11   \n",
      "           CAMA      0.02866   0.65348                 3                 11   \n",
      "           CENT      0.60896   0.66691                 3                 11   \n",
      "           CHAN      0.65282   0.19593                 3                 11   \n",
      "           CHER      0.74813   0.63726                 3                 11   \n",
      "           CHEY      0.54615   0.27210                 3                 11   \n",
      "           CHIC      0.03236   0.08554                 3                 11   \n",
      "           CLAY      0.65657   0.67404                 3                 11   \n",
      "           CLOU      0.22321   0.75130                 3                 11   \n",
      "           COOK      0.68001   0.15104                 3                 11   \n",
      "           COPA      0.90987   0.11447                 3                 11   \n",
      "           DURA      0.92075   0.67973                 3                 11   \n",
      "           ELRE      0.54848   0.96346                 3                 11   \n",
      "...                      ...       ...               ...                ...   \n",
      "2012-11-30 PERK      0.99865   0.95169                35                 21   \n",
      "           PRYO      0.36914   0.72862                35                 21   \n",
      "           PUTN      0.89904   0.03962                35                 21   \n",
      "           REDR      0.35590   0.84694                35                 21   \n",
      "           RETR      0.12275   0.63999                35                 21   \n",
      "           RING      0.19365   0.41188                35                 21   \n",
      "           SALL      0.43815   0.20195                35                 21   \n",
      "           SEIL      0.19033   0.95970                35                 21   \n",
      "           SHAW      0.36492   0.05178                35                 21   \n",
      "           SKIA      0.41530   0.96294                35                 21   \n",
      "           SLAP      0.59749   0.73808                35                 21   \n",
      "           SPEN      0.54208   0.65854                35                 21   \n",
      "           STIG      0.26527   0.81884                35                 21   \n",
      "           STIL      0.12093   0.90473                35                 21   \n",
      "           STUA      0.87642   0.93018                35                 21   \n",
      "           SULP      0.56610   0.04952                35                 21   \n",
      "           TAHL      0.97235   0.01329                35                 21   \n",
      "           TALI      0.71070   0.98848                35                 21   \n",
      "           TIPT      0.43972   0.86245                35                 21   \n",
      "           TISH      0.33262   0.32105                35                 21   \n",
      "           VINI      0.77536   0.77906                35                 21   \n",
      "           WASH      0.98224   0.47891                35                 21   \n",
      "           WATO      0.84185   0.47385                35                 21   \n",
      "           WAUR      0.16775   0.01185                35                 21   \n",
      "           WEAT      0.50830   0.22491                35                 21   \n",
      "           WEST      0.01100   0.35504                35                 21   \n",
      "           WILB      0.90092   0.65195                35                 21   \n",
      "           WIST      0.98426   0.31222                35                 21   \n",
      "           WOOD      0.42329   0.58318                35                 21   \n",
      "           WYNO      0.51806   0.65778                35                 21   \n",
      "\n",
      "                   relative                                                    \\\n",
      "dist_ind                  0           0  0           0           0          0   \n",
      "test_dates station                                                              \n",
      "2008-01-01 ACME           0  215.338104  0  308.056244  238.413269   3.500000   \n",
      "           ADAX           0  217.338104  0  312.056244  239.413269   3.300000   \n",
      "           ALTU           0  213.338104  0  307.056244  237.413269   3.200000   \n",
      "           APAC           0  215.338104  0  308.056244  238.413269   3.500000   \n",
      "           ARNE           0  203.338104  0  296.056244  231.413269   2.900000   \n",
      "           BEAV           0  199.338104  0  294.056244  230.413269   2.000000   \n",
      "           BESS           0  208.338104  0  300.056244  234.413269   2.800000   \n",
      "           BIXB           0  214.338104  0  306.056244  238.413269   4.200000   \n",
      "           BLAC           0  211.338104  0  299.056244  233.413269   4.800000   \n",
      "           BOIS           0  194.338104  0  284.056244  226.413269   1.800000   \n",
      "           BOWL           0  213.338104  0  305.056244  237.413269   4.100000   \n",
      "           BREC           0  211.338104  0  299.056244  233.413269   4.800000   \n",
      "           BRIS           0  213.338104  0  305.056244  237.413269   4.100000   \n",
      "           BUFF           0  203.338104  0  296.056244  231.413269   2.900000   \n",
      "           BURB           0  212.338104  0  301.056244  233.413269   5.400000   \n",
      "           BURN           0  219.338104  0  316.056244  244.413269   3.500000   \n",
      "           BUTL           0  208.338104  0  300.056244  234.413269   2.800000   \n",
      "           BYAR           0  216.338104  0  309.056244  238.413269   3.400000   \n",
      "           CAMA           0  203.338104  0  296.056244  231.413269   2.900000   \n",
      "           CENT           0  217.338104  0  312.056244  239.413269   3.300000   \n",
      "           CHAN           0  213.338104  0  305.056244  237.413269   4.100000   \n",
      "           CHER           0  208.338104  0  297.056244  232.413269   3.800000   \n",
      "           CHEY           0  208.338104  0  300.056244  234.413269   2.800000   \n",
      "           CHIC           0  211.338104  0  303.056244  235.413269   3.900000   \n",
      "           CLAY           0  219.338104  0  313.056244  240.413269   3.600000   \n",
      "           CLOU           0  219.338104  0  313.056244  240.413269   3.600000   \n",
      "           COOK           0  213.338104  0  305.056244  239.413269   3.900000   \n",
      "           COPA           0  213.338104  0  302.056244  234.413269   5.500000   \n",
      "           DURA           0  223.338104  0  320.056244  245.413269   3.600000   \n",
      "           ELRE           0  210.338104  0  301.056244  234.413269   3.400000   \n",
      "...                     ...         ... ..         ...         ...        ...   \n",
      "2012-11-30 PERK           0  292.474396  0  362.683228  266.000000  15.400000   \n",
      "           PRYO           0  290.474396  0  352.683228  261.000000  20.299999   \n",
      "           PUTN           0  284.474396  0  354.683228  265.000000  12.000000   \n",
      "           REDR           0  287.474396  0  349.683228  262.000000  15.100000   \n",
      "           RETR           0  271.474396  0  339.683228  260.000000   8.900000   \n",
      "           RING           0  302.474396  0  372.683228  272.000000  17.500000   \n",
      "           SALL           0  285.474396  0  346.683228  259.000000  21.799999   \n",
      "           SEIL           0  260.474396  0  329.683228  252.000000   8.300000   \n",
      "           SHAW           0  296.474396  0  361.683228  266.000000  18.400000   \n",
      "           SKIA           0  290.474396  0  354.683228  263.000000  18.100000   \n",
      "           SLAP           0  254.474396  0  324.683228  250.000000   7.500000   \n",
      "           SPEN           0  292.474396  0  362.683228  266.000000  15.400000   \n",
      "           STIG           0  295.474396  0  355.683228  263.000000  20.700001   \n",
      "           STIL           0  287.474396  0  349.683228  262.000000  15.100000   \n",
      "           STUA           0  303.474396  0  367.683228  269.000000  19.400000   \n",
      "           SULP           0  303.474396  0  367.683228  269.000000  19.400000   \n",
      "           TAHL           0  285.474396  0  346.683228  259.000000  21.799999   \n",
      "           TALI           0  300.474396  0  360.683228  265.000000  21.400000   \n",
      "           TIPT           0  283.474396  0  369.683228  270.000000  10.900000   \n",
      "           TISH           0  303.474396  0  367.683228  269.000000  19.400000   \n",
      "           VINI           0  290.474396  0  352.683228  261.000000  20.299999   \n",
      "           WASH           0  302.474396  0  372.683228  272.000000  17.500000   \n",
      "           WATO           0  284.474396  0  354.683228  265.000000  12.000000   \n",
      "           WAUR           0  302.474396  0  372.683228  272.000000  17.500000   \n",
      "           WEAT           0  284.474396  0  354.683228  265.000000  12.000000   \n",
      "           WEST           0  283.474396  0  345.683228  258.000000  20.299999   \n",
      "           WILB           0  300.474396  0  360.683228  265.000000  21.400000   \n",
      "           WIST           0  287.474396  0  348.683228  261.000000  22.400000   \n",
      "           WOOD           0  260.474396  0  329.683228  252.000000   8.300000   \n",
      "           WYNO           0  290.474396  0  354.683228  263.000000  18.100000   \n",
      "\n",
      "                       ...                                            \\\n",
      "dist_ind               ...              0     0     0              0   \n",
      "test_dates station     ...                                             \n",
      "2008-01-01 ACME        ...       3.300000  0.00  0.00  104260.851562   \n",
      "           ADAX        ...       3.400000  0.00  0.00  104145.648438   \n",
      "           ALTU        ...       3.000000  0.00  0.00  104304.046875   \n",
      "           APAC        ...       3.300000  0.00  0.00  104260.851562   \n",
      "           ARNE        ...       3.400000  0.00  0.00  104326.453125   \n",
      "           BEAV        ...       2.800000  0.00  0.00  104404.453125   \n",
      "           BESS        ...       3.200000  0.00  0.00  104335.851562   \n",
      "           BIXB        ...       3.000000  0.00  0.00  104090.046875   \n",
      "           BLAC        ...       3.300000  0.00  0.00  104207.648438   \n",
      "           BOIS        ...       1.900000  0.00  0.00  104398.648438   \n",
      "           BOWL        ...       3.300000  0.00  0.00  104163.648438   \n",
      "           BREC        ...       3.300000  0.00  0.00  104207.648438   \n",
      "           BRIS        ...       3.300000  0.00  0.00  104163.648438   \n",
      "           BUFF        ...       3.400000  0.00  0.00  104326.453125   \n",
      "           BURB        ...       3.000000  0.00  0.00  104131.851562   \n",
      "           BURN        ...       3.400000  0.00  0.00  104174.046875   \n",
      "           BUTL        ...       3.200000  0.00  0.00  104335.851562   \n",
      "           BYAR        ...       3.400000  0.00  0.00  104204.648438   \n",
      "           CAMA        ...       3.400000  0.00  0.00  104326.453125   \n",
      "           CENT        ...       3.400000  0.00  0.00  104145.648438   \n",
      "           CHAN        ...       3.300000  0.00  0.00  104163.648438   \n",
      "           CHER        ...       3.600000  0.00  0.00  104262.046875   \n",
      "           CHEY        ...       3.200000  0.00  0.00  104335.851562   \n",
      "           CHIC        ...       3.500000  0.00  0.00  104226.453125   \n",
      "           CLAY        ...       3.100000  0.00  0.00  104074.250000   \n",
      "           CLOU        ...       3.100000  0.00  0.00  104074.250000   \n",
      "           COOK        ...       2.600000  0.00  0.00  103967.046875   \n",
      "           COPA        ...       3.000000  0.00  0.00  104065.648438   \n",
      "           DURA        ...       3.500000  0.00  0.00  104110.046875   \n",
      "           ELRE        ...       3.600000  0.00  0.00  104280.046875   \n",
      "...                    ...            ...   ...   ...            ...   \n",
      "2012-11-30 PERK        ...      18.357332  0.11  0.26  101657.445312   \n",
      "           PRYO        ...      20.257332  0.10  0.13  101798.445312   \n",
      "           PUTN        ...      17.157333  0.04  0.08  101552.046875   \n",
      "           REDR        ...      17.157333  0.12  0.25  101685.445312   \n",
      "           RETR        ...      15.157332  0.01  0.01  101471.046875   \n",
      "           RING        ...      20.057333  0.04  0.16  101619.843750   \n",
      "           SALL        ...      19.657333  0.01  0.00  101897.445312   \n",
      "           SEIL        ...      14.857333  0.05  0.03  101529.046875   \n",
      "           SHAW        ...      20.057333  0.14  0.27  101745.843750   \n",
      "           SKIA        ...      19.157333  0.12  0.24  101753.046875   \n",
      "           SLAP        ...      12.657332  0.00  0.00  101450.843750   \n",
      "           SPEN        ...      18.357332  0.11  0.26  101657.445312   \n",
      "           STIG        ...      20.557333  0.07  0.06  101819.046875   \n",
      "           STIL        ...      17.157333  0.12  0.25  101685.445312   \n",
      "           STUA        ...      21.057333  0.09  0.27  101726.445312   \n",
      "           SULP        ...      21.057333  0.09  0.27  101726.445312   \n",
      "           TAHL        ...      19.657333  0.01  0.00  101897.445312   \n",
      "           TALI        ...      20.857332  0.05  0.04  101837.445312   \n",
      "           TIPT        ...      14.057333  0.01  0.00  101430.046875   \n",
      "           TISH        ...      21.057333  0.09  0.27  101726.445312   \n",
      "           VINI        ...      20.257332  0.10  0.13  101798.445312   \n",
      "           WASH        ...      20.057333  0.04  0.16  101619.843750   \n",
      "           WATO        ...      17.157333  0.04  0.08  101552.046875   \n",
      "           WAUR        ...      20.057333  0.04  0.16  101619.843750   \n",
      "           WEAT        ...      17.157333  0.04  0.08  101552.046875   \n",
      "           WEST        ...      19.757332  0.04  0.02  101833.445312   \n",
      "           WILB        ...      20.857332  0.05  0.04  101837.445312   \n",
      "           WIST        ...      20.457333  0.01  0.00  101964.242188   \n",
      "           WOOD        ...      14.857333  0.05  0.03  101529.046875   \n",
      "           WYNO        ...      19.157333  0.12  0.24  101753.046875   \n",
      "\n",
      "                                                                          \\\n",
      "dist_ind                   0       0           0           0           0   \n",
      "test_dates station                                                         \n",
      "2008-01-01 ACME     0.001836  0.0008  278.707123  273.817291  273.843292   \n",
      "           ADAX     0.001876  0.0005  277.747101  273.247284  273.233276   \n",
      "           ALTU     0.001716  0.0001  279.097107  273.897278  273.893280   \n",
      "           APAC     0.001836  0.0008  278.707123  273.817291  273.843292   \n",
      "           ARNE     0.002036  0.0001  275.027100  270.887299  270.903290   \n",
      "           BEAV     0.001836  0.0000  274.767120  270.547272  270.533295   \n",
      "           BESS     0.001766  0.0003  276.927124  272.027283  272.033295   \n",
      "           BIXB     0.001536  0.0002  274.897095  270.857300  270.833282   \n",
      "           BLAC     0.002046  0.0003  273.507111  269.957275  269.943268   \n",
      "           BOIS     0.001186  0.0001  273.357117  266.207275  266.213287   \n",
      "           BOWL     0.001786  0.0002  275.997101  271.727295  271.753296   \n",
      "           BREC     0.002046  0.0003  273.507111  269.957275  269.943268   \n",
      "           BRIS     0.001786  0.0002  275.997101  271.727295  271.753296   \n",
      "           BUFF     0.002036  0.0001  275.027100  270.887299  270.903290   \n",
      "           BURB     0.001806  0.0001  273.227112  269.937286  269.923279   \n",
      "           BURN     0.001856  0.0002  279.887115  275.857300  275.843292   \n",
      "           BUTL     0.001766  0.0003  276.927124  272.027283  272.033295   \n",
      "           BYAR     0.001886  0.0000  278.147095  273.847290  273.853271   \n",
      "           CAMA     0.002036  0.0001  275.027100  270.887299  270.903290   \n",
      "           CENT     0.001876  0.0005  277.747101  273.247284  273.233276   \n",
      "           CHAN     0.001786  0.0002  275.997101  271.727295  271.753296   \n",
      "           CHER     0.002116  0.0000  274.897095  270.617279  270.623291   \n",
      "           CHEY     0.001766  0.0003  276.927124  272.027283  272.033295   \n",
      "           CHIC     0.001936  0.0003  276.477112  272.087280  272.093292   \n",
      "           CLAY     0.001726  0.0000  277.207123  272.377289  272.393280   \n",
      "           CLOU     0.001726  0.0000  277.207123  272.377289  272.393280   \n",
      "           COOK     0.001366  0.0008  273.337097  269.407288  269.413269   \n",
      "           COPA     0.001626  0.0007  272.497101  269.177277  269.173279   \n",
      "           DURA     0.001966  0.0001  279.697113  275.277283  275.313293   \n",
      "           ELRE     0.001886  0.0000  277.257111  272.177277  272.213287   \n",
      "...                      ...     ...         ...         ...         ...   \n",
      "2012-11-30 PERK     0.009074  0.1169  288.320587  287.216705  287.501282   \n",
      "           PRYO     0.008664  0.1016  288.560577  286.416687  286.421295   \n",
      "           PUTN     0.009024  0.0440  289.550598  286.936707  286.941284   \n",
      "           REDR     0.008364  0.1235  287.680573  285.466705  285.451294   \n",
      "           RETR     0.008444  0.0089  290.220581  285.636688  285.651276   \n",
      "           RING     0.010214  0.0445  290.020599  287.896698  289.261292   \n",
      "           SALL     0.008134  0.0098  290.050598  284.826691  284.861298   \n",
      "           SEIL     0.008324  0.0448  288.990601  284.656708  284.641296   \n",
      "           SHAW     0.009204  0.1435  288.520599  287.356689  287.421295   \n",
      "           SKIA     0.008534  0.1202  287.640594  285.946686  285.981293   \n",
      "           SLAP     0.007524  0.0018  289.690582  284.276703  284.261292   \n",
      "           SPEN     0.009074  0.1169  288.320587  287.216705  287.501282   \n",
      "           STIG     0.009004  0.0725  290.010590  286.866699  286.881287   \n",
      "           STIL     0.008364  0.1235  287.680573  285.466705  285.451294   \n",
      "           STUA     0.010174  0.0951  289.500580  288.246704  289.141296   \n",
      "           SULP     0.010174  0.0951  289.500580  288.246704  289.141296   \n",
      "           TAHL     0.008134  0.0098  290.050598  284.826691  284.861298   \n",
      "           TALI     0.009264  0.0443  290.540588  287.096710  287.141296   \n",
      "           TIPT     0.007354  0.0036  292.780579  286.846710  286.861298   \n",
      "           TISH     0.010174  0.0951  289.500580  288.246704  289.141296   \n",
      "           VINI     0.008664  0.1016  288.560577  286.416687  286.421295   \n",
      "           WASH     0.010214  0.0445  290.020599  287.896698  289.261292   \n",
      "           WATO     0.009024  0.0440  289.550598  286.936707  286.941284   \n",
      "           WAUR     0.010214  0.0445  290.020599  287.896698  289.261292   \n",
      "           WEAT     0.009024  0.0440  289.550598  286.936707  286.941284   \n",
      "           WEST     0.008254  0.0394  289.770599  285.266693  285.341278   \n",
      "           WILB     0.009264  0.0443  290.540588  287.096710  287.141296   \n",
      "           WIST     0.007784  0.0045  289.710571  284.156708  284.181274   \n",
      "           WOOD     0.008324  0.0448  288.990601  284.656708  284.641296   \n",
      "           WYNO     0.008534  0.1202  287.640594  285.946686  285.981293   \n",
      "\n",
      "                                \n",
      "dist_ind                     0  \n",
      "test_dates station              \n",
      "2008-01-01 ACME     271.878967  \n",
      "           ADAX     271.678986  \n",
      "           ALTU     271.678986  \n",
      "           APAC     271.878967  \n",
      "           ARNE     268.878967  \n",
      "           BEAV     268.278992  \n",
      "           BESS     269.978973  \n",
      "           BIXB     269.778992  \n",
      "           BLAC     268.478973  \n",
      "           BOIS     263.178986  \n",
      "           BOWL     270.278992  \n",
      "           BREC     268.478973  \n",
      "           BRIS     270.278992  \n",
      "           BUFF     268.878967  \n",
      "           BURB     268.678986  \n",
      "           BURN     274.078979  \n",
      "           BUTL     269.978973  \n",
      "           BYAR     272.078979  \n",
      "           CAMA     268.878967  \n",
      "           CENT     271.678986  \n",
      "           CHAN     270.278992  \n",
      "           CHER     268.978973  \n",
      "           CHEY     269.978973  \n",
      "           CHIC     270.378967  \n",
      "           CLAY     271.178986  \n",
      "           CLOU     271.178986  \n",
      "           COOK     268.778992  \n",
      "           COPA     268.178986  \n",
      "           DURA     273.678986  \n",
      "           ELRE     270.378967  \n",
      "...                        ...  \n",
      "2012-11-30 PERK     286.822083  \n",
      "           PRYO     285.522095  \n",
      "           PUTN     285.822083  \n",
      "           REDR     284.922089  \n",
      "           RETR     283.822083  \n",
      "           RING     288.422089  \n",
      "           SALL     283.522095  \n",
      "           SEIL     283.222107  \n",
      "           SHAW     286.622101  \n",
      "           SKIA     285.422089  \n",
      "           SLAP     282.022095  \n",
      "           SPEN     286.822083  \n",
      "           STIG     285.722107  \n",
      "           STIL     284.922089  \n",
      "           STUA     288.322083  \n",
      "           SULP     288.322083  \n",
      "           TAHL     283.522095  \n",
      "           TALI     286.022095  \n",
      "           TIPT     284.222107  \n",
      "           TISH     288.322083  \n",
      "           VINI     285.522095  \n",
      "           WASH     288.422089  \n",
      "           WATO     285.822083  \n",
      "           WAUR     288.422089  \n",
      "           WEAT     285.822083  \n",
      "           WEST     283.722107  \n",
      "           WILB     286.022095  \n",
      "           WIST     283.022095  \n",
      "           WOOD     283.222107  \n",
      "           WYNO     285.422089  \n",
      "\n",
      "[176008 rows x 304 columns]\n",
      "                     total_solar\n",
      "date       location             \n",
      "1994-01-01 ACME         12384900\n",
      "           ADAX         11930700\n",
      "           ALTU         12116700\n",
      "           APAC         12301200\n",
      "           ARNE         10706100\n",
      "           BEAV         10116900\n",
      "           BESS         11487900\n",
      "           BIXB         11182800\n",
      "           BLAC         10848300\n",
      "           BOIS         10225200\n",
      "           BOWL         11374200\n",
      "           BREC         10335300\n",
      "           BRIS         11119200\n",
      "           BUFF         10096500\n",
      "           BURB         10611900\n",
      "           BURN         11820300\n",
      "           BUTL         11495700\n",
      "           BYAR         11804400\n",
      "           CAMA         11286300\n",
      "           CENT         11781900\n",
      "           CHAN         11500500\n",
      "           CHER         10541700\n",
      "           CHEY         10729200\n",
      "           CHIC         13369344\n",
      "           CLAY         11658000\n",
      "           CLOU         11819700\n",
      "           COOK         10814100\n",
      "           COPA         10344600\n",
      "           DURA         12562200\n",
      "           ELRE         11767200\n",
      "...                          ...\n",
      "2007-12-31 PERK         10584000\n",
      "           PRYO          8749800\n",
      "           PUTN         10636800\n",
      "           REDR         10000200\n",
      "           RETR         12552900\n",
      "           RING         13012800\n",
      "           SALL         11313900\n",
      "           SEIL          9706800\n",
      "           SHAW         11647200\n",
      "           SKIA         10937400\n",
      "           SLAP          9467100\n",
      "           SPEN         10064100\n",
      "           STIG         11624400\n",
      "           STIL          9872400\n",
      "           STUA         11908200\n",
      "           SULP         12887700\n",
      "           TAHL          9429900\n",
      "           TALI         11772300\n",
      "           TIPT         13443900\n",
      "           TISH         12345000\n",
      "           VINI         10182000\n",
      "           WASH         11819700\n",
      "           WATO         10313700\n",
      "           WAUR         12808200\n",
      "           WEAT         11411700\n",
      "           WEST          9657300\n",
      "           WILB         11844600\n",
      "           WIST         11749800\n",
      "           WOOD          8191800\n",
      "           WYNO         11211300\n",
      "\n",
      "[501074 rows x 1 columns]\n"
     ]
    }
   ],
   "source": [
    "reload(solar.report.submission)\n",
    "from solar.report.submission import Submission\n",
    "\n",
    "preds = Submission.make_submission_file(model, all_feats_data[1], all_feats_data[2], True)"
   ]
  },
  {
   "cell_type": "code",
   "execution_count": 63,
   "metadata": {
    "collapsed": false
   },
   "outputs": [
    {
     "name": "stderr",
     "output_type": "stream",
     "text": [
      "INFO:solar.report.submission:Started building submission file\n",
      "INFO:solar.report.submission:Finished building submission file\n"
     ]
    },
    {
     "name": "stdout",
     "output_type": "stream",
     "text": [
      "                   frac_dist           days_from_coldest days_from_solstice  \\\n",
      "dist_ind            lat_dist long_dist      from_coldest      from_solstice   \n",
      "test_dates station                                                            \n",
      "2008-01-01 ACME      0.80833   0.97675                 3                 11   \n",
      "           ADAX      0.79851   0.33091                 3                 11   \n",
      "           ALTU      0.58722   0.66192                 3                 11   \n",
      "           APAC      0.91418   0.70784                 3                 11   \n",
      "           ARNE      0.07204   0.09692                 3                 11   \n",
      "           BEAV      0.80253   0.46988                 3                 11   \n",
      "           BESS      0.40185   0.94153                 3                 11   \n",
      "           BIXB      0.96305   0.13379                 3                 11   \n",
      "           BLAC      0.75443   0.74548                 3                 11   \n",
      "           BOIS      0.69256   0.50287                 3                 11   \n",
      "           BOWL      0.17156   0.36879                 3                 11   \n",
      "           BREC      0.41201   0.30606                 3                 11   \n",
      "           BRIS      0.78050   0.64596                 3                 11   \n",
      "           BUFF      0.83129   0.35899                 3                 11   \n",
      "           BURB      0.63459   0.18954                 3                 11   \n",
      "           BURN      0.89376   0.73082                 3                 11   \n",
      "           BUTL      0.59150   0.72941                 3                 11   \n",
      "           BYAR      0.84970   0.99670                 3                 11   \n",
      "           CAMA      0.02866   0.65348                 3                 11   \n",
      "           CENT      0.60896   0.66691                 3                 11   \n",
      "           CHAN      0.65282   0.19593                 3                 11   \n",
      "           CHER      0.74813   0.63726                 3                 11   \n",
      "           CHEY      0.54615   0.27210                 3                 11   \n",
      "           CHIC      0.03236   0.08554                 3                 11   \n",
      "           CLAY      0.65657   0.67404                 3                 11   \n",
      "           CLOU      0.22321   0.75130                 3                 11   \n",
      "           COOK      0.68001   0.15104                 3                 11   \n",
      "           COPA      0.90987   0.11447                 3                 11   \n",
      "           DURA      0.92075   0.67973                 3                 11   \n",
      "           ELRE      0.54848   0.96346                 3                 11   \n",
      "...                      ...       ...               ...                ...   \n",
      "2012-11-30 PERK      0.99865   0.95169                35                 21   \n",
      "           PRYO      0.36914   0.72862                35                 21   \n",
      "           PUTN      0.89904   0.03962                35                 21   \n",
      "           REDR      0.35590   0.84694                35                 21   \n",
      "           RETR      0.12275   0.63999                35                 21   \n",
      "           RING      0.19365   0.41188                35                 21   \n",
      "           SALL      0.43815   0.20195                35                 21   \n",
      "           SEIL      0.19033   0.95970                35                 21   \n",
      "           SHAW      0.36492   0.05178                35                 21   \n",
      "           SKIA      0.41530   0.96294                35                 21   \n",
      "           SLAP      0.59749   0.73808                35                 21   \n",
      "           SPEN      0.54208   0.65854                35                 21   \n",
      "           STIG      0.26527   0.81884                35                 21   \n",
      "           STIL      0.12093   0.90473                35                 21   \n",
      "           STUA      0.87642   0.93018                35                 21   \n",
      "           SULP      0.56610   0.04952                35                 21   \n",
      "           TAHL      0.97235   0.01329                35                 21   \n",
      "           TALI      0.71070   0.98848                35                 21   \n",
      "           TIPT      0.43972   0.86245                35                 21   \n",
      "           TISH      0.33262   0.32105                35                 21   \n",
      "           VINI      0.77536   0.77906                35                 21   \n",
      "           WASH      0.98224   0.47891                35                 21   \n",
      "           WATO      0.84185   0.47385                35                 21   \n",
      "           WAUR      0.16775   0.01185                35                 21   \n",
      "           WEAT      0.50830   0.22491                35                 21   \n",
      "           WEST      0.01100   0.35504                35                 21   \n",
      "           WILB      0.90092   0.65195                35                 21   \n",
      "           WIST      0.98426   0.31222                35                 21   \n",
      "           WOOD      0.42329   0.58318                35                 21   \n",
      "           WYNO      0.51806   0.65778                35                 21   \n",
      "\n",
      "                   relative                                                    \\\n",
      "dist_ind                  0           0  0           0           0          0   \n",
      "test_dates station                                                              \n",
      "2008-01-01 ACME           0  215.338104  0  308.056244  238.413269   3.500000   \n",
      "           ADAX           0  217.338104  0  312.056244  239.413269   3.300000   \n",
      "           ALTU           0  213.338104  0  307.056244  237.413269   3.200000   \n",
      "           APAC           0  215.338104  0  308.056244  238.413269   3.500000   \n",
      "           ARNE           0  203.338104  0  296.056244  231.413269   2.900000   \n",
      "           BEAV           0  199.338104  0  294.056244  230.413269   2.000000   \n",
      "           BESS           0  208.338104  0  300.056244  234.413269   2.800000   \n",
      "           BIXB           0  214.338104  0  306.056244  238.413269   4.200000   \n",
      "           BLAC           0  211.338104  0  299.056244  233.413269   4.800000   \n",
      "           BOIS           0  194.338104  0  284.056244  226.413269   1.800000   \n",
      "           BOWL           0  213.338104  0  305.056244  237.413269   4.100000   \n",
      "           BREC           0  211.338104  0  299.056244  233.413269   4.800000   \n",
      "           BRIS           0  213.338104  0  305.056244  237.413269   4.100000   \n",
      "           BUFF           0  203.338104  0  296.056244  231.413269   2.900000   \n",
      "           BURB           0  212.338104  0  301.056244  233.413269   5.400000   \n",
      "           BURN           0  219.338104  0  316.056244  244.413269   3.500000   \n",
      "           BUTL           0  208.338104  0  300.056244  234.413269   2.800000   \n",
      "           BYAR           0  216.338104  0  309.056244  238.413269   3.400000   \n",
      "           CAMA           0  203.338104  0  296.056244  231.413269   2.900000   \n",
      "           CENT           0  217.338104  0  312.056244  239.413269   3.300000   \n",
      "           CHAN           0  213.338104  0  305.056244  237.413269   4.100000   \n",
      "           CHER           0  208.338104  0  297.056244  232.413269   3.800000   \n",
      "           CHEY           0  208.338104  0  300.056244  234.413269   2.800000   \n",
      "           CHIC           0  211.338104  0  303.056244  235.413269   3.900000   \n",
      "           CLAY           0  219.338104  0  313.056244  240.413269   3.600000   \n",
      "           CLOU           0  219.338104  0  313.056244  240.413269   3.600000   \n",
      "           COOK           0  213.338104  0  305.056244  239.413269   3.900000   \n",
      "           COPA           0  213.338104  0  302.056244  234.413269   5.500000   \n",
      "           DURA           0  223.338104  0  320.056244  245.413269   3.600000   \n",
      "           ELRE           0  210.338104  0  301.056244  234.413269   3.400000   \n",
      "...                     ...         ... ..         ...         ...        ...   \n",
      "2012-11-30 PERK           0  292.474396  0  362.683228  266.000000  15.400000   \n",
      "           PRYO           0  290.474396  0  352.683228  261.000000  20.299999   \n",
      "           PUTN           0  284.474396  0  354.683228  265.000000  12.000000   \n",
      "           REDR           0  287.474396  0  349.683228  262.000000  15.100000   \n",
      "           RETR           0  271.474396  0  339.683228  260.000000   8.900000   \n",
      "           RING           0  302.474396  0  372.683228  272.000000  17.500000   \n",
      "           SALL           0  285.474396  0  346.683228  259.000000  21.799999   \n",
      "           SEIL           0  260.474396  0  329.683228  252.000000   8.300000   \n",
      "           SHAW           0  296.474396  0  361.683228  266.000000  18.400000   \n",
      "           SKIA           0  290.474396  0  354.683228  263.000000  18.100000   \n",
      "           SLAP           0  254.474396  0  324.683228  250.000000   7.500000   \n",
      "           SPEN           0  292.474396  0  362.683228  266.000000  15.400000   \n",
      "           STIG           0  295.474396  0  355.683228  263.000000  20.700001   \n",
      "           STIL           0  287.474396  0  349.683228  262.000000  15.100000   \n",
      "           STUA           0  303.474396  0  367.683228  269.000000  19.400000   \n",
      "           SULP           0  303.474396  0  367.683228  269.000000  19.400000   \n",
      "           TAHL           0  285.474396  0  346.683228  259.000000  21.799999   \n",
      "           TALI           0  300.474396  0  360.683228  265.000000  21.400000   \n",
      "           TIPT           0  283.474396  0  369.683228  270.000000  10.900000   \n",
      "           TISH           0  303.474396  0  367.683228  269.000000  19.400000   \n",
      "           VINI           0  290.474396  0  352.683228  261.000000  20.299999   \n",
      "           WASH           0  302.474396  0  372.683228  272.000000  17.500000   \n",
      "           WATO           0  284.474396  0  354.683228  265.000000  12.000000   \n",
      "           WAUR           0  302.474396  0  372.683228  272.000000  17.500000   \n",
      "           WEAT           0  284.474396  0  354.683228  265.000000  12.000000   \n",
      "           WEST           0  283.474396  0  345.683228  258.000000  20.299999   \n",
      "           WILB           0  300.474396  0  360.683228  265.000000  21.400000   \n",
      "           WIST           0  287.474396  0  348.683228  261.000000  22.400000   \n",
      "           WOOD           0  260.474396  0  329.683228  252.000000   8.300000   \n",
      "           WYNO           0  290.474396  0  354.683228  263.000000  18.100000   \n",
      "\n",
      "                       ...                                            \\\n",
      "dist_ind               ...              0     0     0              0   \n",
      "test_dates station     ...                                             \n",
      "2008-01-01 ACME        ...       3.300000  0.00  0.00  104260.851562   \n",
      "           ADAX        ...       3.400000  0.00  0.00  104145.648438   \n",
      "           ALTU        ...       3.000000  0.00  0.00  104304.046875   \n",
      "           APAC        ...       3.300000  0.00  0.00  104260.851562   \n",
      "           ARNE        ...       3.400000  0.00  0.00  104326.453125   \n",
      "           BEAV        ...       2.800000  0.00  0.00  104404.453125   \n",
      "           BESS        ...       3.200000  0.00  0.00  104335.851562   \n",
      "           BIXB        ...       3.000000  0.00  0.00  104090.046875   \n",
      "           BLAC        ...       3.300000  0.00  0.00  104207.648438   \n",
      "           BOIS        ...       1.900000  0.00  0.00  104398.648438   \n",
      "           BOWL        ...       3.300000  0.00  0.00  104163.648438   \n",
      "           BREC        ...       3.300000  0.00  0.00  104207.648438   \n",
      "           BRIS        ...       3.300000  0.00  0.00  104163.648438   \n",
      "           BUFF        ...       3.400000  0.00  0.00  104326.453125   \n",
      "           BURB        ...       3.000000  0.00  0.00  104131.851562   \n",
      "           BURN        ...       3.400000  0.00  0.00  104174.046875   \n",
      "           BUTL        ...       3.200000  0.00  0.00  104335.851562   \n",
      "           BYAR        ...       3.400000  0.00  0.00  104204.648438   \n",
      "           CAMA        ...       3.400000  0.00  0.00  104326.453125   \n",
      "           CENT        ...       3.400000  0.00  0.00  104145.648438   \n",
      "           CHAN        ...       3.300000  0.00  0.00  104163.648438   \n",
      "           CHER        ...       3.600000  0.00  0.00  104262.046875   \n",
      "           CHEY        ...       3.200000  0.00  0.00  104335.851562   \n",
      "           CHIC        ...       3.500000  0.00  0.00  104226.453125   \n",
      "           CLAY        ...       3.100000  0.00  0.00  104074.250000   \n",
      "           CLOU        ...       3.100000  0.00  0.00  104074.250000   \n",
      "           COOK        ...       2.600000  0.00  0.00  103967.046875   \n",
      "           COPA        ...       3.000000  0.00  0.00  104065.648438   \n",
      "           DURA        ...       3.500000  0.00  0.00  104110.046875   \n",
      "           ELRE        ...       3.600000  0.00  0.00  104280.046875   \n",
      "...                    ...            ...   ...   ...            ...   \n",
      "2012-11-30 PERK        ...      18.357332  0.11  0.26  101657.445312   \n",
      "           PRYO        ...      20.257332  0.10  0.13  101798.445312   \n",
      "           PUTN        ...      17.157333  0.04  0.08  101552.046875   \n",
      "           REDR        ...      17.157333  0.12  0.25  101685.445312   \n",
      "           RETR        ...      15.157332  0.01  0.01  101471.046875   \n",
      "           RING        ...      20.057333  0.04  0.16  101619.843750   \n",
      "           SALL        ...      19.657333  0.01  0.00  101897.445312   \n",
      "           SEIL        ...      14.857333  0.05  0.03  101529.046875   \n",
      "           SHAW        ...      20.057333  0.14  0.27  101745.843750   \n",
      "           SKIA        ...      19.157333  0.12  0.24  101753.046875   \n",
      "           SLAP        ...      12.657332  0.00  0.00  101450.843750   \n",
      "           SPEN        ...      18.357332  0.11  0.26  101657.445312   \n",
      "           STIG        ...      20.557333  0.07  0.06  101819.046875   \n",
      "           STIL        ...      17.157333  0.12  0.25  101685.445312   \n",
      "           STUA        ...      21.057333  0.09  0.27  101726.445312   \n",
      "           SULP        ...      21.057333  0.09  0.27  101726.445312   \n",
      "           TAHL        ...      19.657333  0.01  0.00  101897.445312   \n",
      "           TALI        ...      20.857332  0.05  0.04  101837.445312   \n",
      "           TIPT        ...      14.057333  0.01  0.00  101430.046875   \n",
      "           TISH        ...      21.057333  0.09  0.27  101726.445312   \n",
      "           VINI        ...      20.257332  0.10  0.13  101798.445312   \n",
      "           WASH        ...      20.057333  0.04  0.16  101619.843750   \n",
      "           WATO        ...      17.157333  0.04  0.08  101552.046875   \n",
      "           WAUR        ...      20.057333  0.04  0.16  101619.843750   \n",
      "           WEAT        ...      17.157333  0.04  0.08  101552.046875   \n",
      "           WEST        ...      19.757332  0.04  0.02  101833.445312   \n",
      "           WILB        ...      20.857332  0.05  0.04  101837.445312   \n",
      "           WIST        ...      20.457333  0.01  0.00  101964.242188   \n",
      "           WOOD        ...      14.857333  0.05  0.03  101529.046875   \n",
      "           WYNO        ...      19.157333  0.12  0.24  101753.046875   \n",
      "\n",
      "                                                                          \\\n",
      "dist_ind                   0       0           0           0           0   \n",
      "test_dates station                                                         \n",
      "2008-01-01 ACME     0.001836  0.0008  278.707123  273.817291  273.843292   \n",
      "           ADAX     0.001876  0.0005  277.747101  273.247284  273.233276   \n",
      "           ALTU     0.001716  0.0001  279.097107  273.897278  273.893280   \n",
      "           APAC     0.001836  0.0008  278.707123  273.817291  273.843292   \n",
      "           ARNE     0.002036  0.0001  275.027100  270.887299  270.903290   \n",
      "           BEAV     0.001836  0.0000  274.767120  270.547272  270.533295   \n",
      "           BESS     0.001766  0.0003  276.927124  272.027283  272.033295   \n",
      "           BIXB     0.001536  0.0002  274.897095  270.857300  270.833282   \n",
      "           BLAC     0.002046  0.0003  273.507111  269.957275  269.943268   \n",
      "           BOIS     0.001186  0.0001  273.357117  266.207275  266.213287   \n",
      "           BOWL     0.001786  0.0002  275.997101  271.727295  271.753296   \n",
      "           BREC     0.002046  0.0003  273.507111  269.957275  269.943268   \n",
      "           BRIS     0.001786  0.0002  275.997101  271.727295  271.753296   \n",
      "           BUFF     0.002036  0.0001  275.027100  270.887299  270.903290   \n",
      "           BURB     0.001806  0.0001  273.227112  269.937286  269.923279   \n",
      "           BURN     0.001856  0.0002  279.887115  275.857300  275.843292   \n",
      "           BUTL     0.001766  0.0003  276.927124  272.027283  272.033295   \n",
      "           BYAR     0.001886  0.0000  278.147095  273.847290  273.853271   \n",
      "           CAMA     0.002036  0.0001  275.027100  270.887299  270.903290   \n",
      "           CENT     0.001876  0.0005  277.747101  273.247284  273.233276   \n",
      "           CHAN     0.001786  0.0002  275.997101  271.727295  271.753296   \n",
      "           CHER     0.002116  0.0000  274.897095  270.617279  270.623291   \n",
      "           CHEY     0.001766  0.0003  276.927124  272.027283  272.033295   \n",
      "           CHIC     0.001936  0.0003  276.477112  272.087280  272.093292   \n",
      "           CLAY     0.001726  0.0000  277.207123  272.377289  272.393280   \n",
      "           CLOU     0.001726  0.0000  277.207123  272.377289  272.393280   \n",
      "           COOK     0.001366  0.0008  273.337097  269.407288  269.413269   \n",
      "           COPA     0.001626  0.0007  272.497101  269.177277  269.173279   \n",
      "           DURA     0.001966  0.0001  279.697113  275.277283  275.313293   \n",
      "           ELRE     0.001886  0.0000  277.257111  272.177277  272.213287   \n",
      "...                      ...     ...         ...         ...         ...   \n",
      "2012-11-30 PERK     0.009074  0.1169  288.320587  287.216705  287.501282   \n",
      "           PRYO     0.008664  0.1016  288.560577  286.416687  286.421295   \n",
      "           PUTN     0.009024  0.0440  289.550598  286.936707  286.941284   \n",
      "           REDR     0.008364  0.1235  287.680573  285.466705  285.451294   \n",
      "           RETR     0.008444  0.0089  290.220581  285.636688  285.651276   \n",
      "           RING     0.010214  0.0445  290.020599  287.896698  289.261292   \n",
      "           SALL     0.008134  0.0098  290.050598  284.826691  284.861298   \n",
      "           SEIL     0.008324  0.0448  288.990601  284.656708  284.641296   \n",
      "           SHAW     0.009204  0.1435  288.520599  287.356689  287.421295   \n",
      "           SKIA     0.008534  0.1202  287.640594  285.946686  285.981293   \n",
      "           SLAP     0.007524  0.0018  289.690582  284.276703  284.261292   \n",
      "           SPEN     0.009074  0.1169  288.320587  287.216705  287.501282   \n",
      "           STIG     0.009004  0.0725  290.010590  286.866699  286.881287   \n",
      "           STIL     0.008364  0.1235  287.680573  285.466705  285.451294   \n",
      "           STUA     0.010174  0.0951  289.500580  288.246704  289.141296   \n",
      "           SULP     0.010174  0.0951  289.500580  288.246704  289.141296   \n",
      "           TAHL     0.008134  0.0098  290.050598  284.826691  284.861298   \n",
      "           TALI     0.009264  0.0443  290.540588  287.096710  287.141296   \n",
      "           TIPT     0.007354  0.0036  292.780579  286.846710  286.861298   \n",
      "           TISH     0.010174  0.0951  289.500580  288.246704  289.141296   \n",
      "           VINI     0.008664  0.1016  288.560577  286.416687  286.421295   \n",
      "           WASH     0.010214  0.0445  290.020599  287.896698  289.261292   \n",
      "           WATO     0.009024  0.0440  289.550598  286.936707  286.941284   \n",
      "           WAUR     0.010214  0.0445  290.020599  287.896698  289.261292   \n",
      "           WEAT     0.009024  0.0440  289.550598  286.936707  286.941284   \n",
      "           WEST     0.008254  0.0394  289.770599  285.266693  285.341278   \n",
      "           WILB     0.009264  0.0443  290.540588  287.096710  287.141296   \n",
      "           WIST     0.007784  0.0045  289.710571  284.156708  284.181274   \n",
      "           WOOD     0.008324  0.0448  288.990601  284.656708  284.641296   \n",
      "           WYNO     0.008534  0.1202  287.640594  285.946686  285.981293   \n",
      "\n",
      "                                \n",
      "dist_ind                     0  \n",
      "test_dates station              \n",
      "2008-01-01 ACME     271.878967  \n",
      "           ADAX     271.678986  \n",
      "           ALTU     271.678986  \n",
      "           APAC     271.878967  \n",
      "           ARNE     268.878967  \n",
      "           BEAV     268.278992  \n",
      "           BESS     269.978973  \n",
      "           BIXB     269.778992  \n",
      "           BLAC     268.478973  \n",
      "           BOIS     263.178986  \n",
      "           BOWL     270.278992  \n",
      "           BREC     268.478973  \n",
      "           BRIS     270.278992  \n",
      "           BUFF     268.878967  \n",
      "           BURB     268.678986  \n",
      "           BURN     274.078979  \n",
      "           BUTL     269.978973  \n",
      "           BYAR     272.078979  \n",
      "           CAMA     268.878967  \n",
      "           CENT     271.678986  \n",
      "           CHAN     270.278992  \n",
      "           CHER     268.978973  \n",
      "           CHEY     269.978973  \n",
      "           CHIC     270.378967  \n",
      "           CLAY     271.178986  \n",
      "           CLOU     271.178986  \n",
      "           COOK     268.778992  \n",
      "           COPA     268.178986  \n",
      "           DURA     273.678986  \n",
      "           ELRE     270.378967  \n",
      "...                        ...  \n",
      "2012-11-30 PERK     286.822083  \n",
      "           PRYO     285.522095  \n",
      "           PUTN     285.822083  \n",
      "           REDR     284.922089  \n",
      "           RETR     283.822083  \n",
      "           RING     288.422089  \n",
      "           SALL     283.522095  \n",
      "           SEIL     283.222107  \n",
      "           SHAW     286.622101  \n",
      "           SKIA     285.422089  \n",
      "           SLAP     282.022095  \n",
      "           SPEN     286.822083  \n",
      "           STIG     285.722107  \n",
      "           STIL     284.922089  \n",
      "           STUA     288.322083  \n",
      "           SULP     288.322083  \n",
      "           TAHL     283.522095  \n",
      "           TALI     286.022095  \n",
      "           TIPT     284.222107  \n",
      "           TISH     288.322083  \n",
      "           VINI     285.522095  \n",
      "           WASH     288.422089  \n",
      "           WATO     285.822083  \n",
      "           WAUR     288.422089  \n",
      "           WEAT     285.822083  \n",
      "           WEST     283.722107  \n",
      "           WILB     286.022095  \n",
      "           WIST     283.022095  \n",
      "           WOOD     283.222107  \n",
      "           WYNO     285.422089  \n",
      "\n",
      "[176008 rows x 304 columns]\n",
      "                     total_solar\n",
      "date       location             \n",
      "1994-01-01 ACME         12384900\n",
      "           ADAX         11930700\n",
      "           ALTU         12116700\n",
      "           APAC         12301200\n",
      "           ARNE         10706100\n",
      "           BEAV         10116900\n",
      "           BESS         11487900\n",
      "           BIXB         11182800\n",
      "           BLAC         10848300\n",
      "           BOIS         10225200\n",
      "           BOWL         11374200\n",
      "           BREC         10335300\n",
      "           BRIS         11119200\n",
      "           BUFF         10096500\n",
      "           BURB         10611900\n",
      "           BURN         11820300\n",
      "           BUTL         11495700\n",
      "           BYAR         11804400\n",
      "           CAMA         11286300\n",
      "           CENT         11781900\n",
      "           CHAN         11500500\n",
      "           CHER         10541700\n",
      "           CHEY         10729200\n",
      "           CHIC         13369344\n",
      "           CLAY         11658000\n",
      "           CLOU         11819700\n",
      "           COOK         10814100\n",
      "           COPA         10344600\n",
      "           DURA         12562200\n",
      "           ELRE         11767200\n",
      "...                          ...\n",
      "2007-12-31 PERK         10584000\n",
      "           PRYO          8749800\n",
      "           PUTN         10636800\n",
      "           REDR         10000200\n",
      "           RETR         12552900\n",
      "           RING         13012800\n",
      "           SALL         11313900\n",
      "           SEIL          9706800\n",
      "           SHAW         11647200\n",
      "           SKIA         10937400\n",
      "           SLAP          9467100\n",
      "           SPEN         10064100\n",
      "           STIG         11624400\n",
      "           STIL          9872400\n",
      "           STUA         11908200\n",
      "           SULP         12887700\n",
      "           TAHL          9429900\n",
      "           TALI         11772300\n",
      "           TIPT         13443900\n",
      "           TISH         12345000\n",
      "           VINI         10182000\n",
      "           WASH         11819700\n",
      "           WATO         10313700\n",
      "           WAUR         12808200\n",
      "           WEAT         11411700\n",
      "           WEST          9657300\n",
      "           WILB         11844600\n",
      "           WIST         11749800\n",
      "           WOOD          8191800\n",
      "           WYNO         11211300\n",
      "\n",
      "[501074 rows x 1 columns]\n"
     ]
    }
   ],
   "source": [
    "reload(solar.report.submission)\n",
    "from solar.report.submission import Submission\n",
    "\n",
    "preds = Submission.make_submission_file(model, all_feats_data[1], all_feats_data[2], True)"
   ]
  },
  {
   "cell_type": "code",
   "execution_count": null,
   "metadata": {
    "collapsed": false
   },
   "outputs": [],
   "source": [
    "# if I am modifying code for any of these pythons\n",
    "reload(solar.wrangle.wrangle)\n",
    "reload(solar.wrangle.subset)\n",
    "reload(solar.wrangle.engineer)\n",
    "from solar.wrangle.wrangle import SolarData\n",
    "\n",
    "stat_data = SolarData.load(Xtrain_dir, ytrain_file, Xtest_dir, station_file, \\\n",
    "                                  train_dates, test_dates, station, \\\n",
    "                                  station_layout, stat_feats)"
   ]
  },
  {
   "cell_type": "code",
   "execution_count": null,
   "metadata": {
    "collapsed": false
   },
   "outputs": [],
   "source": [
    "# if I am modifying code for any of these pythons\n",
    "reload(solar.wrangle.wrangle)\n",
    "reload(solar.wrangle.subset)\n",
    "reload(solar.wrangle.engineer)\n",
    "from solar.wrangle.wrangle import SolarData\n",
    "\n",
    "grid_data = SolarData.load(Xtrain_dir, ytrain_file, Xtest_dir, station_file, \\\n",
    "                                  train_dates, test_dates, station, \\\n",
    "                                  station_layout, just_grid)"
   ]
  },
  {
   "cell_type": "code",
   "execution_count": null,
   "metadata": {
    "collapsed": false
   },
   "outputs": [],
   "source": [
    "# test combination of station names and grid\n",
    "reload(solar.wrangle.wrangle)\n",
    "reload(solar.wrangle.subset)\n",
    "reload(solar.wrangle.engineer)\n",
    "from solar.wrangle.wrangle import SolarData\n",
    "\n",
    "input_data = SolarData.load(Xtrain_dir, ytrain_file, Xtest_dir, station_file, \\\n",
    "                                  train_dates, test_dates, station, \\\n",
    "                                  station_layout, grid_and_stat_feats)"
   ]
  },
  {
   "cell_type": "code",
   "execution_count": null,
   "metadata": {
    "collapsed": false
   },
   "outputs": [],
   "source": []
  },
  {
   "cell_type": "code",
   "execution_count": null,
   "metadata": {
    "collapsed": true
   },
   "outputs": [],
   "source": [
    "stat_data = stat_data[0]"
   ]
  },
  {
   "cell_type": "code",
   "execution_count": null,
   "metadata": {
    "collapsed": false
   },
   "outputs": [],
   "source": [
    "len(grid_data.columns.levels)"
   ]
  },
  {
   "cell_type": "code",
   "execution_count": null,
   "metadata": {
    "collapsed": false
   },
   "outputs": [],
   "source": [
    "unstacked = grid_data.stack(range(0,grid_data.columns.nlevels))"
   ]
  },
  {
   "cell_type": "code",
   "execution_count": null,
   "metadata": {
    "collapsed": false
   },
   "outputs": [],
   "source": [
    "stat_data.columns.nlevels"
   ]
  },
  {
   "cell_type": "code",
   "execution_count": null,
   "metadata": {
    "collapsed": false
   },
   "outputs": [],
   "source": [
    "unstacked2 = stat_data.stack(range(0,stat_data.columns.nlevels))"
   ]
  },
  {
   "cell_type": "code",
   "execution_count": null,
   "metadata": {
    "collapsed": false
   },
   "outputs": [],
   "source": [
    "stat_data.columns[0]"
   ]
  },
  {
   "cell_type": "code",
   "execution_count": null,
   "metadata": {
    "collapsed": false
   },
   "outputs": [],
   "source": [
    "import pandas as pd\n",
    "grid_data[stat_data.columns.names[0]]=stat_data.iloc[:,0]\n",
    "combo = pd.concat([grid_data, stat_data], axis=1)"
   ]
  },
  {
   "cell_type": "code",
   "execution_count": null,
   "metadata": {
    "collapsed": false
   },
   "outputs": [],
   "source": [
    "#combo.stack()"
   ]
  },
  {
   "cell_type": "code",
   "execution_count": null,
   "metadata": {
    "collapsed": false
   },
   "outputs": [],
   "source": [
    "#import pandas as pd\n",
    "#test = input_data[2]\n",
    "#pd.get_dummies(test.stack('lat_longs').reset_index('lat_longs'),prefix='latlong', )\n",
    "#test['station_name']\n",
    "#pd.get_dummies(test['station_name'],prefix='stat')"
   ]
  },
  {
   "cell_type": "code",
   "execution_count": null,
   "metadata": {
    "collapsed": false
   },
   "outputs": [],
   "source": [
    "int(calendar.isleap(date1.year))"
   ]
  },
  {
   "cell_type": "code",
   "execution_count": null,
   "metadata": {
    "collapsed": false
   },
   "outputs": [],
   "source": [
    "import datetime\n",
    "import calendar\n",
    "\n",
    "dates = ['1994-01-01', '1994-01-02', '1996-01-04']\n",
    "date1 = datetime.datetime.strptime('1996-12-21', '%Y-%m-%d')\n",
    "date2 = datetime.date(date1.year, 12, 21)\n",
    "date3 = datetime.date(date1.year, 12, 31)\n",
    "abs_diff = abs((date1.timetuple().tm_yday) - (date2.timetuple().tm_yday))\n",
    "if (abs_diff >= 183):\n",
    "    final = date3.timetuple().tm_yday - abs_diff\n",
    "else:\n",
    "    final = abs_diff \n",
    "final\n"
   ]
  },
  {
   "cell_type": "code",
   "execution_count": null,
   "metadata": {
    "collapsed": false
   },
   "outputs": [],
   "source": [
    "((date1.timetuple().tm_yday) - (date2.timetuple().tm_yday))%183"
   ]
  },
  {
   "cell_type": "code",
   "execution_count": null,
   "metadata": {
    "collapsed": false
   },
   "outputs": [],
   "source": [
    "date2"
   ]
  }
 ],
 "metadata": {
  "kernelspec": {
   "display_name": "Python 2",
   "language": "python",
   "name": "python2"
  },
  "language_info": {
   "codemirror_mode": {
    "name": "ipython",
    "version": 2
   },
   "file_extension": ".py",
   "mimetype": "text/x-python",
   "name": "python",
   "nbconvert_exporter": "python",
   "pygments_lexer": "ipython2",
   "version": "2.7.11"
  }
 },
 "nbformat": 4,
 "nbformat_minor": 0
}
