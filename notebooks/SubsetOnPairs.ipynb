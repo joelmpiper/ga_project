{
 "cells": [
  {
   "cell_type": "code",
   "execution_count": 1,
   "metadata": {
    "collapsed": true
   },
   "outputs": [],
   "source": [
    "import os\n",
    "os.chdir('..')"
   ]
  },
  {
   "cell_type": "code",
   "execution_count": 116,
   "metadata": {
    "collapsed": true
   },
   "outputs": [],
   "source": [
    "import numpy as np\n",
    "import netCDF4 as nc"
   ]
  },
  {
   "cell_type": "code",
   "execution_count": 117,
   "metadata": {
    "collapsed": true
   },
   "outputs": [],
   "source": [
    "X = nc.Dataset('solar/data/kaggle_solar/train/dswrf_sfc_latlon_subset_19940101_20071231.nc','r+').variables.values()"
   ]
  },
  {
   "cell_type": "code",
   "execution_count": 135,
   "metadata": {
    "collapsed": false
   },
   "outputs": [
    {
     "data": {
      "text/plain": [
       "array([[[[[  20.,   20.,   20.,   10.],\n",
       "          [  30.,   20.,   20.,   10.]],\n",
       "\n",
       "         [[ 210.,  210.,  210.,  170.],\n",
       "          [ 210.,  210.,  210.,  190.]],\n",
       "\n",
       "         [[ 600.,  590.,  610.,  490.],\n",
       "          [ 550.,  590.,  600.,  570.]]],\n",
       "\n",
       "\n",
       "        [[[  20.,   20.,   20.,    0.],\n",
       "          [  30.,   20.,   20.,   10.]],\n",
       "\n",
       "         [[ 210.,  210.,  210.,  130.],\n",
       "          [ 210.,  210.,  210.,  190.]],\n",
       "\n",
       "         [[ 610.,  590.,  620.,  490.],\n",
       "          [ 540.,  590.,  610.,  570.]]]],\n",
       "\n",
       "\n",
       "\n",
       "       [[[[  20.,   20.,   20.,   10.],\n",
       "          [  30.,   20.,   20.,   10.]],\n",
       "\n",
       "         [[ 210.,  210.,  210.,  160.],\n",
       "          [ 210.,  210.,  210.,  190.]],\n",
       "\n",
       "         [[ 600.,  580.,  610.,  460.],\n",
       "          [ 550.,  580.,  600.,  550.]]],\n",
       "\n",
       "\n",
       "        [[[  20.,   20.,   20.,   10.],\n",
       "          [  30.,   20.,   20.,   10.]],\n",
       "\n",
       "         [[ 210.,  210.,  210.,  160.],\n",
       "          [ 210.,  210.,  210.,  190.]],\n",
       "\n",
       "         [[ 600.,  580.,  610.,  350.],\n",
       "          [ 550.,  580.,  600.,  550.]]]]], dtype=float32)"
      ]
     },
     "execution_count": 135,
     "metadata": {},
     "output_type": "execute_result"
    }
   ],
   "source": [
    "np.array(X[-1])[1:3,np.array((4,5))[:,np.newaxis,np.newaxis,np.newaxis],np.array((1,2,3))[:,np.newaxis, np.newaxis],[[1,2,1,7],[3,2,1,4]],[[3,4,2,4],[6,4,3,2]]]"
   ]
  },
  {
   "cell_type": "code",
   "execution_count": 98,
   "metadata": {
    "collapsed": false
   },
   "outputs": [],
   "source": [
    "count = np.array([[[1,2,3],[4,5,6],[7,8,9]],[[10,11,12],[13,14,15],[16,17,18]],[[19,20,21],[21,22,23],[24,25,26]]])"
   ]
  },
  {
   "cell_type": "code",
   "execution_count": 100,
   "metadata": {
    "collapsed": false
   },
   "outputs": [
    {
     "data": {
      "text/plain": [
       "array([[[ 5,  6]],\n",
       "\n",
       "       [[14, 15]],\n",
       "\n",
       "       [[22, 23]]])"
      ]
     },
     "execution_count": 100,
     "metadata": {},
     "output_type": "execute_result"
    }
   ],
   "source": [
    "count[0:3,1:2,1:3]"
   ]
  },
  {
   "cell_type": "code",
   "execution_count": 112,
   "metadata": {
    "collapsed": false
   },
   "outputs": [
    {
     "data": {
      "text/plain": [
       "array([[ 5,  9],\n",
       "       [14, 18],\n",
       "       [22, 26]])"
      ]
     },
     "execution_count": 112,
     "metadata": {},
     "output_type": "execute_result"
    }
   ],
   "source": [
    "count[np.array((0,1,2))[:,np.newaxis],[1,2],[1,2]]"
   ]
  },
  {
   "cell_type": "code",
   "execution_count": 113,
   "metadata": {
    "collapsed": true
   },
   "outputs": [],
   "source": [
    "stlat = 36.5\n",
    "stlong = 285.1\n",
    "\n",
    "lats = 2*[int(np.floor(stlat))] + 2*[int(np.ceil(stlat)) + 1]\n",
    "longs = 2*[int(np.floor(stlong)), int(np.ceil(stlong))+1]"
   ]
  },
  {
   "cell_type": "code",
   "execution_count": 114,
   "metadata": {
    "collapsed": false
   },
   "outputs": [
    {
     "data": {
      "text/plain": [
       "[36, 36, 38, 38]"
      ]
     },
     "execution_count": 114,
     "metadata": {},
     "output_type": "execute_result"
    }
   ],
   "source": [
    "lats"
   ]
  },
  {
   "cell_type": "code",
   "execution_count": 115,
   "metadata": {
    "collapsed": false
   },
   "outputs": [
    {
     "data": {
      "text/plain": [
       "[285, 287, 285, 287]"
      ]
     },
     "execution_count": 115,
     "metadata": {},
     "output_type": "execute_result"
    }
   ],
   "source": [
    "longs"
   ]
  },
  {
   "cell_type": "code",
   "execution_count": null,
   "metadata": {
    "collapsed": true
   },
   "outputs": [],
   "source": [
    "longs.append()"
   ]
  },
  {
   "cell_type": "code",
   "execution_count": null,
   "metadata": {
    "collapsed": true
   },
   "outputs": [],
   "source": []
  }
 ],
 "metadata": {
  "kernelspec": {
   "display_name": "Python 2",
   "language": "python",
   "name": "python2"
  },
  "language_info": {
   "codemirror_mode": {
    "name": "ipython",
    "version": 2
   },
   "file_extension": ".py",
   "mimetype": "text/x-python",
   "name": "python",
   "nbconvert_exporter": "python",
   "pygments_lexer": "ipython2",
   "version": "2.7.11"
  }
 },
 "nbformat": 4,
 "nbformat_minor": 0
}
