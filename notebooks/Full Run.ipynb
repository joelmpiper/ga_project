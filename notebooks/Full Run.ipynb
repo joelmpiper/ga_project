{
 "cells": [
  {
   "cell_type": "markdown",
   "metadata": {},
   "source": [
    "## Full Run"
   ]
  },
  {
   "cell_type": "code",
   "execution_count": 1,
   "metadata": {
    "collapsed": true
   },
   "outputs": [],
   "source": [
    "import os\n",
    "os.chdir('..')"
   ]
  },
  {
   "cell_type": "code",
   "execution_count": 2,
   "metadata": {
    "collapsed": true
   },
   "outputs": [],
   "source": [
    "Xtrain_dir = 'solar/data/kaggle_solar/train/'\n",
    "Xtest_dir = 'solar/data/kaggle_solar/test'\n",
    "ytrain_file = 'solar/data/kaggle_solar/train.csv'\n",
    "station_file = 'solar/data/kaggle_solar/station_info.csv'\n",
    "import solar.wrangle.wrangle\n",
    "import solar.wrangle.subset\n",
    "import solar.wrangle.engineer\n",
    "import solar.analyze.model\n",
    "import solar.report.submission\n",
    "import numpy as np"
   ]
  },
  {
   "cell_type": "code",
   "execution_count": 14,
   "metadata": {
    "collapsed": true
   },
   "outputs": [],
   "source": [
    "# Choose up to 98 stations; not specifying a station means to use all that fall within the given lats and longs. If the\n",
    "# parameter 'all' is given, then it will use all stations no matter the provided lats and longs\n",
    "station = ['all']\n",
    "\n",
    "# Determine which dates will be used to train the model. No specified date means use the entire set from 1994-01-01 \n",
    "# until 2007-12-31.\n",
    "train_dates = ['1994-01-01', '2007-12-31']\n",
    "\n",
    "#2008-01-01 until 2012-11-30\n",
    "test_dates = ['2008-01-01', '2012-11-30']\n",
    "\n",
    "station_layout = True\n",
    "\n",
    "# Use all variables\n",
    "var = ['all']\n",
    "\n",
    "# Keep model 0 (the default model) as a column for each of the variables (aggregated over other dimensions)\n",
    "model = [0]\n",
    "\n",
    "# Aggregate over all times\n",
    "times = ['all']\n",
    "\n",
    "default_grid = {'type':'relative', 'axes':{'var':var, 'models':model, 'times':times,\n",
    "                                          'station':station}}\n",
    "# This just uses the station_names as another feature\n",
    "stat_names = {'type':'station_names'}\n",
    "\n",
    "frac_dist = {'type':'frac_dist'}\n",
    "\n",
    "days_solstice = {'type':'days_from_solstice'}\n",
    "days_cold = {'type':'days_from_coldest'}\n",
    "\n",
    "all_feats = [stat_names, default_grid, frac_dist, days_solstice, days_cold]\n",
    "#all_feats = [stat_names, days_solstice, days_cold]"
   ]
  },
  {
   "cell_type": "code",
   "execution_count": 4,
   "metadata": {
    "collapsed": true
   },
   "outputs": [],
   "source": [
    "import solar.report.submission\n",
    "import solar.wrangle.wrangle\n",
    "import solar.wrangle.subset\n",
    "import solar.wrangle.engineer\n",
    "import solar.analyze.model"
   ]
  },
  {
   "cell_type": "code",
   "execution_count": 15,
   "metadata": {
    "collapsed": false
   },
   "outputs": [
    {
     "name": "stderr",
     "output_type": "stream",
     "text": [
      "INFO:solar.wrangle.wrangle:Started building test and training data\n",
      "INFO:solar.wrangle.wrangle:Features: [{'type': 'station_names'}, {'axes': {'var': ['all'], 'models': [0], 'station': ['all'], 'times': ['all']}, 'type': 'relative'}, {'type': 'frac_dist'}, {'type': 'days_from_solstice'}, {'type': 'days_from_coldest'}]\n",
      "INFO:solar.wrangle.wrangle:Train dates: ['1994-01-01', '2007-12-31']\n",
      "INFO:solar.wrangle.wrangle:Test dates: ['2008-01-01', '2012-11-30']\n",
      "INFO:solar.wrangle.wrangle:Stations: ['all']\n",
      "INFO:solar.wrangle.wrangle:Finished building test and training data\n"
     ]
    }
   ],
   "source": [
    "# test combination of station names and grid\n",
    "reload(solar.wrangle.wrangle)\n",
    "reload(solar.wrangle.subset)\n",
    "reload(solar.wrangle.engineer)\n",
    "from solar.wrangle.wrangle import SolarData\n",
    "\n",
    "external = True\n",
    "\n",
    "input_data = SolarData.load(Xtrain_dir, ytrain_file, Xtest_dir, station_file, \\\n",
    "                                  train_dates, test_dates, station, \\\n",
    "                                  station_layout, all_feats, external)"
   ]
  },
  {
   "cell_type": "code",
   "execution_count": 16,
   "metadata": {
    "collapsed": false
   },
   "outputs": [
    {
     "name": "stderr",
     "output_type": "stream",
     "text": [
      "INFO:solar.analyze.model:Started building model\n",
      "INFO:solar.analyze.model:Train input columns: Index([                             u'stat_ACME',\n",
      "                                    u'stat_ADAX',\n",
      "                                    u'stat_ALTU',\n",
      "                                    u'stat_APAC',\n",
      "                                    u'stat_ARNE',\n",
      "                                    u'stat_BEAV',\n",
      "                                    u'stat_BESS',\n",
      "                                    u'stat_BIXB',\n",
      "                                    u'stat_BLAC',\n",
      "                                    u'stat_BOIS',\n",
      "       ...\n",
      "          (u'relative', 0, u'tmp_2m', u'NE', 24),\n",
      "          (u'relative', 0, u'tmp_2m', u'NW', 24),\n",
      "         (u'relative', 0, u'tmp_sfc', u'SE', 24),\n",
      "         (u'relative', 0, u'tmp_sfc', u'SW', 24),\n",
      "         (u'relative', 0, u'tmp_sfc', u'NE', 24),\n",
      "         (u'relative', 0, u'tmp_sfc', u'NW', 24),\n",
      "                     (u'frac_dist', u'lat_dist'),\n",
      "                    (u'frac_dist', u'long_dist'),\n",
      "       (u'days_from_solstice', u'from_solstice'),\n",
      "         (u'days_from_coldest', u'from_coldest')],\n",
      "      dtype='object', length=401)\n",
      "INFO:solar.analyze.model:Train input indices: [[1994-01-01 00:00:00, 1994-01-02 00:00:00, 1994-01-03 00:00:00, 1994-01-04 00:00:00, 1994-01-05 00:00:00, 1994-01-06 00:00:00, 1994-01-07 00:00:00, 1994-01-08 00:00:00, 1994-01-09 00:00:00, 1994-01-10 00:00:00, 1994-01-11 00:00:00, 1994-01-12 00:00:00, 1994-01-13 00:00:00, 1994-01-14 00:00:00, 1994-01-15 00:00:00, 1994-01-16 00:00:00, 1994-01-17 00:00:00, 1994-01-18 00:00:00, 1994-01-19 00:00:00, 1994-01-20 00:00:00, 1994-01-21 00:00:00, 1994-01-22 00:00:00, 1994-01-23 00:00:00, 1994-01-24 00:00:00, 1994-01-25 00:00:00, 1994-01-26 00:00:00, 1994-01-27 00:00:00, 1994-01-28 00:00:00, 1994-01-29 00:00:00, 1994-01-30 00:00:00, 1994-01-31 00:00:00, 1994-02-01 00:00:00, 1994-02-02 00:00:00, 1994-02-03 00:00:00, 1994-02-04 00:00:00, 1994-02-05 00:00:00, 1994-02-06 00:00:00, 1994-02-07 00:00:00, 1994-02-08 00:00:00, 1994-02-09 00:00:00, 1994-02-10 00:00:00, 1994-02-11 00:00:00, 1994-02-12 00:00:00, 1994-02-13 00:00:00, 1994-02-14 00:00:00, 1994-02-15 00:00:00, 1994-02-16 00:00:00, 1994-02-17 00:00:00, 1994-02-18 00:00:00, 1994-02-19 00:00:00, 1994-02-20 00:00:00, 1994-02-21 00:00:00, 1994-02-22 00:00:00, 1994-02-23 00:00:00, 1994-02-24 00:00:00, 1994-02-25 00:00:00, 1994-02-26 00:00:00, 1994-02-27 00:00:00, 1994-02-28 00:00:00, 1994-03-01 00:00:00, 1994-03-02 00:00:00, 1994-03-03 00:00:00, 1994-03-04 00:00:00, 1994-03-05 00:00:00, 1994-03-06 00:00:00, 1994-03-07 00:00:00, 1994-03-08 00:00:00, 1994-03-09 00:00:00, 1994-03-10 00:00:00, 1994-03-11 00:00:00, 1994-03-12 00:00:00, 1994-03-13 00:00:00, 1994-03-14 00:00:00, 1994-03-15 00:00:00, 1994-03-16 00:00:00, 1994-03-17 00:00:00, 1994-03-18 00:00:00, 1994-03-19 00:00:00, 1994-03-20 00:00:00, 1994-03-21 00:00:00, 1994-03-22 00:00:00, 1994-03-23 00:00:00, 1994-03-24 00:00:00, 1994-03-25 00:00:00, 1994-03-26 00:00:00, 1994-03-27 00:00:00, 1994-03-28 00:00:00, 1994-03-29 00:00:00, 1994-03-30 00:00:00, 1994-03-31 00:00:00, 1994-04-01 00:00:00, 1994-04-02 00:00:00, 1994-04-03 00:00:00, 1994-04-04 00:00:00, 1994-04-05 00:00:00, 1994-04-06 00:00:00, 1994-04-07 00:00:00, 1994-04-08 00:00:00, 1994-04-09 00:00:00, 1994-04-10 00:00:00, ...], [u'ACME', u'ADAX', u'ALTU', u'APAC', u'ARNE', u'BEAV', u'BESS', u'BIXB', u'BLAC', u'BOIS', u'BOWL', u'BREC', u'BRIS', u'BUFF', u'BURB', u'BURN', u'BUTL', u'BYAR', u'CAMA', u'CENT', u'CHAN', u'CHER', u'CHEY', u'CHIC', u'CLAY', u'CLOU', u'COOK', u'COPA', u'DURA', u'ELRE', u'ERIC', u'EUFA', u'FAIR', u'FORA', u'FREE', u'FTCB', u'GOOD', u'GUTH', u'HASK', u'HINT', u'HOBA', u'HOLL', u'HOOK', u'HUGO', u'IDAB', u'JAYX', u'KENT', u'KETC', u'LAHO', u'LANE', u'MADI', u'MANG', u'MARE', u'MAYR', u'MCAL', u'MEDF', u'MEDI', u'MIAM', u'MINC', u'MTHE', u'NEWK', u'NINN', u'NOWA', u'OILT', u'OKEM', u'OKMU', u'PAUL', u'PAWN', u'PERK', u'PRYO', u'PUTN', u'REDR', u'RETR', u'RING', u'SALL', u'SEIL', u'SHAW', u'SKIA', u'SLAP', u'SPEN', u'STIG', u'STIL', u'STUA', u'SULP', u'TAHL', u'TALI', u'TIPT', u'TISH', u'VINI', u'WASH', u'WATO', u'WAUR', u'WEAT', u'WEST', u'WILB', u'WIST', u'WOOD', u'WYNO']]\n",
      "INFO:solar.analyze.model:Test input indices: [[2008-01-01 00:00:00, 2008-01-02 00:00:00, 2008-01-03 00:00:00, 2008-01-04 00:00:00, 2008-01-05 00:00:00, 2008-01-06 00:00:00, 2008-01-07 00:00:00, 2008-01-08 00:00:00, 2008-01-09 00:00:00, 2008-01-10 00:00:00, 2008-01-11 00:00:00, 2008-01-12 00:00:00, 2008-01-13 00:00:00, 2008-01-14 00:00:00, 2008-01-15 00:00:00, 2008-01-16 00:00:00, 2008-01-17 00:00:00, 2008-01-18 00:00:00, 2008-01-19 00:00:00, 2008-01-20 00:00:00, 2008-01-21 00:00:00, 2008-01-22 00:00:00, 2008-01-23 00:00:00, 2008-01-24 00:00:00, 2008-01-25 00:00:00, 2008-01-26 00:00:00, 2008-01-27 00:00:00, 2008-01-28 00:00:00, 2008-01-29 00:00:00, 2008-01-30 00:00:00, 2008-01-31 00:00:00, 2008-02-01 00:00:00, 2008-02-02 00:00:00, 2008-02-03 00:00:00, 2008-02-04 00:00:00, 2008-02-05 00:00:00, 2008-02-06 00:00:00, 2008-02-07 00:00:00, 2008-02-08 00:00:00, 2008-02-09 00:00:00, 2008-02-10 00:00:00, 2008-02-11 00:00:00, 2008-02-12 00:00:00, 2008-02-13 00:00:00, 2008-02-14 00:00:00, 2008-02-15 00:00:00, 2008-02-16 00:00:00, 2008-02-17 00:00:00, 2008-02-18 00:00:00, 2008-02-19 00:00:00, 2008-02-20 00:00:00, 2008-02-21 00:00:00, 2008-02-22 00:00:00, 2008-02-23 00:00:00, 2008-02-24 00:00:00, 2008-02-25 00:00:00, 2008-02-26 00:00:00, 2008-02-27 00:00:00, 2008-02-28 00:00:00, 2008-02-29 00:00:00, 2008-03-01 00:00:00, 2008-03-02 00:00:00, 2008-03-03 00:00:00, 2008-03-04 00:00:00, 2008-03-05 00:00:00, 2008-03-06 00:00:00, 2008-03-07 00:00:00, 2008-03-08 00:00:00, 2008-03-09 00:00:00, 2008-03-10 00:00:00, 2008-03-11 00:00:00, 2008-03-12 00:00:00, 2008-03-13 00:00:00, 2008-03-14 00:00:00, 2008-03-15 00:00:00, 2008-03-16 00:00:00, 2008-03-17 00:00:00, 2008-03-18 00:00:00, 2008-03-19 00:00:00, 2008-03-20 00:00:00, 2008-03-21 00:00:00, 2008-03-22 00:00:00, 2008-03-23 00:00:00, 2008-03-24 00:00:00, 2008-03-25 00:00:00, 2008-03-26 00:00:00, 2008-03-27 00:00:00, 2008-03-28 00:00:00, 2008-03-29 00:00:00, 2008-03-30 00:00:00, 2008-03-31 00:00:00, 2008-04-01 00:00:00, 2008-04-02 00:00:00, 2008-04-03 00:00:00, 2008-04-04 00:00:00, 2008-04-05 00:00:00, 2008-04-06 00:00:00, 2008-04-07 00:00:00, 2008-04-08 00:00:00, 2008-04-09 00:00:00, ...], [u'ACME', u'ADAX', u'ALTU', u'APAC', u'ARNE', u'BEAV', u'BESS', u'BIXB', u'BLAC', u'BOIS', u'BOWL', u'BREC', u'BRIS', u'BUFF', u'BURB', u'BURN', u'BUTL', u'BYAR', u'CAMA', u'CENT', u'CHAN', u'CHER', u'CHEY', u'CHIC', u'CLAY', u'CLOU', u'COOK', u'COPA', u'DURA', u'ELRE', u'ERIC', u'EUFA', u'FAIR', u'FORA', u'FREE', u'FTCB', u'GOOD', u'GUTH', u'HASK', u'HINT', u'HOBA', u'HOLL', u'HOOK', u'HUGO', u'IDAB', u'JAYX', u'KENT', u'KETC', u'LAHO', u'LANE', u'MADI', u'MANG', u'MARE', u'MAYR', u'MCAL', u'MEDF', u'MEDI', u'MIAM', u'MINC', u'MTHE', u'NEWK', u'NINN', u'NOWA', u'OILT', u'OKEM', u'OKMU', u'PAUL', u'PAWN', u'PERK', u'PRYO', u'PUTN', u'REDR', u'RETR', u'RING', u'SALL', u'SEIL', u'SHAW', u'SKIA', u'SLAP', u'SPEN', u'STIG', u'STIL', u'STUA', u'SULP', u'TAHL', u'TALI', u'TIPT', u'TISH', u'VINI', u'WASH', u'WATO', u'WAUR', u'WEAT', u'WEST', u'WILB', u'WIST', u'WOOD', u'WYNO']]\n",
      "INFO:solar.analyze.model:Model name: <class 'sklearn.linear_model.ridge.Ridge'>\n",
      "INFO:solar.analyze.model:Params: {'alpha': array([  1.00000000e-06,   1.66810054e-05,   2.78255940e-04,\n",
      "         4.64158883e-03,   7.74263683e-02,   1.29154967e+00,\n",
      "         2.15443469e+01,   3.59381366e+02,   5.99484250e+03,\n",
      "         1.00000000e+05])}\n",
      "INFO:solar.analyze.model:CV splits: 10\n",
      "INFO:solar.analyze.model:Error formula: mean_absolute_error\n",
      "INFO:solar.analyze.model:Model params: {'normalize': True}\n"
     ]
    },
    {
     "ename": "KeyboardInterrupt",
     "evalue": "",
     "output_type": "error",
     "traceback": [
      "\u001b[0;31m---------------------------------------------------------------------------\u001b[0m",
      "\u001b[0;31mKeyboardInterrupt\u001b[0m                         Traceback (most recent call last)",
      "\u001b[0;32m<ipython-input-16-b322960565d7>\u001b[0m in \u001b[0;36m<module>\u001b[0;34m()\u001b[0m\n\u001b[1;32m      9\u001b[0m \u001b[0;34m\u001b[0m\u001b[0m\n\u001b[1;32m     10\u001b[0m model = Model.model(input_data, Ridge, {'alpha':np.logspace(-6,5,10,base=10)}, 10, \n\u001b[0;32m---> 11\u001b[0;31m                     error_formula, normalize=True)\n\u001b[0m",
      "\u001b[0;32m/Users/Joel/Desktop/ga/ga_project/solar/analyze/model.py\u001b[0m in \u001b[0;36mmodel\u001b[0;34m(input_data, model_name, param_dict, cv_splits, err_formula, **model_params)\u001b[0m\n\u001b[1;32m     94\u001b[0m                             scoring=err_formula)\n\u001b[1;32m     95\u001b[0m \u001b[0;34m\u001b[0m\u001b[0m\n\u001b[0;32m---> 96\u001b[0;31m         \u001b[0mgrid\u001b[0m\u001b[0;34m.\u001b[0m\u001b[0mfit\u001b[0m\u001b[0;34m(\u001b[0m\u001b[0mtrainX\u001b[0m\u001b[0;34m,\u001b[0m \u001b[0mtrainy\u001b[0m\u001b[0;34m)\u001b[0m\u001b[0;34m\u001b[0m\u001b[0m\n\u001b[0m\u001b[1;32m     97\u001b[0m \u001b[0;34m\u001b[0m\u001b[0m\n\u001b[1;32m     98\u001b[0m         \u001b[0mlogger\u001b[0m\u001b[0;34m.\u001b[0m\u001b[0minfo\u001b[0m\u001b[0;34m(\u001b[0m\u001b[0;34m'Best score: %s'\u001b[0m \u001b[0;34m%\u001b[0m \u001b[0;34m(\u001b[0m\u001b[0mgrid\u001b[0m\u001b[0;34m.\u001b[0m\u001b[0mbest_score_\u001b[0m\u001b[0;34m)\u001b[0m\u001b[0;34m)\u001b[0m\u001b[0;34m\u001b[0m\u001b[0m\n",
      "\u001b[0;32m/Users/Joel/anaconda/lib/python2.7/site-packages/sklearn/grid_search.pyc\u001b[0m in \u001b[0;36mfit\u001b[0;34m(self, X, y)\u001b[0m\n\u001b[1;32m    802\u001b[0m \u001b[0;34m\u001b[0m\u001b[0m\n\u001b[1;32m    803\u001b[0m         \"\"\"\n\u001b[0;32m--> 804\u001b[0;31m         \u001b[0;32mreturn\u001b[0m \u001b[0mself\u001b[0m\u001b[0;34m.\u001b[0m\u001b[0m_fit\u001b[0m\u001b[0;34m(\u001b[0m\u001b[0mX\u001b[0m\u001b[0;34m,\u001b[0m \u001b[0my\u001b[0m\u001b[0;34m,\u001b[0m \u001b[0mParameterGrid\u001b[0m\u001b[0;34m(\u001b[0m\u001b[0mself\u001b[0m\u001b[0;34m.\u001b[0m\u001b[0mparam_grid\u001b[0m\u001b[0;34m)\u001b[0m\u001b[0;34m)\u001b[0m\u001b[0;34m\u001b[0m\u001b[0m\n\u001b[0m\u001b[1;32m    805\u001b[0m \u001b[0;34m\u001b[0m\u001b[0m\n\u001b[1;32m    806\u001b[0m \u001b[0;34m\u001b[0m\u001b[0m\n",
      "\u001b[0;32m/Users/Joel/anaconda/lib/python2.7/site-packages/sklearn/grid_search.pyc\u001b[0m in \u001b[0;36m_fit\u001b[0;34m(self, X, y, parameter_iterable)\u001b[0m\n\u001b[1;32m    551\u001b[0m                                     \u001b[0mself\u001b[0m\u001b[0;34m.\u001b[0m\u001b[0mfit_params\u001b[0m\u001b[0;34m,\u001b[0m \u001b[0mreturn_parameters\u001b[0m\u001b[0;34m=\u001b[0m\u001b[0mTrue\u001b[0m\u001b[0;34m,\u001b[0m\u001b[0;34m\u001b[0m\u001b[0m\n\u001b[1;32m    552\u001b[0m                                     error_score=self.error_score)\n\u001b[0;32m--> 553\u001b[0;31m                 \u001b[0;32mfor\u001b[0m \u001b[0mparameters\u001b[0m \u001b[0;32min\u001b[0m \u001b[0mparameter_iterable\u001b[0m\u001b[0;34m\u001b[0m\u001b[0m\n\u001b[0m\u001b[1;32m    554\u001b[0m                 for train, test in cv)\n\u001b[1;32m    555\u001b[0m \u001b[0;34m\u001b[0m\u001b[0m\n",
      "\u001b[0;32m/Users/Joel/anaconda/lib/python2.7/site-packages/sklearn/externals/joblib/parallel.pyc\u001b[0m in \u001b[0;36m__call__\u001b[0;34m(self, iterable)\u001b[0m\n\u001b[1;32m    802\u001b[0m             \u001b[0mself\u001b[0m\u001b[0;34m.\u001b[0m\u001b[0m_iterating\u001b[0m \u001b[0;34m=\u001b[0m \u001b[0mTrue\u001b[0m\u001b[0;34m\u001b[0m\u001b[0m\n\u001b[1;32m    803\u001b[0m \u001b[0;34m\u001b[0m\u001b[0m\n\u001b[0;32m--> 804\u001b[0;31m             \u001b[0;32mwhile\u001b[0m \u001b[0mself\u001b[0m\u001b[0;34m.\u001b[0m\u001b[0mdispatch_one_batch\u001b[0m\u001b[0;34m(\u001b[0m\u001b[0miterator\u001b[0m\u001b[0;34m)\u001b[0m\u001b[0;34m:\u001b[0m\u001b[0;34m\u001b[0m\u001b[0m\n\u001b[0m\u001b[1;32m    805\u001b[0m                 \u001b[0;32mpass\u001b[0m\u001b[0;34m\u001b[0m\u001b[0m\n\u001b[1;32m    806\u001b[0m \u001b[0;34m\u001b[0m\u001b[0m\n",
      "\u001b[0;32m/Users/Joel/anaconda/lib/python2.7/site-packages/sklearn/externals/joblib/parallel.pyc\u001b[0m in \u001b[0;36mdispatch_one_batch\u001b[0;34m(self, iterator)\u001b[0m\n\u001b[1;32m    660\u001b[0m                 \u001b[0;32mreturn\u001b[0m \u001b[0mFalse\u001b[0m\u001b[0;34m\u001b[0m\u001b[0m\n\u001b[1;32m    661\u001b[0m             \u001b[0;32melse\u001b[0m\u001b[0;34m:\u001b[0m\u001b[0;34m\u001b[0m\u001b[0m\n\u001b[0;32m--> 662\u001b[0;31m                 \u001b[0mself\u001b[0m\u001b[0;34m.\u001b[0m\u001b[0m_dispatch\u001b[0m\u001b[0;34m(\u001b[0m\u001b[0mtasks\u001b[0m\u001b[0;34m)\u001b[0m\u001b[0;34m\u001b[0m\u001b[0m\n\u001b[0m\u001b[1;32m    663\u001b[0m                 \u001b[0;32mreturn\u001b[0m \u001b[0mTrue\u001b[0m\u001b[0;34m\u001b[0m\u001b[0m\n\u001b[1;32m    664\u001b[0m \u001b[0;34m\u001b[0m\u001b[0m\n",
      "\u001b[0;32m/Users/Joel/anaconda/lib/python2.7/site-packages/sklearn/externals/joblib/parallel.pyc\u001b[0m in \u001b[0;36m_dispatch\u001b[0;34m(self, batch)\u001b[0m\n\u001b[1;32m    568\u001b[0m \u001b[0;34m\u001b[0m\u001b[0m\n\u001b[1;32m    569\u001b[0m         \u001b[0;32mif\u001b[0m \u001b[0mself\u001b[0m\u001b[0;34m.\u001b[0m\u001b[0m_pool\u001b[0m \u001b[0;32mis\u001b[0m \u001b[0mNone\u001b[0m\u001b[0;34m:\u001b[0m\u001b[0;34m\u001b[0m\u001b[0m\n\u001b[0;32m--> 570\u001b[0;31m             \u001b[0mjob\u001b[0m \u001b[0;34m=\u001b[0m \u001b[0mImmediateComputeBatch\u001b[0m\u001b[0;34m(\u001b[0m\u001b[0mbatch\u001b[0m\u001b[0;34m)\u001b[0m\u001b[0;34m\u001b[0m\u001b[0m\n\u001b[0m\u001b[1;32m    571\u001b[0m             \u001b[0mself\u001b[0m\u001b[0;34m.\u001b[0m\u001b[0m_jobs\u001b[0m\u001b[0;34m.\u001b[0m\u001b[0mappend\u001b[0m\u001b[0;34m(\u001b[0m\u001b[0mjob\u001b[0m\u001b[0;34m)\u001b[0m\u001b[0;34m\u001b[0m\u001b[0m\n\u001b[1;32m    572\u001b[0m             \u001b[0mself\u001b[0m\u001b[0;34m.\u001b[0m\u001b[0mn_dispatched_batches\u001b[0m \u001b[0;34m+=\u001b[0m \u001b[0;36m1\u001b[0m\u001b[0;34m\u001b[0m\u001b[0m\n",
      "\u001b[0;32m/Users/Joel/anaconda/lib/python2.7/site-packages/sklearn/externals/joblib/parallel.pyc\u001b[0m in \u001b[0;36m__init__\u001b[0;34m(self, batch)\u001b[0m\n\u001b[1;32m    181\u001b[0m         \u001b[0;31m# Don't delay the application, to avoid keeping the input\u001b[0m\u001b[0;34m\u001b[0m\u001b[0;34m\u001b[0m\u001b[0m\n\u001b[1;32m    182\u001b[0m         \u001b[0;31m# arguments in memory\u001b[0m\u001b[0;34m\u001b[0m\u001b[0;34m\u001b[0m\u001b[0m\n\u001b[0;32m--> 183\u001b[0;31m         \u001b[0mself\u001b[0m\u001b[0;34m.\u001b[0m\u001b[0mresults\u001b[0m \u001b[0;34m=\u001b[0m \u001b[0mbatch\u001b[0m\u001b[0;34m(\u001b[0m\u001b[0;34m)\u001b[0m\u001b[0;34m\u001b[0m\u001b[0m\n\u001b[0m\u001b[1;32m    184\u001b[0m \u001b[0;34m\u001b[0m\u001b[0m\n\u001b[1;32m    185\u001b[0m     \u001b[0;32mdef\u001b[0m \u001b[0mget\u001b[0m\u001b[0;34m(\u001b[0m\u001b[0mself\u001b[0m\u001b[0;34m)\u001b[0m\u001b[0;34m:\u001b[0m\u001b[0;34m\u001b[0m\u001b[0m\n",
      "\u001b[0;32m/Users/Joel/anaconda/lib/python2.7/site-packages/sklearn/externals/joblib/parallel.pyc\u001b[0m in \u001b[0;36m__call__\u001b[0;34m(self)\u001b[0m\n\u001b[1;32m     70\u001b[0m \u001b[0;34m\u001b[0m\u001b[0m\n\u001b[1;32m     71\u001b[0m     \u001b[0;32mdef\u001b[0m \u001b[0m__call__\u001b[0m\u001b[0;34m(\u001b[0m\u001b[0mself\u001b[0m\u001b[0;34m)\u001b[0m\u001b[0;34m:\u001b[0m\u001b[0;34m\u001b[0m\u001b[0m\n\u001b[0;32m---> 72\u001b[0;31m         \u001b[0;32mreturn\u001b[0m \u001b[0;34m[\u001b[0m\u001b[0mfunc\u001b[0m\u001b[0;34m(\u001b[0m\u001b[0;34m*\u001b[0m\u001b[0margs\u001b[0m\u001b[0;34m,\u001b[0m \u001b[0;34m**\u001b[0m\u001b[0mkwargs\u001b[0m\u001b[0;34m)\u001b[0m \u001b[0;32mfor\u001b[0m \u001b[0mfunc\u001b[0m\u001b[0;34m,\u001b[0m \u001b[0margs\u001b[0m\u001b[0;34m,\u001b[0m \u001b[0mkwargs\u001b[0m \u001b[0;32min\u001b[0m \u001b[0mself\u001b[0m\u001b[0;34m.\u001b[0m\u001b[0mitems\u001b[0m\u001b[0;34m]\u001b[0m\u001b[0;34m\u001b[0m\u001b[0m\n\u001b[0m\u001b[1;32m     73\u001b[0m \u001b[0;34m\u001b[0m\u001b[0m\n\u001b[1;32m     74\u001b[0m     \u001b[0;32mdef\u001b[0m \u001b[0m__len__\u001b[0m\u001b[0;34m(\u001b[0m\u001b[0mself\u001b[0m\u001b[0;34m)\u001b[0m\u001b[0;34m:\u001b[0m\u001b[0;34m\u001b[0m\u001b[0m\n",
      "\u001b[0;32m/Users/Joel/anaconda/lib/python2.7/site-packages/sklearn/cross_validation.pyc\u001b[0m in \u001b[0;36m_fit_and_score\u001b[0;34m(estimator, X, y, scorer, train, test, verbose, parameters, fit_params, return_train_score, return_parameters, error_score)\u001b[0m\n\u001b[1;32m   1522\u001b[0m     \u001b[0mstart_time\u001b[0m \u001b[0;34m=\u001b[0m \u001b[0mtime\u001b[0m\u001b[0;34m.\u001b[0m\u001b[0mtime\u001b[0m\u001b[0;34m(\u001b[0m\u001b[0;34m)\u001b[0m\u001b[0;34m\u001b[0m\u001b[0m\n\u001b[1;32m   1523\u001b[0m \u001b[0;34m\u001b[0m\u001b[0m\n\u001b[0;32m-> 1524\u001b[0;31m     \u001b[0mX_train\u001b[0m\u001b[0;34m,\u001b[0m \u001b[0my_train\u001b[0m \u001b[0;34m=\u001b[0m \u001b[0m_safe_split\u001b[0m\u001b[0;34m(\u001b[0m\u001b[0mestimator\u001b[0m\u001b[0;34m,\u001b[0m \u001b[0mX\u001b[0m\u001b[0;34m,\u001b[0m \u001b[0my\u001b[0m\u001b[0;34m,\u001b[0m \u001b[0mtrain\u001b[0m\u001b[0;34m)\u001b[0m\u001b[0;34m\u001b[0m\u001b[0m\n\u001b[0m\u001b[1;32m   1525\u001b[0m     \u001b[0mX_test\u001b[0m\u001b[0;34m,\u001b[0m \u001b[0my_test\u001b[0m \u001b[0;34m=\u001b[0m \u001b[0m_safe_split\u001b[0m\u001b[0;34m(\u001b[0m\u001b[0mestimator\u001b[0m\u001b[0;34m,\u001b[0m \u001b[0mX\u001b[0m\u001b[0;34m,\u001b[0m \u001b[0my\u001b[0m\u001b[0;34m,\u001b[0m \u001b[0mtest\u001b[0m\u001b[0;34m,\u001b[0m \u001b[0mtrain\u001b[0m\u001b[0;34m)\u001b[0m\u001b[0;34m\u001b[0m\u001b[0m\n\u001b[1;32m   1526\u001b[0m \u001b[0;34m\u001b[0m\u001b[0m\n",
      "\u001b[0;32m/Users/Joel/anaconda/lib/python2.7/site-packages/sklearn/cross_validation.pyc\u001b[0m in \u001b[0;36m_safe_split\u001b[0;34m(estimator, X, y, indices, train_indices)\u001b[0m\n\u001b[1;32m   1589\u001b[0m                 \u001b[0mX_subset\u001b[0m \u001b[0;34m=\u001b[0m \u001b[0mX\u001b[0m\u001b[0;34m[\u001b[0m\u001b[0mnp\u001b[0m\u001b[0;34m.\u001b[0m\u001b[0mix_\u001b[0m\u001b[0;34m(\u001b[0m\u001b[0mindices\u001b[0m\u001b[0;34m,\u001b[0m \u001b[0mtrain_indices\u001b[0m\u001b[0;34m)\u001b[0m\u001b[0;34m]\u001b[0m\u001b[0;34m\u001b[0m\u001b[0m\n\u001b[1;32m   1590\u001b[0m         \u001b[0;32melse\u001b[0m\u001b[0;34m:\u001b[0m\u001b[0;34m\u001b[0m\u001b[0m\n\u001b[0;32m-> 1591\u001b[0;31m             \u001b[0mX_subset\u001b[0m \u001b[0;34m=\u001b[0m \u001b[0msafe_indexing\u001b[0m\u001b[0;34m(\u001b[0m\u001b[0mX\u001b[0m\u001b[0;34m,\u001b[0m \u001b[0mindices\u001b[0m\u001b[0;34m)\u001b[0m\u001b[0;34m\u001b[0m\u001b[0m\n\u001b[0m\u001b[1;32m   1592\u001b[0m \u001b[0;34m\u001b[0m\u001b[0m\n\u001b[1;32m   1593\u001b[0m     \u001b[0;32mif\u001b[0m \u001b[0my\u001b[0m \u001b[0;32mis\u001b[0m \u001b[0;32mnot\u001b[0m \u001b[0mNone\u001b[0m\u001b[0;34m:\u001b[0m\u001b[0;34m\u001b[0m\u001b[0m\n",
      "\u001b[0;32m/Users/Joel/anaconda/lib/python2.7/site-packages/sklearn/utils/__init__.pyc\u001b[0m in \u001b[0;36msafe_indexing\u001b[0;34m(X, indices)\u001b[0m\n\u001b[1;32m    150\u001b[0m         \u001b[0;31m# Pandas Dataframes and Series\u001b[0m\u001b[0;34m\u001b[0m\u001b[0;34m\u001b[0m\u001b[0m\n\u001b[1;32m    151\u001b[0m         \u001b[0;32mtry\u001b[0m\u001b[0;34m:\u001b[0m\u001b[0;34m\u001b[0m\u001b[0m\n\u001b[0;32m--> 152\u001b[0;31m             \u001b[0;32mreturn\u001b[0m \u001b[0mX\u001b[0m\u001b[0;34m.\u001b[0m\u001b[0miloc\u001b[0m\u001b[0;34m[\u001b[0m\u001b[0mindices\u001b[0m\u001b[0;34m]\u001b[0m\u001b[0;34m\u001b[0m\u001b[0m\n\u001b[0m\u001b[1;32m    153\u001b[0m         \u001b[0;32mexcept\u001b[0m \u001b[0mValueError\u001b[0m\u001b[0;34m:\u001b[0m\u001b[0;34m\u001b[0m\u001b[0m\n\u001b[1;32m    154\u001b[0m             \u001b[0;31m# Cython typed memoryviews internally used in pandas do not support\u001b[0m\u001b[0;34m\u001b[0m\u001b[0;34m\u001b[0m\u001b[0m\n",
      "\u001b[0;32m/Users/Joel/anaconda/lib/python2.7/site-packages/pandas/core/indexing.pyc\u001b[0m in \u001b[0;36m__getitem__\u001b[0;34m(self, key)\u001b[0m\n\u001b[1;32m   1225\u001b[0m             \u001b[0;32mreturn\u001b[0m \u001b[0mself\u001b[0m\u001b[0;34m.\u001b[0m\u001b[0m_getitem_tuple\u001b[0m\u001b[0;34m(\u001b[0m\u001b[0mkey\u001b[0m\u001b[0;34m)\u001b[0m\u001b[0;34m\u001b[0m\u001b[0m\n\u001b[1;32m   1226\u001b[0m         \u001b[0;32melse\u001b[0m\u001b[0;34m:\u001b[0m\u001b[0;34m\u001b[0m\u001b[0m\n\u001b[0;32m-> 1227\u001b[0;31m             \u001b[0;32mreturn\u001b[0m \u001b[0mself\u001b[0m\u001b[0;34m.\u001b[0m\u001b[0m_getitem_axis\u001b[0m\u001b[0;34m(\u001b[0m\u001b[0mkey\u001b[0m\u001b[0;34m,\u001b[0m \u001b[0maxis\u001b[0m\u001b[0;34m=\u001b[0m\u001b[0;36m0\u001b[0m\u001b[0;34m)\u001b[0m\u001b[0;34m\u001b[0m\u001b[0m\n\u001b[0m\u001b[1;32m   1228\u001b[0m \u001b[0;34m\u001b[0m\u001b[0m\n\u001b[1;32m   1229\u001b[0m     \u001b[0;32mdef\u001b[0m \u001b[0m_getitem_axis\u001b[0m\u001b[0;34m(\u001b[0m\u001b[0mself\u001b[0m\u001b[0;34m,\u001b[0m \u001b[0mkey\u001b[0m\u001b[0;34m,\u001b[0m \u001b[0maxis\u001b[0m\u001b[0;34m=\u001b[0m\u001b[0;36m0\u001b[0m\u001b[0;34m)\u001b[0m\u001b[0;34m:\u001b[0m\u001b[0;34m\u001b[0m\u001b[0m\n",
      "\u001b[0;32m/Users/Joel/anaconda/lib/python2.7/site-packages/pandas/core/indexing.pyc\u001b[0m in \u001b[0;36m_getitem_axis\u001b[0;34m(self, key, axis)\u001b[0m\n\u001b[1;32m   1517\u001b[0m                 \u001b[0mself\u001b[0m\u001b[0;34m.\u001b[0m\u001b[0m_is_valid_integer\u001b[0m\u001b[0;34m(\u001b[0m\u001b[0mkey\u001b[0m\u001b[0;34m,\u001b[0m \u001b[0maxis\u001b[0m\u001b[0;34m)\u001b[0m\u001b[0;34m\u001b[0m\u001b[0m\n\u001b[1;32m   1518\u001b[0m \u001b[0;34m\u001b[0m\u001b[0m\n\u001b[0;32m-> 1519\u001b[0;31m             \u001b[0;32mreturn\u001b[0m \u001b[0mself\u001b[0m\u001b[0;34m.\u001b[0m\u001b[0m_get_loc\u001b[0m\u001b[0;34m(\u001b[0m\u001b[0mkey\u001b[0m\u001b[0;34m,\u001b[0m \u001b[0maxis\u001b[0m\u001b[0;34m=\u001b[0m\u001b[0maxis\u001b[0m\u001b[0;34m)\u001b[0m\u001b[0;34m\u001b[0m\u001b[0m\n\u001b[0m\u001b[1;32m   1520\u001b[0m \u001b[0;34m\u001b[0m\u001b[0m\n\u001b[1;32m   1521\u001b[0m     \u001b[0;32mdef\u001b[0m \u001b[0m_convert_to_indexer\u001b[0m\u001b[0;34m(\u001b[0m\u001b[0mself\u001b[0m\u001b[0;34m,\u001b[0m \u001b[0mobj\u001b[0m\u001b[0;34m,\u001b[0m \u001b[0maxis\u001b[0m\u001b[0;34m=\u001b[0m\u001b[0;36m0\u001b[0m\u001b[0;34m,\u001b[0m \u001b[0mis_setter\u001b[0m\u001b[0;34m=\u001b[0m\u001b[0mFalse\u001b[0m\u001b[0;34m)\u001b[0m\u001b[0;34m:\u001b[0m\u001b[0;34m\u001b[0m\u001b[0m\n",
      "\u001b[0;32m/Users/Joel/anaconda/lib/python2.7/site-packages/pandas/core/indexing.pyc\u001b[0m in \u001b[0;36m_get_loc\u001b[0;34m(self, key, axis)\u001b[0m\n\u001b[1;32m     87\u001b[0m \u001b[0;34m\u001b[0m\u001b[0m\n\u001b[1;32m     88\u001b[0m     \u001b[0;32mdef\u001b[0m \u001b[0m_get_loc\u001b[0m\u001b[0;34m(\u001b[0m\u001b[0mself\u001b[0m\u001b[0;34m,\u001b[0m \u001b[0mkey\u001b[0m\u001b[0;34m,\u001b[0m \u001b[0maxis\u001b[0m\u001b[0;34m=\u001b[0m\u001b[0;36m0\u001b[0m\u001b[0;34m)\u001b[0m\u001b[0;34m:\u001b[0m\u001b[0;34m\u001b[0m\u001b[0m\n\u001b[0;32m---> 89\u001b[0;31m         \u001b[0;32mreturn\u001b[0m \u001b[0mself\u001b[0m\u001b[0;34m.\u001b[0m\u001b[0mobj\u001b[0m\u001b[0;34m.\u001b[0m\u001b[0m_ixs\u001b[0m\u001b[0;34m(\u001b[0m\u001b[0mkey\u001b[0m\u001b[0;34m,\u001b[0m \u001b[0maxis\u001b[0m\u001b[0;34m=\u001b[0m\u001b[0maxis\u001b[0m\u001b[0;34m)\u001b[0m\u001b[0;34m\u001b[0m\u001b[0m\n\u001b[0m\u001b[1;32m     90\u001b[0m \u001b[0;34m\u001b[0m\u001b[0m\n\u001b[1;32m     91\u001b[0m     \u001b[0;32mdef\u001b[0m \u001b[0m_slice\u001b[0m\u001b[0;34m(\u001b[0m\u001b[0mself\u001b[0m\u001b[0;34m,\u001b[0m \u001b[0mobj\u001b[0m\u001b[0;34m,\u001b[0m \u001b[0maxis\u001b[0m\u001b[0;34m=\u001b[0m\u001b[0;36m0\u001b[0m\u001b[0;34m,\u001b[0m \u001b[0mkind\u001b[0m\u001b[0;34m=\u001b[0m\u001b[0mNone\u001b[0m\u001b[0;34m)\u001b[0m\u001b[0;34m:\u001b[0m\u001b[0;34m\u001b[0m\u001b[0m\n",
      "\u001b[0;32m/Users/Joel/anaconda/lib/python2.7/site-packages/pandas/core/frame.pyc\u001b[0m in \u001b[0;36m_ixs\u001b[0;34m(self, i, axis)\u001b[0m\n\u001b[1;32m   1885\u001b[0m                 \u001b[0;32mif\u001b[0m \u001b[0misinstance\u001b[0m\u001b[0;34m(\u001b[0m\u001b[0mlabel\u001b[0m\u001b[0;34m,\u001b[0m \u001b[0mIndex\u001b[0m\u001b[0;34m)\u001b[0m\u001b[0;34m:\u001b[0m\u001b[0;34m\u001b[0m\u001b[0m\n\u001b[1;32m   1886\u001b[0m                     \u001b[0;31m# a location index by definition\u001b[0m\u001b[0;34m\u001b[0m\u001b[0;34m\u001b[0m\u001b[0m\n\u001b[0;32m-> 1887\u001b[0;31m                     \u001b[0mresult\u001b[0m \u001b[0;34m=\u001b[0m \u001b[0mself\u001b[0m\u001b[0;34m.\u001b[0m\u001b[0mtake\u001b[0m\u001b[0;34m(\u001b[0m\u001b[0mi\u001b[0m\u001b[0;34m,\u001b[0m \u001b[0maxis\u001b[0m\u001b[0;34m=\u001b[0m\u001b[0maxis\u001b[0m\u001b[0;34m)\u001b[0m\u001b[0;34m\u001b[0m\u001b[0m\n\u001b[0m\u001b[1;32m   1888\u001b[0m                     \u001b[0mcopy\u001b[0m\u001b[0;34m=\u001b[0m\u001b[0mTrue\u001b[0m\u001b[0;34m\u001b[0m\u001b[0m\n\u001b[1;32m   1889\u001b[0m                 \u001b[0;32melse\u001b[0m\u001b[0;34m:\u001b[0m\u001b[0;34m\u001b[0m\u001b[0m\n",
      "\u001b[0;32m/Users/Joel/anaconda/lib/python2.7/site-packages/pandas/core/generic.pyc\u001b[0m in \u001b[0;36mtake\u001b[0;34m(self, indices, axis, convert, is_copy)\u001b[0m\n\u001b[1;32m   1369\u001b[0m         new_data = self._data.take(indices,\n\u001b[1;32m   1370\u001b[0m                                    \u001b[0maxis\u001b[0m\u001b[0;34m=\u001b[0m\u001b[0mself\u001b[0m\u001b[0;34m.\u001b[0m\u001b[0m_get_block_manager_axis\u001b[0m\u001b[0;34m(\u001b[0m\u001b[0maxis\u001b[0m\u001b[0;34m)\u001b[0m\u001b[0;34m,\u001b[0m\u001b[0;34m\u001b[0m\u001b[0m\n\u001b[0;32m-> 1371\u001b[0;31m                                    convert=True, verify=True)\n\u001b[0m\u001b[1;32m   1372\u001b[0m         \u001b[0mresult\u001b[0m \u001b[0;34m=\u001b[0m \u001b[0mself\u001b[0m\u001b[0;34m.\u001b[0m\u001b[0m_constructor\u001b[0m\u001b[0;34m(\u001b[0m\u001b[0mnew_data\u001b[0m\u001b[0;34m)\u001b[0m\u001b[0;34m.\u001b[0m\u001b[0m__finalize__\u001b[0m\u001b[0;34m(\u001b[0m\u001b[0mself\u001b[0m\u001b[0;34m)\u001b[0m\u001b[0;34m\u001b[0m\u001b[0m\n\u001b[1;32m   1373\u001b[0m \u001b[0;34m\u001b[0m\u001b[0m\n",
      "\u001b[0;32m/Users/Joel/anaconda/lib/python2.7/site-packages/pandas/core/internals.pyc\u001b[0m in \u001b[0;36mtake\u001b[0;34m(self, indexer, axis, verify, convert)\u001b[0m\n\u001b[1;32m   3626\u001b[0m         \u001b[0mnew_labels\u001b[0m \u001b[0;34m=\u001b[0m \u001b[0mself\u001b[0m\u001b[0;34m.\u001b[0m\u001b[0maxes\u001b[0m\u001b[0;34m[\u001b[0m\u001b[0maxis\u001b[0m\u001b[0;34m]\u001b[0m\u001b[0;34m.\u001b[0m\u001b[0mtake\u001b[0m\u001b[0;34m(\u001b[0m\u001b[0mindexer\u001b[0m\u001b[0;34m)\u001b[0m\u001b[0;34m\u001b[0m\u001b[0m\n\u001b[1;32m   3627\u001b[0m         return self.reindex_indexer(new_axis=new_labels, indexer=indexer,\n\u001b[0;32m-> 3628\u001b[0;31m                                     axis=axis, allow_dups=True)\n\u001b[0m\u001b[1;32m   3629\u001b[0m \u001b[0;34m\u001b[0m\u001b[0m\n\u001b[1;32m   3630\u001b[0m     \u001b[0;32mdef\u001b[0m \u001b[0mmerge\u001b[0m\u001b[0;34m(\u001b[0m\u001b[0mself\u001b[0m\u001b[0;34m,\u001b[0m \u001b[0mother\u001b[0m\u001b[0;34m,\u001b[0m \u001b[0mlsuffix\u001b[0m\u001b[0;34m=\u001b[0m\u001b[0;34m''\u001b[0m\u001b[0;34m,\u001b[0m \u001b[0mrsuffix\u001b[0m\u001b[0;34m=\u001b[0m\u001b[0;34m''\u001b[0m\u001b[0;34m)\u001b[0m\u001b[0;34m:\u001b[0m\u001b[0;34m\u001b[0m\u001b[0m\n",
      "\u001b[0;32m/Users/Joel/anaconda/lib/python2.7/site-packages/pandas/core/internals.pyc\u001b[0m in \u001b[0;36mreindex_indexer\u001b[0;34m(self, new_axis, indexer, axis, fill_value, allow_dups, copy)\u001b[0m\n\u001b[1;32m   3513\u001b[0m                                       fill_tuple=(fill_value if fill_value is not None else\n\u001b[1;32m   3514\u001b[0m                                                   blk.fill_value,))\n\u001b[0;32m-> 3515\u001b[0;31m                           for blk in self.blocks]\n\u001b[0m\u001b[1;32m   3516\u001b[0m \u001b[0;34m\u001b[0m\u001b[0m\n\u001b[1;32m   3517\u001b[0m         \u001b[0mnew_axes\u001b[0m \u001b[0;34m=\u001b[0m \u001b[0mlist\u001b[0m\u001b[0;34m(\u001b[0m\u001b[0mself\u001b[0m\u001b[0;34m.\u001b[0m\u001b[0maxes\u001b[0m\u001b[0;34m)\u001b[0m\u001b[0;34m\u001b[0m\u001b[0m\n",
      "\u001b[0;32m/Users/Joel/anaconda/lib/python2.7/site-packages/pandas/core/internals.pyc\u001b[0m in \u001b[0;36mtake_nd\u001b[0;34m(self, indexer, axis, new_mgr_locs, fill_tuple)\u001b[0m\n\u001b[1;32m    986\u001b[0m             \u001b[0mfill_value\u001b[0m \u001b[0;34m=\u001b[0m \u001b[0mfill_tuple\u001b[0m\u001b[0;34m[\u001b[0m\u001b[0;36m0\u001b[0m\u001b[0;34m]\u001b[0m\u001b[0;34m\u001b[0m\u001b[0m\n\u001b[1;32m    987\u001b[0m             new_values = com.take_nd(values, indexer, axis=axis,\n\u001b[0;32m--> 988\u001b[0;31m                                      allow_fill=True, fill_value=fill_value)\n\u001b[0m\u001b[1;32m    989\u001b[0m \u001b[0;34m\u001b[0m\u001b[0m\n\u001b[1;32m    990\u001b[0m         \u001b[0;32mif\u001b[0m \u001b[0mnew_mgr_locs\u001b[0m \u001b[0;32mis\u001b[0m \u001b[0mNone\u001b[0m\u001b[0;34m:\u001b[0m\u001b[0;34m\u001b[0m\u001b[0m\n",
      "\u001b[0;32m/Users/Joel/anaconda/lib/python2.7/site-packages/pandas/core/common.pyc\u001b[0m in \u001b[0;36mtake_nd\u001b[0;34m(arr, indexer, axis, out, fill_value, mask_info, allow_fill)\u001b[0m\n\u001b[1;32m    790\u001b[0m                                  axis=axis, mask_info=mask_info)\n\u001b[1;32m    791\u001b[0m     \u001b[0mindexer\u001b[0m \u001b[0;34m=\u001b[0m \u001b[0m_ensure_int64\u001b[0m\u001b[0;34m(\u001b[0m\u001b[0mindexer\u001b[0m\u001b[0;34m)\u001b[0m\u001b[0;34m\u001b[0m\u001b[0m\n\u001b[0;32m--> 792\u001b[0;31m     \u001b[0mfunc\u001b[0m\u001b[0;34m(\u001b[0m\u001b[0marr\u001b[0m\u001b[0;34m,\u001b[0m \u001b[0mindexer\u001b[0m\u001b[0;34m,\u001b[0m \u001b[0mout\u001b[0m\u001b[0;34m,\u001b[0m \u001b[0mfill_value\u001b[0m\u001b[0;34m)\u001b[0m\u001b[0;34m\u001b[0m\u001b[0m\n\u001b[0m\u001b[1;32m    793\u001b[0m \u001b[0;34m\u001b[0m\u001b[0m\n\u001b[1;32m    794\u001b[0m     \u001b[0;32mif\u001b[0m \u001b[0mflip_order\u001b[0m\u001b[0;34m:\u001b[0m\u001b[0;34m\u001b[0m\u001b[0m\n",
      "\u001b[0;31mKeyboardInterrupt\u001b[0m: "
     ]
    }
   ],
   "source": [
    "reload(solar.analyze.model)\n",
    "import numpy as np\n",
    "from solar.analyze.model import Model\n",
    "\n",
    "from sklearn.linear_model import Ridge\n",
    "from sklearn import metrics\n",
    "\n",
    "error_formula = 'mean_absolute_error'\n",
    "\n",
    "model = Model.model(input_data, Ridge, {'alpha':np.logspace(-6,5,10,base=10)}, 10, \n",
    "                    error_formula, normalize=True)"
   ]
  },
  {
   "cell_type": "code",
   "execution_count": 7,
   "metadata": {
    "collapsed": false
   },
   "outputs": [
    {
     "name": "stderr",
     "output_type": "stream",
     "text": [
      "INFO:solar.analyze.model:Started building model\n",
      "INFO:solar.analyze.model:Train input columns: Index([                             u'stat_ACME',\n",
      "                                    u'stat_ADAX',\n",
      "                                    u'stat_ALTU',\n",
      "                                    u'stat_APAC',\n",
      "                                    u'stat_ARNE',\n",
      "                                    u'stat_BEAV',\n",
      "                                    u'stat_BESS',\n",
      "                                    u'stat_BIXB',\n",
      "                                    u'stat_BLAC',\n",
      "                                    u'stat_BOIS',\n",
      "       ...\n",
      "       (u'relative', 0, u'uswrf_sfc', u'NE', 24),\n",
      "       (u'relative', 0, u'uswrf_sfc', u'NW', 24),\n",
      "       (u'relative', 0, u'dswrf_sfc', u'SE', 24),\n",
      "       (u'relative', 0, u'dswrf_sfc', u'SW', 24),\n",
      "       (u'relative', 0, u'dswrf_sfc', u'NE', 24),\n",
      "       (u'relative', 0, u'dswrf_sfc', u'NW', 24),\n",
      "                     (u'frac_dist', u'lat_dist'),\n",
      "                    (u'frac_dist', u'long_dist'),\n",
      "       (u'days_from_solstice', u'from_solstice'),\n",
      "         (u'days_from_coldest', u'from_coldest')],\n",
      "      dtype='object', length=141)\n",
      "INFO:solar.analyze.model:Train input indices: [[1994-01-01 00:00:00, 1994-01-02 00:00:00, 1994-01-03 00:00:00, 1994-01-04 00:00:00, 1994-01-05 00:00:00, 1994-01-06 00:00:00, 1994-01-07 00:00:00, 1994-01-08 00:00:00, 1994-01-09 00:00:00, 1994-01-10 00:00:00, 1994-01-11 00:00:00, 1994-01-12 00:00:00, 1994-01-13 00:00:00, 1994-01-14 00:00:00, 1994-01-15 00:00:00, 1994-01-16 00:00:00, 1994-01-17 00:00:00, 1994-01-18 00:00:00, 1994-01-19 00:00:00, 1994-01-20 00:00:00, 1994-01-21 00:00:00, 1994-01-22 00:00:00, 1994-01-23 00:00:00, 1994-01-24 00:00:00, 1994-01-25 00:00:00, 1994-01-26 00:00:00, 1994-01-27 00:00:00, 1994-01-28 00:00:00, 1994-01-29 00:00:00, 1994-01-30 00:00:00, 1994-01-31 00:00:00, 1994-02-01 00:00:00, 1994-02-02 00:00:00, 1994-02-03 00:00:00, 1994-02-04 00:00:00, 1994-02-05 00:00:00, 1994-02-06 00:00:00, 1994-02-07 00:00:00, 1994-02-08 00:00:00, 1994-02-09 00:00:00, 1994-02-10 00:00:00, 1994-02-11 00:00:00, 1994-02-12 00:00:00, 1994-02-13 00:00:00, 1994-02-14 00:00:00, 1994-02-15 00:00:00, 1994-02-16 00:00:00, 1994-02-17 00:00:00, 1994-02-18 00:00:00, 1994-02-19 00:00:00, 1994-02-20 00:00:00, 1994-02-21 00:00:00, 1994-02-22 00:00:00, 1994-02-23 00:00:00, 1994-02-24 00:00:00, 1994-02-25 00:00:00, 1994-02-26 00:00:00, 1994-02-27 00:00:00, 1994-02-28 00:00:00, 1994-03-01 00:00:00, 1994-03-02 00:00:00, 1994-03-03 00:00:00, 1994-03-04 00:00:00, 1994-03-05 00:00:00, 1994-03-06 00:00:00, 1994-03-07 00:00:00, 1994-03-08 00:00:00, 1994-03-09 00:00:00, 1994-03-10 00:00:00, 1994-03-11 00:00:00, 1994-03-12 00:00:00, 1994-03-13 00:00:00, 1994-03-14 00:00:00, 1994-03-15 00:00:00, 1994-03-16 00:00:00, 1994-03-17 00:00:00, 1994-03-18 00:00:00, 1994-03-19 00:00:00, 1994-03-20 00:00:00, 1994-03-21 00:00:00, 1994-03-22 00:00:00, 1994-03-23 00:00:00, 1994-03-24 00:00:00, 1994-03-25 00:00:00, 1994-03-26 00:00:00, 1994-03-27 00:00:00, 1994-03-28 00:00:00, 1994-03-29 00:00:00, 1994-03-30 00:00:00, 1994-03-31 00:00:00, 1994-04-01 00:00:00, 1994-04-02 00:00:00, 1994-04-03 00:00:00, 1994-04-04 00:00:00, 1994-04-05 00:00:00, 1994-04-06 00:00:00, 1994-04-07 00:00:00, 1994-04-08 00:00:00, 1994-04-09 00:00:00, 1994-04-10 00:00:00, ...], [u'ACME', u'ADAX', u'ALTU', u'APAC', u'ARNE', u'BEAV', u'BESS', u'BIXB', u'BLAC', u'BOIS', u'BOWL', u'BREC', u'BRIS', u'BUFF', u'BURB', u'BURN', u'BUTL', u'BYAR', u'CAMA', u'CENT', u'CHAN', u'CHER', u'CHEY', u'CHIC', u'CLAY', u'CLOU', u'COOK', u'COPA', u'DURA', u'ELRE', u'ERIC', u'EUFA', u'FAIR', u'FORA', u'FREE', u'FTCB', u'GOOD', u'GUTH', u'HASK', u'HINT', u'HOBA', u'HOLL', u'HOOK', u'HUGO', u'IDAB', u'JAYX', u'KENT', u'KETC', u'LAHO', u'LANE', u'MADI', u'MANG', u'MARE', u'MAYR', u'MCAL', u'MEDF', u'MEDI', u'MIAM', u'MINC', u'MTHE', u'NEWK', u'NINN', u'NOWA', u'OILT', u'OKEM', u'OKMU', u'PAUL', u'PAWN', u'PERK', u'PRYO', u'PUTN', u'REDR', u'RETR', u'RING', u'SALL', u'SEIL', u'SHAW', u'SKIA', u'SLAP', u'SPEN', u'STIG', u'STIL', u'STUA', u'SULP', u'TAHL', u'TALI', u'TIPT', u'TISH', u'VINI', u'WASH', u'WATO', u'WAUR', u'WEAT', u'WEST', u'WILB', u'WIST', u'WOOD', u'WYNO']]\n",
      "INFO:solar.analyze.model:Test input indices: [[2008-01-01 00:00:00, 2008-01-02 00:00:00, 2008-01-03 00:00:00, 2008-01-04 00:00:00, 2008-01-05 00:00:00, 2008-01-06 00:00:00, 2008-01-07 00:00:00, 2008-01-08 00:00:00, 2008-01-09 00:00:00, 2008-01-10 00:00:00, 2008-01-11 00:00:00, 2008-01-12 00:00:00, 2008-01-13 00:00:00, 2008-01-14 00:00:00, 2008-01-15 00:00:00, 2008-01-16 00:00:00, 2008-01-17 00:00:00, 2008-01-18 00:00:00, 2008-01-19 00:00:00, 2008-01-20 00:00:00, 2008-01-21 00:00:00, 2008-01-22 00:00:00, 2008-01-23 00:00:00, 2008-01-24 00:00:00, 2008-01-25 00:00:00, 2008-01-26 00:00:00, 2008-01-27 00:00:00, 2008-01-28 00:00:00, 2008-01-29 00:00:00, 2008-01-30 00:00:00, 2008-01-31 00:00:00, 2008-02-01 00:00:00, 2008-02-02 00:00:00, 2008-02-03 00:00:00, 2008-02-04 00:00:00, 2008-02-05 00:00:00, 2008-02-06 00:00:00, 2008-02-07 00:00:00, 2008-02-08 00:00:00, 2008-02-09 00:00:00, 2008-02-10 00:00:00, 2008-02-11 00:00:00, 2008-02-12 00:00:00, 2008-02-13 00:00:00, 2008-02-14 00:00:00, 2008-02-15 00:00:00, 2008-02-16 00:00:00, 2008-02-17 00:00:00, 2008-02-18 00:00:00, 2008-02-19 00:00:00, 2008-02-20 00:00:00, 2008-02-21 00:00:00, 2008-02-22 00:00:00, 2008-02-23 00:00:00, 2008-02-24 00:00:00, 2008-02-25 00:00:00, 2008-02-26 00:00:00, 2008-02-27 00:00:00, 2008-02-28 00:00:00, 2008-02-29 00:00:00, 2008-03-01 00:00:00, 2008-03-02 00:00:00, 2008-03-03 00:00:00, 2008-03-04 00:00:00, 2008-03-05 00:00:00, 2008-03-06 00:00:00, 2008-03-07 00:00:00, 2008-03-08 00:00:00, 2008-03-09 00:00:00, 2008-03-10 00:00:00, 2008-03-11 00:00:00, 2008-03-12 00:00:00, 2008-03-13 00:00:00, 2008-03-14 00:00:00, 2008-03-15 00:00:00, 2008-03-16 00:00:00, 2008-03-17 00:00:00, 2008-03-18 00:00:00, 2008-03-19 00:00:00, 2008-03-20 00:00:00, 2008-03-21 00:00:00, 2008-03-22 00:00:00, 2008-03-23 00:00:00, 2008-03-24 00:00:00, 2008-03-25 00:00:00, 2008-03-26 00:00:00, 2008-03-27 00:00:00, 2008-03-28 00:00:00, 2008-03-29 00:00:00, 2008-03-30 00:00:00, 2008-03-31 00:00:00, 2008-04-01 00:00:00, 2008-04-02 00:00:00, 2008-04-03 00:00:00, 2008-04-04 00:00:00, 2008-04-05 00:00:00, 2008-04-06 00:00:00, 2008-04-07 00:00:00, 2008-04-08 00:00:00, 2008-04-09 00:00:00, ...], [u'ACME', u'ADAX', u'ALTU', u'APAC', u'ARNE', u'BEAV', u'BESS', u'BIXB', u'BLAC', u'BOIS', u'BOWL', u'BREC', u'BRIS', u'BUFF', u'BURB', u'BURN', u'BUTL', u'BYAR', u'CAMA', u'CENT', u'CHAN', u'CHER', u'CHEY', u'CHIC', u'CLAY', u'CLOU', u'COOK', u'COPA', u'DURA', u'ELRE', u'ERIC', u'EUFA', u'FAIR', u'FORA', u'FREE', u'FTCB', u'GOOD', u'GUTH', u'HASK', u'HINT', u'HOBA', u'HOLL', u'HOOK', u'HUGO', u'IDAB', u'JAYX', u'KENT', u'KETC', u'LAHO', u'LANE', u'MADI', u'MANG', u'MARE', u'MAYR', u'MCAL', u'MEDF', u'MEDI', u'MIAM', u'MINC', u'MTHE', u'NEWK', u'NINN', u'NOWA', u'OILT', u'OKEM', u'OKMU', u'PAUL', u'PAWN', u'PERK', u'PRYO', u'PUTN', u'REDR', u'RETR', u'RING', u'SALL', u'SEIL', u'SHAW', u'SKIA', u'SLAP', u'SPEN', u'STIG', u'STIL', u'STUA', u'SULP', u'TAHL', u'TALI', u'TIPT', u'TISH', u'VINI', u'WASH', u'WATO', u'WAUR', u'WEAT', u'WEST', u'WILB', u'WIST', u'WOOD', u'WYNO']]\n",
      "INFO:solar.analyze.model:Model name: <class 'sklearn.ensemble.gradient_boosting.GradientBoostingRegressor'>\n",
      "INFO:solar.analyze.model:Params: {'n_estimators': [100, 200, 300, 400], 'learning_rate': array([  1.00000000e-03,   1.00000000e-02,   1.00000000e-01,\n",
      "         1.00000000e+00,   1.00000000e+01])}\n",
      "INFO:solar.analyze.model:CV splits: 10\n",
      "INFO:solar.analyze.model:Error formula: mean_absolute_error\n",
      "INFO:solar.analyze.model:Model params: {'loss': 'ls', 'random_state': 0, 'max_depth': 1}\n",
      "/Users/Joel/anaconda/lib/python2.7/site-packages/sklearn/utils/validation.py:515: DataConversionWarning: A column-vector y was passed when a 1d array was expected. Please change the shape of y to (n_samples, ), for example using ravel().\n",
      "  y = column_or_1d(y, warn=True)\n",
      "/Users/Joel/anaconda/lib/python2.7/site-packages/sklearn/utils/validation.py:515: DataConversionWarning: A column-vector y was passed when a 1d array was expected. Please change the shape of y to (n_samples, ), for example using ravel().\n",
      "  y = column_or_1d(y, warn=True)\n",
      "/Users/Joel/anaconda/lib/python2.7/site-packages/sklearn/utils/validation.py:515: DataConversionWarning: A column-vector y was passed when a 1d array was expected. Please change the shape of y to (n_samples, ), for example using ravel().\n",
      "  y = column_or_1d(y, warn=True)\n",
      "/Users/Joel/anaconda/lib/python2.7/site-packages/sklearn/utils/validation.py:515: DataConversionWarning: A column-vector y was passed when a 1d array was expected. Please change the shape of y to (n_samples, ), for example using ravel().\n",
      "  y = column_or_1d(y, warn=True)\n",
      "/Users/Joel/anaconda/lib/python2.7/site-packages/sklearn/utils/validation.py:515: DataConversionWarning: A column-vector y was passed when a 1d array was expected. Please change the shape of y to (n_samples, ), for example using ravel().\n",
      "  y = column_or_1d(y, warn=True)\n",
      "/Users/Joel/anaconda/lib/python2.7/site-packages/sklearn/utils/validation.py:515: DataConversionWarning: A column-vector y was passed when a 1d array was expected. Please change the shape of y to (n_samples, ), for example using ravel().\n",
      "  y = column_or_1d(y, warn=True)\n",
      "/Users/Joel/anaconda/lib/python2.7/site-packages/sklearn/utils/validation.py:515: DataConversionWarning: A column-vector y was passed when a 1d array was expected. Please change the shape of y to (n_samples, ), for example using ravel().\n",
      "  y = column_or_1d(y, warn=True)\n",
      "/Users/Joel/anaconda/lib/python2.7/site-packages/sklearn/utils/validation.py:515: DataConversionWarning: A column-vector y was passed when a 1d array was expected. Please change the shape of y to (n_samples, ), for example using ravel().\n",
      "  y = column_or_1d(y, warn=True)\n",
      "/Users/Joel/anaconda/lib/python2.7/site-packages/sklearn/utils/validation.py:515: DataConversionWarning: A column-vector y was passed when a 1d array was expected. Please change the shape of y to (n_samples, ), for example using ravel().\n",
      "  y = column_or_1d(y, warn=True)\n"
     ]
    },
    {
     "ename": "KeyboardInterrupt",
     "evalue": "",
     "output_type": "error",
     "traceback": [
      "\u001b[0;31m---------------------------------------------------------------------------\u001b[0m",
      "\u001b[0;31mKeyboardInterrupt\u001b[0m                         Traceback (most recent call last)",
      "\u001b[0;32m<ipython-input-7-8d2486f24b82>\u001b[0m in \u001b[0;36m<module>\u001b[0;34m()\u001b[0m\n\u001b[1;32m      9\u001b[0m \u001b[0;34m\u001b[0m\u001b[0m\n\u001b[1;32m     10\u001b[0m model = Model.model_from_pickle('input_2016-02-06-18-17-28.p', GradientBoostingRegressor, {'n_estimators':range(100,500, 100), 'learning_rate':np.logspace(-3,1,5,base=10)}, 10, \n\u001b[0;32m---> 11\u001b[0;31m                     error_formula, loss='ls', max_depth=1, random_state=0)\n\u001b[0m",
      "\u001b[0;32m/Users/Joel/Desktop/ga/ga_project/solar/analyze/model.pyc\u001b[0m in \u001b[0;36mmodel_from_pickle\u001b[0;34m(pickle_name, model_name, param_dict, cv_splits, err_formula, **model_params)\u001b[0m\n\u001b[1;32m     52\u001b[0m         \u001b[0minput_data\u001b[0m \u001b[0;34m=\u001b[0m \u001b[0mpickle\u001b[0m\u001b[0;34m.\u001b[0m\u001b[0mload\u001b[0m\u001b[0;34m(\u001b[0m\u001b[0mopen\u001b[0m\u001b[0;34m(\u001b[0m\u001b[0mpickle_file\u001b[0m\u001b[0;34m,\u001b[0m \u001b[0;34m'rb'\u001b[0m\u001b[0;34m)\u001b[0m\u001b[0;34m)\u001b[0m\u001b[0;34m\u001b[0m\u001b[0m\n\u001b[1;32m     53\u001b[0m         return Model.model(input_data, model_name, param_dict, cv_splits,\n\u001b[0;32m---> 54\u001b[0;31m                            err_formula, **model_params)\n\u001b[0m\u001b[1;32m     55\u001b[0m \u001b[0;34m\u001b[0m\u001b[0m\n\u001b[1;32m     56\u001b[0m     \u001b[0;34m@\u001b[0m\u001b[0mstaticmethod\u001b[0m\u001b[0;34m\u001b[0m\u001b[0m\n",
      "\u001b[0;32m/Users/Joel/Desktop/ga/ga_project/solar/analyze/model.pyc\u001b[0m in \u001b[0;36mmodel\u001b[0;34m(input_data, model_name, param_dict, cv_splits, err_formula, **model_params)\u001b[0m\n\u001b[1;32m     90\u001b[0m                             scoring=err_formula)\n\u001b[1;32m     91\u001b[0m \u001b[0;34m\u001b[0m\u001b[0m\n\u001b[0;32m---> 92\u001b[0;31m         \u001b[0mgrid\u001b[0m\u001b[0;34m.\u001b[0m\u001b[0mfit\u001b[0m\u001b[0;34m(\u001b[0m\u001b[0mtrainX\u001b[0m\u001b[0;34m,\u001b[0m \u001b[0mtrainy\u001b[0m\u001b[0;34m)\u001b[0m\u001b[0;34m\u001b[0m\u001b[0m\n\u001b[0m\u001b[1;32m     93\u001b[0m \u001b[0;34m\u001b[0m\u001b[0m\n\u001b[1;32m     94\u001b[0m         \u001b[0mlogger\u001b[0m\u001b[0;34m.\u001b[0m\u001b[0minfo\u001b[0m\u001b[0;34m(\u001b[0m\u001b[0;34m'Best score: %s'\u001b[0m \u001b[0;34m%\u001b[0m \u001b[0;34m(\u001b[0m\u001b[0mgrid\u001b[0m\u001b[0;34m.\u001b[0m\u001b[0mbest_score_\u001b[0m\u001b[0;34m)\u001b[0m\u001b[0;34m)\u001b[0m\u001b[0;34m\u001b[0m\u001b[0m\n",
      "\u001b[0;32m/Users/Joel/anaconda/lib/python2.7/site-packages/sklearn/grid_search.pyc\u001b[0m in \u001b[0;36mfit\u001b[0;34m(self, X, y)\u001b[0m\n\u001b[1;32m    802\u001b[0m \u001b[0;34m\u001b[0m\u001b[0m\n\u001b[1;32m    803\u001b[0m         \"\"\"\n\u001b[0;32m--> 804\u001b[0;31m         \u001b[0;32mreturn\u001b[0m \u001b[0mself\u001b[0m\u001b[0;34m.\u001b[0m\u001b[0m_fit\u001b[0m\u001b[0;34m(\u001b[0m\u001b[0mX\u001b[0m\u001b[0;34m,\u001b[0m \u001b[0my\u001b[0m\u001b[0;34m,\u001b[0m \u001b[0mParameterGrid\u001b[0m\u001b[0;34m(\u001b[0m\u001b[0mself\u001b[0m\u001b[0;34m.\u001b[0m\u001b[0mparam_grid\u001b[0m\u001b[0;34m)\u001b[0m\u001b[0;34m)\u001b[0m\u001b[0;34m\u001b[0m\u001b[0m\n\u001b[0m\u001b[1;32m    805\u001b[0m \u001b[0;34m\u001b[0m\u001b[0m\n\u001b[1;32m    806\u001b[0m \u001b[0;34m\u001b[0m\u001b[0m\n",
      "\u001b[0;32m/Users/Joel/anaconda/lib/python2.7/site-packages/sklearn/grid_search.pyc\u001b[0m in \u001b[0;36m_fit\u001b[0;34m(self, X, y, parameter_iterable)\u001b[0m\n\u001b[1;32m    551\u001b[0m                                     \u001b[0mself\u001b[0m\u001b[0;34m.\u001b[0m\u001b[0mfit_params\u001b[0m\u001b[0;34m,\u001b[0m \u001b[0mreturn_parameters\u001b[0m\u001b[0;34m=\u001b[0m\u001b[0mTrue\u001b[0m\u001b[0;34m,\u001b[0m\u001b[0;34m\u001b[0m\u001b[0m\n\u001b[1;32m    552\u001b[0m                                     error_score=self.error_score)\n\u001b[0;32m--> 553\u001b[0;31m                 \u001b[0;32mfor\u001b[0m \u001b[0mparameters\u001b[0m \u001b[0;32min\u001b[0m \u001b[0mparameter_iterable\u001b[0m\u001b[0;34m\u001b[0m\u001b[0m\n\u001b[0m\u001b[1;32m    554\u001b[0m                 for train, test in cv)\n\u001b[1;32m    555\u001b[0m \u001b[0;34m\u001b[0m\u001b[0m\n",
      "\u001b[0;32m/Users/Joel/anaconda/lib/python2.7/site-packages/sklearn/externals/joblib/parallel.pyc\u001b[0m in \u001b[0;36m__call__\u001b[0;34m(self, iterable)\u001b[0m\n\u001b[1;32m    802\u001b[0m             \u001b[0mself\u001b[0m\u001b[0;34m.\u001b[0m\u001b[0m_iterating\u001b[0m \u001b[0;34m=\u001b[0m \u001b[0mTrue\u001b[0m\u001b[0;34m\u001b[0m\u001b[0m\n\u001b[1;32m    803\u001b[0m \u001b[0;34m\u001b[0m\u001b[0m\n\u001b[0;32m--> 804\u001b[0;31m             \u001b[0;32mwhile\u001b[0m \u001b[0mself\u001b[0m\u001b[0;34m.\u001b[0m\u001b[0mdispatch_one_batch\u001b[0m\u001b[0;34m(\u001b[0m\u001b[0miterator\u001b[0m\u001b[0;34m)\u001b[0m\u001b[0;34m:\u001b[0m\u001b[0;34m\u001b[0m\u001b[0m\n\u001b[0m\u001b[1;32m    805\u001b[0m                 \u001b[0;32mpass\u001b[0m\u001b[0;34m\u001b[0m\u001b[0m\n\u001b[1;32m    806\u001b[0m \u001b[0;34m\u001b[0m\u001b[0m\n",
      "\u001b[0;32m/Users/Joel/anaconda/lib/python2.7/site-packages/sklearn/externals/joblib/parallel.pyc\u001b[0m in \u001b[0;36mdispatch_one_batch\u001b[0;34m(self, iterator)\u001b[0m\n\u001b[1;32m    660\u001b[0m                 \u001b[0;32mreturn\u001b[0m \u001b[0mFalse\u001b[0m\u001b[0;34m\u001b[0m\u001b[0m\n\u001b[1;32m    661\u001b[0m             \u001b[0;32melse\u001b[0m\u001b[0;34m:\u001b[0m\u001b[0;34m\u001b[0m\u001b[0m\n\u001b[0;32m--> 662\u001b[0;31m                 \u001b[0mself\u001b[0m\u001b[0;34m.\u001b[0m\u001b[0m_dispatch\u001b[0m\u001b[0;34m(\u001b[0m\u001b[0mtasks\u001b[0m\u001b[0;34m)\u001b[0m\u001b[0;34m\u001b[0m\u001b[0m\n\u001b[0m\u001b[1;32m    663\u001b[0m                 \u001b[0;32mreturn\u001b[0m \u001b[0mTrue\u001b[0m\u001b[0;34m\u001b[0m\u001b[0m\n\u001b[1;32m    664\u001b[0m \u001b[0;34m\u001b[0m\u001b[0m\n",
      "\u001b[0;32m/Users/Joel/anaconda/lib/python2.7/site-packages/sklearn/externals/joblib/parallel.pyc\u001b[0m in \u001b[0;36m_dispatch\u001b[0;34m(self, batch)\u001b[0m\n\u001b[1;32m    568\u001b[0m \u001b[0;34m\u001b[0m\u001b[0m\n\u001b[1;32m    569\u001b[0m         \u001b[0;32mif\u001b[0m \u001b[0mself\u001b[0m\u001b[0;34m.\u001b[0m\u001b[0m_pool\u001b[0m \u001b[0;32mis\u001b[0m \u001b[0mNone\u001b[0m\u001b[0;34m:\u001b[0m\u001b[0;34m\u001b[0m\u001b[0m\n\u001b[0;32m--> 570\u001b[0;31m             \u001b[0mjob\u001b[0m \u001b[0;34m=\u001b[0m \u001b[0mImmediateComputeBatch\u001b[0m\u001b[0;34m(\u001b[0m\u001b[0mbatch\u001b[0m\u001b[0;34m)\u001b[0m\u001b[0;34m\u001b[0m\u001b[0m\n\u001b[0m\u001b[1;32m    571\u001b[0m             \u001b[0mself\u001b[0m\u001b[0;34m.\u001b[0m\u001b[0m_jobs\u001b[0m\u001b[0;34m.\u001b[0m\u001b[0mappend\u001b[0m\u001b[0;34m(\u001b[0m\u001b[0mjob\u001b[0m\u001b[0;34m)\u001b[0m\u001b[0;34m\u001b[0m\u001b[0m\n\u001b[1;32m    572\u001b[0m             \u001b[0mself\u001b[0m\u001b[0;34m.\u001b[0m\u001b[0mn_dispatched_batches\u001b[0m \u001b[0;34m+=\u001b[0m \u001b[0;36m1\u001b[0m\u001b[0;34m\u001b[0m\u001b[0m\n",
      "\u001b[0;32m/Users/Joel/anaconda/lib/python2.7/site-packages/sklearn/externals/joblib/parallel.pyc\u001b[0m in \u001b[0;36m__init__\u001b[0;34m(self, batch)\u001b[0m\n\u001b[1;32m    181\u001b[0m         \u001b[0;31m# Don't delay the application, to avoid keeping the input\u001b[0m\u001b[0;34m\u001b[0m\u001b[0;34m\u001b[0m\u001b[0m\n\u001b[1;32m    182\u001b[0m         \u001b[0;31m# arguments in memory\u001b[0m\u001b[0;34m\u001b[0m\u001b[0;34m\u001b[0m\u001b[0m\n\u001b[0;32m--> 183\u001b[0;31m         \u001b[0mself\u001b[0m\u001b[0;34m.\u001b[0m\u001b[0mresults\u001b[0m \u001b[0;34m=\u001b[0m \u001b[0mbatch\u001b[0m\u001b[0;34m(\u001b[0m\u001b[0;34m)\u001b[0m\u001b[0;34m\u001b[0m\u001b[0m\n\u001b[0m\u001b[1;32m    184\u001b[0m \u001b[0;34m\u001b[0m\u001b[0m\n\u001b[1;32m    185\u001b[0m     \u001b[0;32mdef\u001b[0m \u001b[0mget\u001b[0m\u001b[0;34m(\u001b[0m\u001b[0mself\u001b[0m\u001b[0;34m)\u001b[0m\u001b[0;34m:\u001b[0m\u001b[0;34m\u001b[0m\u001b[0m\n",
      "\u001b[0;32m/Users/Joel/anaconda/lib/python2.7/site-packages/sklearn/externals/joblib/parallel.pyc\u001b[0m in \u001b[0;36m__call__\u001b[0;34m(self)\u001b[0m\n\u001b[1;32m     70\u001b[0m \u001b[0;34m\u001b[0m\u001b[0m\n\u001b[1;32m     71\u001b[0m     \u001b[0;32mdef\u001b[0m \u001b[0m__call__\u001b[0m\u001b[0;34m(\u001b[0m\u001b[0mself\u001b[0m\u001b[0;34m)\u001b[0m\u001b[0;34m:\u001b[0m\u001b[0;34m\u001b[0m\u001b[0m\n\u001b[0;32m---> 72\u001b[0;31m         \u001b[0;32mreturn\u001b[0m \u001b[0;34m[\u001b[0m\u001b[0mfunc\u001b[0m\u001b[0;34m(\u001b[0m\u001b[0;34m*\u001b[0m\u001b[0margs\u001b[0m\u001b[0;34m,\u001b[0m \u001b[0;34m**\u001b[0m\u001b[0mkwargs\u001b[0m\u001b[0;34m)\u001b[0m \u001b[0;32mfor\u001b[0m \u001b[0mfunc\u001b[0m\u001b[0;34m,\u001b[0m \u001b[0margs\u001b[0m\u001b[0;34m,\u001b[0m \u001b[0mkwargs\u001b[0m \u001b[0;32min\u001b[0m \u001b[0mself\u001b[0m\u001b[0;34m.\u001b[0m\u001b[0mitems\u001b[0m\u001b[0;34m]\u001b[0m\u001b[0;34m\u001b[0m\u001b[0m\n\u001b[0m\u001b[1;32m     73\u001b[0m \u001b[0;34m\u001b[0m\u001b[0m\n\u001b[1;32m     74\u001b[0m     \u001b[0;32mdef\u001b[0m \u001b[0m__len__\u001b[0m\u001b[0;34m(\u001b[0m\u001b[0mself\u001b[0m\u001b[0;34m)\u001b[0m\u001b[0;34m:\u001b[0m\u001b[0;34m\u001b[0m\u001b[0m\n",
      "\u001b[0;32m/Users/Joel/anaconda/lib/python2.7/site-packages/sklearn/cross_validation.pyc\u001b[0m in \u001b[0;36m_fit_and_score\u001b[0;34m(estimator, X, y, scorer, train, test, verbose, parameters, fit_params, return_train_score, return_parameters, error_score)\u001b[0m\n\u001b[1;32m   1529\u001b[0m             \u001b[0mestimator\u001b[0m\u001b[0;34m.\u001b[0m\u001b[0mfit\u001b[0m\u001b[0;34m(\u001b[0m\u001b[0mX_train\u001b[0m\u001b[0;34m,\u001b[0m \u001b[0;34m**\u001b[0m\u001b[0mfit_params\u001b[0m\u001b[0;34m)\u001b[0m\u001b[0;34m\u001b[0m\u001b[0m\n\u001b[1;32m   1530\u001b[0m         \u001b[0;32melse\u001b[0m\u001b[0;34m:\u001b[0m\u001b[0;34m\u001b[0m\u001b[0m\n\u001b[0;32m-> 1531\u001b[0;31m             \u001b[0mestimator\u001b[0m\u001b[0;34m.\u001b[0m\u001b[0mfit\u001b[0m\u001b[0;34m(\u001b[0m\u001b[0mX_train\u001b[0m\u001b[0;34m,\u001b[0m \u001b[0my_train\u001b[0m\u001b[0;34m,\u001b[0m \u001b[0;34m**\u001b[0m\u001b[0mfit_params\u001b[0m\u001b[0;34m)\u001b[0m\u001b[0;34m\u001b[0m\u001b[0m\n\u001b[0m\u001b[1;32m   1532\u001b[0m \u001b[0;34m\u001b[0m\u001b[0m\n\u001b[1;32m   1533\u001b[0m     \u001b[0;32mexcept\u001b[0m \u001b[0mException\u001b[0m \u001b[0;32mas\u001b[0m \u001b[0me\u001b[0m\u001b[0;34m:\u001b[0m\u001b[0;34m\u001b[0m\u001b[0m\n",
      "\u001b[0;32m/Users/Joel/anaconda/lib/python2.7/site-packages/sklearn/ensemble/gradient_boosting.pyc\u001b[0m in \u001b[0;36mfit\u001b[0;34m(self, X, y, sample_weight, monitor)\u001b[0m\n\u001b[1;32m   1023\u001b[0m         \u001b[0;31m# fit the boosting stages\u001b[0m\u001b[0;34m\u001b[0m\u001b[0;34m\u001b[0m\u001b[0m\n\u001b[1;32m   1024\u001b[0m         n_stages = self._fit_stages(X, y, y_pred, sample_weight, random_state,\n\u001b[0;32m-> 1025\u001b[0;31m                                     begin_at_stage, monitor, X_idx_sorted)\n\u001b[0m\u001b[1;32m   1026\u001b[0m         \u001b[0;31m# change shape of arrays after fit (early-stopping or additional ests)\u001b[0m\u001b[0;34m\u001b[0m\u001b[0;34m\u001b[0m\u001b[0m\n\u001b[1;32m   1027\u001b[0m         \u001b[0;32mif\u001b[0m \u001b[0mn_stages\u001b[0m \u001b[0;34m!=\u001b[0m \u001b[0mself\u001b[0m\u001b[0;34m.\u001b[0m\u001b[0mestimators_\u001b[0m\u001b[0;34m.\u001b[0m\u001b[0mshape\u001b[0m\u001b[0;34m[\u001b[0m\u001b[0;36m0\u001b[0m\u001b[0;34m]\u001b[0m\u001b[0;34m:\u001b[0m\u001b[0;34m\u001b[0m\u001b[0m\n",
      "\u001b[0;32m/Users/Joel/anaconda/lib/python2.7/site-packages/sklearn/ensemble/gradient_boosting.pyc\u001b[0m in \u001b[0;36m_fit_stages\u001b[0;34m(self, X, y, y_pred, sample_weight, random_state, begin_at_stage, monitor, X_idx_sorted)\u001b[0m\n\u001b[1;32m   1078\u001b[0m             y_pred = self._fit_stage(i, X, y, y_pred, sample_weight,\n\u001b[1;32m   1079\u001b[0m                                      \u001b[0msample_mask\u001b[0m\u001b[0;34m,\u001b[0m \u001b[0mrandom_state\u001b[0m\u001b[0;34m,\u001b[0m \u001b[0mX_idx_sorted\u001b[0m\u001b[0;34m,\u001b[0m\u001b[0;34m\u001b[0m\u001b[0m\n\u001b[0;32m-> 1080\u001b[0;31m                                      X_csc, X_csr)\n\u001b[0m\u001b[1;32m   1081\u001b[0m \u001b[0;34m\u001b[0m\u001b[0m\n\u001b[1;32m   1082\u001b[0m             \u001b[0;31m# track deviance (= loss)\u001b[0m\u001b[0;34m\u001b[0m\u001b[0;34m\u001b[0m\u001b[0m\n",
      "\u001b[0;32m/Users/Joel/anaconda/lib/python2.7/site-packages/sklearn/ensemble/gradient_boosting.pyc\u001b[0m in \u001b[0;36m_fit_stage\u001b[0;34m(self, i, X, y, y_pred, sample_weight, sample_mask, random_state, X_idx_sorted, X_csc, X_csr)\u001b[0m\n\u001b[1;32m    782\u001b[0m             \u001b[0;32melse\u001b[0m\u001b[0;34m:\u001b[0m\u001b[0;34m\u001b[0m\u001b[0m\n\u001b[1;32m    783\u001b[0m                 tree.fit(X, residual, sample_weight=sample_weight,\n\u001b[0;32m--> 784\u001b[0;31m                          check_input=False, X_idx_sorted=X_idx_sorted)\n\u001b[0m\u001b[1;32m    785\u001b[0m \u001b[0;34m\u001b[0m\u001b[0m\n\u001b[1;32m    786\u001b[0m             \u001b[0;31m# update tree leaves\u001b[0m\u001b[0;34m\u001b[0m\u001b[0;34m\u001b[0m\u001b[0m\n",
      "\u001b[0;32m/Users/Joel/anaconda/lib/python2.7/site-packages/sklearn/tree/tree.pyc\u001b[0m in \u001b[0;36mfit\u001b[0;34m(self, X, y, sample_weight, check_input, X_idx_sorted)\u001b[0m\n\u001b[1;32m    305\u001b[0m         \u001b[0;32mif\u001b[0m \u001b[0mX_idx_sorted\u001b[0m \u001b[0;32mis\u001b[0m \u001b[0mNone\u001b[0m \u001b[0;32mand\u001b[0m \u001b[0mpresort\u001b[0m\u001b[0;34m:\u001b[0m\u001b[0;34m\u001b[0m\u001b[0m\n\u001b[1;32m    306\u001b[0m                 X_idx_sorted = np.asfortranarray(np.argsort(X, axis=0),\n\u001b[0;32m--> 307\u001b[0;31m                                                  dtype=np.int32)\n\u001b[0m\u001b[1;32m    308\u001b[0m \u001b[0;34m\u001b[0m\u001b[0m\n\u001b[1;32m    309\u001b[0m         \u001b[0;32mif\u001b[0m \u001b[0mpresort\u001b[0m \u001b[0;32mand\u001b[0m \u001b[0mX_idx_sorted\u001b[0m\u001b[0;34m.\u001b[0m\u001b[0mshape\u001b[0m \u001b[0;34m!=\u001b[0m \u001b[0mX\u001b[0m\u001b[0;34m.\u001b[0m\u001b[0mshape\u001b[0m\u001b[0;34m:\u001b[0m\u001b[0;34m\u001b[0m\u001b[0m\n",
      "\u001b[0;32m/Users/Joel/anaconda/lib/python2.7/site-packages/numpy/core/numeric.pyc\u001b[0m in \u001b[0;36masfortranarray\u001b[0;34m(a, dtype)\u001b[0m\n\u001b[1;32m    595\u001b[0m \u001b[0;34m\u001b[0m\u001b[0m\n\u001b[1;32m    596\u001b[0m     \"\"\"\n\u001b[0;32m--> 597\u001b[0;31m     \u001b[0;32mreturn\u001b[0m \u001b[0marray\u001b[0m\u001b[0;34m(\u001b[0m\u001b[0ma\u001b[0m\u001b[0;34m,\u001b[0m \u001b[0mdtype\u001b[0m\u001b[0;34m,\u001b[0m \u001b[0mcopy\u001b[0m\u001b[0;34m=\u001b[0m\u001b[0mFalse\u001b[0m\u001b[0;34m,\u001b[0m \u001b[0morder\u001b[0m\u001b[0;34m=\u001b[0m\u001b[0;34m'F'\u001b[0m\u001b[0;34m,\u001b[0m \u001b[0mndmin\u001b[0m\u001b[0;34m=\u001b[0m\u001b[0;36m1\u001b[0m\u001b[0;34m)\u001b[0m\u001b[0;34m\u001b[0m\u001b[0m\n\u001b[0m\u001b[1;32m    598\u001b[0m \u001b[0;34m\u001b[0m\u001b[0m\n\u001b[1;32m    599\u001b[0m \u001b[0;32mdef\u001b[0m \u001b[0mrequire\u001b[0m\u001b[0;34m(\u001b[0m\u001b[0ma\u001b[0m\u001b[0;34m,\u001b[0m \u001b[0mdtype\u001b[0m\u001b[0;34m=\u001b[0m\u001b[0mNone\u001b[0m\u001b[0;34m,\u001b[0m \u001b[0mrequirements\u001b[0m\u001b[0;34m=\u001b[0m\u001b[0mNone\u001b[0m\u001b[0;34m)\u001b[0m\u001b[0;34m:\u001b[0m\u001b[0;34m\u001b[0m\u001b[0m\n",
      "\u001b[0;31mKeyboardInterrupt\u001b[0m: "
     ]
    }
   ],
   "source": [
    "reload(solar.analyze.model)\n",
    "import numpy as np\n",
    "from solar.analyze.model import Model\n",
    "\n",
    "from sklearn.ensemble import GradientBoostingRegressor\n",
    "from sklearn import metrics\n",
    "\n",
    "error_formula = 'mean_absolute_error'\n",
    "\n",
    "model = Model.model_from_pickle('input_2016-02-06-18-17-28.p', GradientBoostingRegressor, {'n_estimators':range(100,500, 100), 'learning_rate':np.logspace(-3,1,5,base=10)}, 10, \n",
    "                    error_formula, loss='ls', max_depth=1, random_state=0)"
   ]
  },
  {
   "cell_type": "code",
   "execution_count": 4,
   "metadata": {
    "collapsed": false
   },
   "outputs": [
    {
     "name": "stderr",
     "output_type": "stream",
     "text": [
      "INFO:solar.report.submission:Started building submission file\n",
      "INFO:solar.report.submission:Finished building submission file\n"
     ]
    },
    {
     "ename": "IOError",
     "evalue": "[Errno 2] No such file or directory: 'solar/data/kaggle_solar/submissions/submit_2016-02-06-19-04-48.p'",
     "output_type": "error",
     "traceback": [
      "\u001b[0;31m---------------------------------------------------------------------------\u001b[0m",
      "\u001b[0;31mIOError\u001b[0m                                   Traceback (most recent call last)",
      "\u001b[0;32m<ipython-input-4-b5172ab534ee>\u001b[0m in \u001b[0;36m<module>\u001b[0;34m()\u001b[0m\n\u001b[1;32m      2\u001b[0m \u001b[0;32mfrom\u001b[0m \u001b[0msolar\u001b[0m\u001b[0;34m.\u001b[0m\u001b[0mreport\u001b[0m\u001b[0;34m.\u001b[0m\u001b[0msubmission\u001b[0m \u001b[0;32mimport\u001b[0m \u001b[0mSubmission\u001b[0m\u001b[0;34m\u001b[0m\u001b[0m\n\u001b[1;32m      3\u001b[0m \u001b[0;34m\u001b[0m\u001b[0m\n\u001b[0;32m----> 4\u001b[0;31m \u001b[0mpreds\u001b[0m \u001b[0;34m=\u001b[0m \u001b[0mSubmission\u001b[0m\u001b[0;34m.\u001b[0m\u001b[0msubmit_from_pickle\u001b[0m\u001b[0;34m(\u001b[0m\u001b[0;34m'model_2016-02-06-18-21-41.p'\u001b[0m\u001b[0;34m,\u001b[0m \u001b[0;34m'input_2016-02-06-18-17-28.p'\u001b[0m\u001b[0;34m,\u001b[0m \u001b[0mTrue\u001b[0m\u001b[0;34m)\u001b[0m\u001b[0;34m\u001b[0m\u001b[0m\n\u001b[0m\u001b[1;32m      5\u001b[0m \u001b[0;34m\u001b[0m\u001b[0m\n",
      "\u001b[0;32m/Users/Joel/Desktop/ga/ga_project/solar/report/submission.pyc\u001b[0m in \u001b[0;36msubmit_from_pickle\u001b[0;34m(pickle_model, pickle_data, station_format)\u001b[0m\n\u001b[1;32m     50\u001b[0m \u001b[0;34m\u001b[0m\u001b[0m\n\u001b[1;32m     51\u001b[0m         return Submission.make_submission_file(model, trainy, testX,\n\u001b[0;32m---> 52\u001b[0;31m                                                station_format)\n\u001b[0m\u001b[1;32m     53\u001b[0m \u001b[0;34m\u001b[0m\u001b[0m\n\u001b[1;32m     54\u001b[0m     \u001b[0;34m@\u001b[0m\u001b[0mstaticmethod\u001b[0m\u001b[0;34m\u001b[0m\u001b[0m\n",
      "\u001b[0;32m/Users/Joel/Desktop/ga/ga_project/solar/report/submission.pyc\u001b[0m in \u001b[0;36mmake_submission_file\u001b[0;34m(model, trainy, testX, station_format)\u001b[0m\n\u001b[1;32m     93\u001b[0m         pickle.dump((preds),\n\u001b[1;32m     94\u001b[0m                     open(\"solar/data/kaggle_solar/submissions/submit_\" +\n\u001b[0;32m---> 95\u001b[0;31m                          file_time + \".p\", \"wb\"))\n\u001b[0m\u001b[1;32m     96\u001b[0m         \u001b[0;32mreturn\u001b[0m \u001b[0mpreds\u001b[0m\u001b[0;34m\u001b[0m\u001b[0m\n\u001b[1;32m     97\u001b[0m \u001b[0;34m\u001b[0m\u001b[0m\n",
      "\u001b[0;31mIOError\u001b[0m: [Errno 2] No such file or directory: 'solar/data/kaggle_solar/submissions/submit_2016-02-06-19-04-48.p'"
     ]
    }
   ],
   "source": [
    "reload(solar.report.submission)\n",
    "from solar.report.submission import Submission\n",
    "\n",
    "preds = Submission.submit_from_pickle('model_2016-02-06-18-21-41.p', 'input_2016-02-06-18-17-28.p', True)\n",
    "\n"
   ]
  },
  {
   "cell_type": "code",
   "execution_count": null,
   "metadata": {
    "collapsed": true
   },
   "outputs": [],
   "source": []
  }
 ],
 "metadata": {
  "kernelspec": {
   "display_name": "Python 2",
   "language": "python",
   "name": "python2"
  },
  "language_info": {
   "codemirror_mode": {
    "name": "ipython",
    "version": 2
   },
   "file_extension": ".py",
   "mimetype": "text/x-python",
   "name": "python",
   "nbconvert_exporter": "python",
   "pygments_lexer": "ipython2",
   "version": "2.7.11"
  }
 },
 "nbformat": 4,
 "nbformat_minor": 0
}
