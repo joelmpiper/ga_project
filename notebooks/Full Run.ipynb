{
 "cells": [
  {
   "cell_type": "markdown",
   "metadata": {},
   "source": [
    "## Full Run"
   ]
  },
  {
   "cell_type": "code",
   "execution_count": 1,
   "metadata": {
    "collapsed": true
   },
   "outputs": [],
   "source": [
    "import os\n",
    "os.chdir('..')"
   ]
  },
  {
   "cell_type": "code",
   "execution_count": 2,
   "metadata": {
    "collapsed": true
   },
   "outputs": [],
   "source": [
    "Xtrain_dir = 'solar/data/kaggle_solar/train/'\n",
    "Xtest_dir = 'solar/data/kaggle_solar/test'\n",
    "ytrain_file = 'solar/data/kaggle_solar/train.csv'\n",
    "station_file = 'solar/data/kaggle_solar/station_info.csv'\n",
    "import solar.wrangle.wrangle\n",
    "import solar.wrangle.subset\n",
    "import solar.wrangle.engineer\n",
    "import solar.analyze.model\n",
    "import solar.report.submission\n",
    "import numpy as np"
   ]
  },
  {
   "cell_type": "code",
   "execution_count": 3,
   "metadata": {
    "collapsed": true
   },
   "outputs": [],
   "source": [
    "# Choose up to 98 stations; not specifying a station means to use all that fall within the given lats and longs. If the\n",
    "# parameter 'all' is given, then it will use all stations no matter the provided lats and longs\n",
    "station = ['all']\n",
    "\n",
    "# Determine which dates will be used to train the model. No specified date means use the entire set from 1994-01-01 \n",
    "# until 2007-12-31.\n",
    "train_dates = ['1994-01-01', '2007-12-31']\n",
    "\n",
    "#2008-01-01 until 2012-11-30\n",
    "test_dates = ['2008-01-01', '2012-11-30']\n",
    "\n",
    "station_layout = True\n",
    "\n",
    "# Use all variables\n",
    "var = ['all']\n",
    "\n",
    "# Keep model 0 (the default model) as a column for each of the variables (aggregated over other dimensions)\n",
    "model = [0]\n",
    "\n",
    "# Aggregate over all times\n",
    "times = ['all']\n",
    "\n",
    "default_grid = {'type':'relative', 'axes':{'var':var, 'models':model, 'times':times,\n",
    "                                          'station':station}}\n",
    "# This just uses the station_names as another feature\n",
    "stat_names = {'type':'station_names'}\n",
    "\n",
    "grid_and_stat_feats = [stat_names, default_grid]\n"
   ]
  },
  {
   "cell_type": "code",
   "execution_count": 4,
   "metadata": {
    "collapsed": true
   },
   "outputs": [],
   "source": [
    "import solar.report.submission\n",
    "import solar.wrangle.wrangle\n",
    "import solar.wrangle.subset\n",
    "import solar.wrangle.engineer\n",
    "import solar.analyze.model"
   ]
  },
  {
   "cell_type": "code",
   "execution_count": 5,
   "metadata": {
    "collapsed": false
   },
   "outputs": [
    {
     "name": "stdout",
     "output_type": "stream",
     "text": [
      "['ACME' 'ADAX' 'ALTU' 'APAC' 'ARNE' 'BEAV' 'BESS' 'BIXB' 'BLAC' 'BOIS'\n",
      " 'BOWL' 'BREC' 'BRIS' 'BUFF' 'BURB' 'BURN' 'BUTL' 'BYAR' 'CAMA' 'CENT'\n",
      " 'CHAN' 'CHER' 'CHEY' 'CHIC' 'CLAY' 'CLOU' 'COOK' 'COPA' 'DURA' 'ELRE'\n",
      " 'ERIC' 'EUFA' 'FAIR' 'FORA' 'FREE' 'FTCB' 'GOOD' 'GUTH' 'HASK' 'HINT'\n",
      " 'HOBA' 'HOLL' 'HOOK' 'HUGO' 'IDAB' 'JAYX' 'KENT' 'KETC' 'LAHO' 'LANE'\n",
      " 'MADI' 'MANG' 'MARE' 'MAYR' 'MCAL' 'MEDF' 'MEDI' 'MIAM' 'MINC' 'MTHE'\n",
      " 'NEWK' 'NINN' 'NOWA' 'OILT' 'OKEM' 'OKMU' 'PAUL' 'PAWN' 'PERK' 'PRYO'\n",
      " 'PUTN' 'REDR' 'RETR' 'RING' 'SALL' 'SEIL' 'SHAW' 'SKIA' 'SLAP' 'SPEN'\n",
      " 'STIG' 'STIL' 'STUA' 'SULP' 'TAHL' 'TALI' 'TIPT' 'TISH' 'VINI' 'WASH'\n",
      " 'WATO' 'WAUR' 'WEAT' 'WEST' 'WILB' 'WIST' 'WOOD' 'WYNO']\n",
      "98\n"
     ]
    },
    {
     "ename": "KeyboardInterrupt",
     "evalue": "",
     "output_type": "error",
     "traceback": [
      "\u001b[0;31m---------------------------------------------------------------------------\u001b[0m",
      "\u001b[0;31mKeyboardInterrupt\u001b[0m                         Traceback (most recent call last)",
      "\u001b[0;32m<ipython-input-5-c06656c84d83>\u001b[0m in \u001b[0;36m<module>\u001b[0;34m()\u001b[0m\n\u001b[1;32m      5\u001b[0m \u001b[0;32mfrom\u001b[0m \u001b[0msolar\u001b[0m\u001b[0;34m.\u001b[0m\u001b[0mwrangle\u001b[0m\u001b[0;34m.\u001b[0m\u001b[0mwrangle\u001b[0m \u001b[0;32mimport\u001b[0m \u001b[0mSolarData\u001b[0m\u001b[0;34m\u001b[0m\u001b[0m\n\u001b[1;32m      6\u001b[0m \u001b[0;34m\u001b[0m\u001b[0m\n\u001b[0;32m----> 7\u001b[0;31m \u001b[0minput_data\u001b[0m \u001b[0;34m=\u001b[0m \u001b[0mSolarData\u001b[0m\u001b[0;34m.\u001b[0m\u001b[0mload\u001b[0m\u001b[0;34m(\u001b[0m\u001b[0mXtrain_dir\u001b[0m\u001b[0;34m,\u001b[0m \u001b[0mytrain_file\u001b[0m\u001b[0;34m,\u001b[0m \u001b[0mXtest_dir\u001b[0m\u001b[0;34m,\u001b[0m \u001b[0mstation_file\u001b[0m\u001b[0;34m,\u001b[0m                                   \u001b[0mtrain_dates\u001b[0m\u001b[0;34m,\u001b[0m \u001b[0mtest_dates\u001b[0m\u001b[0;34m,\u001b[0m \u001b[0mstation\u001b[0m\u001b[0;34m,\u001b[0m                                   \u001b[0mstation_layout\u001b[0m\u001b[0;34m,\u001b[0m \u001b[0mgrid_and_stat_feats\u001b[0m\u001b[0;34m)\u001b[0m\u001b[0;34m\u001b[0m\u001b[0m\n\u001b[0m",
      "\u001b[0;32m/Users/Joel/Desktop/ga/ga_project/solar/wrangle/wrangle.pyc\u001b[0m in \u001b[0;36mload\u001b[0;34m(trainX_dir, trainy_file, testX_dir, loc_file, train_dates, test_dates, stations, station_layout, features)\u001b[0m\n\u001b[1;32m    236\u001b[0m         trainX, testX = SolarData.make_features(\n\u001b[1;32m    237\u001b[0m             \u001b[0mtrainX_dir\u001b[0m\u001b[0;34m,\u001b[0m \u001b[0mtestX_dir\u001b[0m\u001b[0;34m,\u001b[0m \u001b[0mlocy\u001b[0m\u001b[0;34m,\u001b[0m \u001b[0mtrain_dates\u001b[0m\u001b[0;34m,\u001b[0m \u001b[0mtest_dates\u001b[0m\u001b[0;34m,\u001b[0m \u001b[0mstations\u001b[0m\u001b[0;34m,\u001b[0m\u001b[0;34m\u001b[0m\u001b[0m\n\u001b[0;32m--> 238\u001b[0;31m             station_layout, features)\n\u001b[0m\u001b[1;32m    239\u001b[0m \u001b[0;34m\u001b[0m\u001b[0m\n\u001b[1;32m    240\u001b[0m         pickle.dump((trainX, trainy, testX, locy),\n",
      "\u001b[0;32m/Users/Joel/Desktop/ga/ga_project/solar/wrangle/wrangle.pyc\u001b[0m in \u001b[0;36mmake_features\u001b[0;34m(trainX_dir, testX_dir, locy, train_dates, test_dates, stations, station_layout, features)\u001b[0m\n\u001b[1;32m    213\u001b[0m             temp_train, temp_test = Engineer.engineer(\n\u001b[1;32m    214\u001b[0m                 \u001b[0mtrainX_dir\u001b[0m\u001b[0;34m,\u001b[0m \u001b[0mtestX_dir\u001b[0m\u001b[0;34m,\u001b[0m \u001b[0mlocy\u001b[0m\u001b[0;34m,\u001b[0m \u001b[0mtrain_dates\u001b[0m\u001b[0;34m,\u001b[0m \u001b[0mtest_dates\u001b[0m\u001b[0;34m,\u001b[0m \u001b[0mstations\u001b[0m\u001b[0;34m,\u001b[0m\u001b[0;34m\u001b[0m\u001b[0m\n\u001b[0;32m--> 215\u001b[0;31m                 station_layout, feat_type)\n\u001b[0m\u001b[1;32m    216\u001b[0m \u001b[0;34m\u001b[0m\u001b[0m\n\u001b[1;32m    217\u001b[0m             \u001b[0;31m# leave the row indices depending on what the data should look like\u001b[0m\u001b[0;34m\u001b[0m\u001b[0;34m\u001b[0m\u001b[0m\n",
      "\u001b[0;32m/Users/Joel/Desktop/ga/ga_project/solar/wrangle/engineer.pyc\u001b[0m in \u001b[0;36mengineer\u001b[0;34m(trainX_dir, testX_dir, locy, train_dates, test_dates, stations, station_layout, feature)\u001b[0m\n\u001b[1;32m     60\u001b[0m                                                    \u001b[0mtrain_dates\u001b[0m\u001b[0;34m,\u001b[0m \u001b[0mtest_dates\u001b[0m\u001b[0;34m,\u001b[0m\u001b[0;34m\u001b[0m\u001b[0m\n\u001b[1;32m     61\u001b[0m                                                    \u001b[0mstations\u001b[0m\u001b[0;34m,\u001b[0m \u001b[0mstation_layout\u001b[0m\u001b[0;34m,\u001b[0m\u001b[0;34m\u001b[0m\u001b[0m\n\u001b[0;32m---> 62\u001b[0;31m                                                    feature)\n\u001b[0m\u001b[1;32m     63\u001b[0m         \u001b[0;32melif\u001b[0m \u001b[0;34m(\u001b[0m\u001b[0mfeature\u001b[0m\u001b[0;34m[\u001b[0m\u001b[0;34m'type'\u001b[0m\u001b[0;34m]\u001b[0m \u001b[0;34m==\u001b[0m \u001b[0;34m'station_names'\u001b[0m\u001b[0;34m)\u001b[0m\u001b[0;34m:\u001b[0m\u001b[0;34m\u001b[0m\u001b[0m\n\u001b[1;32m     64\u001b[0m             trainX, testX = Engineer.make_station_names(\n",
      "\u001b[0;32m/Users/Joel/Desktop/ga/ga_project/solar/wrangle/engineer.pyc\u001b[0m in \u001b[0;36mmake_relative\u001b[0;34m(trainX_dir, testX_dir, locy, train_dates, test_dates, stations, station_layout, feature)\u001b[0m\n\u001b[1;32m    121\u001b[0m         testX = pd.merge(test_index, pd.DataFrame(testX),\n\u001b[1;32m    122\u001b[0m                          left_index=True, right_index=True)\n\u001b[0;32m--> 123\u001b[0;31m         \u001b[0;31m# manipulated no matter the form that they returned in\u001b[0m\u001b[0;34m\u001b[0m\u001b[0;34m\u001b[0m\u001b[0m\n\u001b[0m\u001b[1;32m    124\u001b[0m \u001b[0;34m\u001b[0m\u001b[0m\n\u001b[1;32m    125\u001b[0m         \u001b[0;31m# start by resetting the index so that these can be more easily\u001b[0m\u001b[0;34m\u001b[0m\u001b[0;34m\u001b[0m\u001b[0m\n",
      "\u001b[0;31mKeyboardInterrupt\u001b[0m: "
     ]
    }
   ],
   "source": [
    "# test combination of station names and grid\n",
    "reload(solar.wrangle.wrangle)\n",
    "reload(solar.wrangle.subset)\n",
    "reload(solar.wrangle.engineer)\n",
    "from solar.wrangle.wrangle import SolarData\n",
    "\n",
    "input_data = SolarData.load(Xtrain_dir, ytrain_file, Xtest_dir, station_file, \\\n",
    "                                  train_dates, test_dates, station, \\\n",
    "                                  station_layout, grid_and_stat_feats)"
   ]
  },
  {
   "cell_type": "code",
   "execution_count": null,
   "metadata": {
    "collapsed": true
   },
   "outputs": [],
   "source": [
    "reload(solar.analyze.model)\n",
    "import numpy as np\n",
    "from solar.analyze.model import Model\n",
    "\n",
    "from sklearn.linear_model import Ridge\n",
    "from sklearn import metrics\n",
    "\n",
    "error_formula = 'mean_absolute_error'\n",
    "\n",
    "model = Model.model(input_data, Ridge, {'alpha':np.logspace(-3,1,8,base=10)}, 10, \n",
    "                    error_formula, normalize=True)"
   ]
  },
  {
   "cell_type": "code",
   "execution_count": null,
   "metadata": {
    "collapsed": true
   },
   "outputs": [],
   "source": [
    "reload(solar.report.submission)\n",
    "from solar.report.submission import Submission\n",
    "\n",
    "preds = Submission.make_submission_file(model, input_data[1], input_data[2], {'grid'})"
   ]
  }
 ],
 "metadata": {
  "kernelspec": {
   "display_name": "Python 2",
   "language": "python",
   "name": "python2"
  },
  "language_info": {
   "codemirror_mode": {
    "name": "ipython",
    "version": 2
   },
   "file_extension": ".py",
   "mimetype": "text/x-python",
   "name": "python",
   "nbconvert_exporter": "python",
   "pygments_lexer": "ipython2",
   "version": "2.7.11"
  }
 },
 "nbformat": 4,
 "nbformat_minor": 0
}
