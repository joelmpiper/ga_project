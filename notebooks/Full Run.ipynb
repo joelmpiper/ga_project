{
 "cells": [
  {
   "cell_type": "markdown",
   "metadata": {},
   "source": [
    "## Full Run"
   ]
  },
  {
   "cell_type": "markdown",
   "metadata": {},
   "source": [
    "### In order to run the scripts, we need to be in the base directory. This will move us out of the notebooks directory and into the base directory"
   ]
  },
  {
   "cell_type": "code",
   "execution_count": 1,
   "metadata": {
    "collapsed": true
   },
   "outputs": [],
   "source": [
    "import os\n",
    "os.chdir('..')"
   ]
  },
  {
   "cell_type": "markdown",
   "metadata": {},
   "source": [
    "### Define where each of the datasets are stored"
   ]
  },
  {
   "cell_type": "code",
   "execution_count": 2,
   "metadata": {
    "collapsed": true
   },
   "outputs": [],
   "source": [
    "Xtrain_dir = 'solar/data/kaggle_solar/train/'\n",
    "Xtest_dir = 'solar/data/kaggle_solar/test'\n",
    "ytrain_file = 'solar/data/kaggle_solar/train.csv'\n",
    "station_file = 'solar/data/kaggle_solar/station_info.csv'\n",
    "import numpy as np"
   ]
  },
  {
   "cell_type": "markdown",
   "metadata": {},
   "source": [
    "### Define the parameters needed to run the analysis script."
   ]
  },
  {
   "cell_type": "code",
   "execution_count": 3,
   "metadata": {
    "collapsed": true
   },
   "outputs": [],
   "source": [
    "# Choose up to 98 stations; not specifying a station means to use all that fall within the given lats and longs. If the\n",
    "# parameter 'all' is given, then it will use all stations no matter the provided lats and longs\n",
    "station = ['all']\n",
    "\n",
    "# Determine which dates will be used to train the model. No specified date means use the entire set from 1994-01-01 \n",
    "# until 2007-12-31.\n",
    "train_dates = ['1994-01-01', '2007-12-31']\n",
    "\n",
    "#2008-01-01 until 2012-11-30\n",
    "test_dates = ['2008-01-01', '2012-11-30']\n",
    "\n",
    "station_layout = True\n",
    "\n",
    "# Use all variables\n",
    "var = ['all']\n",
    "\n",
    "# Keep model 0 (the default model) as a column for each of the variables (aggregated over other dimensions)\n",
    "model = [0]\n",
    "\n",
    "# Aggregate over all times\n",
    "times = ['all']\n",
    "\n",
    "default_grid = {'type':'relative', 'axes':{'var':var, 'models':model, 'times':times,\n",
    "                                          'station':station}}\n",
    "# This just uses the station_names as another feature\n",
    "stat_names = {'type':'station_names'}\n",
    "\n",
    "frac_dist = {'type':'frac_dist'}\n",
    "\n",
    "days_solstice = {'type':'days_from_solstice'}\n",
    "days_cold = {'type':'days_from_coldest'}\n",
    "\n",
    "all_feats = [stat_names, default_grid, frac_dist, days_solstice, days_cold]\n",
    "#all_feats = [stat_names, days_solstice, days_cold]"
   ]
  },
  {
   "cell_type": "markdown",
   "metadata": {},
   "source": [
    "### Define the directories that contain the code needed to run the analysis"
   ]
  },
  {
   "cell_type": "code",
   "execution_count": 4,
   "metadata": {
    "collapsed": true
   },
   "outputs": [],
   "source": [
    "import solar.report.submission\n",
    "import solar.wrangle.wrangle\n",
    "import solar.wrangle.subset\n",
    "import solar.wrangle.engineer\n",
    "import solar.analyze.model"
   ]
  },
  {
   "cell_type": "markdown",
   "metadata": {},
   "source": [
    "### Reload the modules to load in any code changes since the last run. Load in all of the data needed for the run and store in a pickle file. The 'external' flag determines whether to look to save the pickle file in a connected hard drive or to store locally. The information in pink shows what has been written to the log file."
   ]
  },
  {
   "cell_type": "code",
   "execution_count": null,
   "metadata": {
    "collapsed": false
   },
   "outputs": [
    {
     "name": "stderr",
     "output_type": "stream",
     "text": [
      "INFO:solar.wrangle.wrangle:Started building test and training data\n",
      "INFO:solar.wrangle.wrangle:Features: [{'type': 'station_names'}, {'axes': {'var': ['all'], 'models': [0], 'station': ['all'], 'times': ['all']}, 'type': 'relative'}, {'type': 'frac_dist'}, {'type': 'days_from_solstice'}, {'type': 'days_from_coldest'}]\n",
      "INFO:solar.wrangle.wrangle:Train dates: ['1994-01-01', '2007-12-31']\n",
      "INFO:solar.wrangle.wrangle:Test dates: ['2008-01-01', '2012-11-30']\n",
      "INFO:solar.wrangle.wrangle:Stations: ['all']\n"
     ]
    }
   ],
   "source": [
    "# test combination of station names and grid\n",
    "reload(solar.wrangle.wrangle)\n",
    "reload(solar.wrangle.subset)\n",
    "reload(solar.wrangle.engineer)\n",
    "from solar.wrangle.wrangle import SolarData\n",
    "\n",
    "#external = True\n",
    "\n",
    "input_data = SolarData.load(Xtrain_dir, ytrain_file, Xtest_dir, station_file, \\\n",
    "                                  train_dates, test_dates, station, \\\n",
    "                                  station_layout, all_feats, 'extern')"
   ]
  },
  {
   "cell_type": "code",
   "execution_count": null,
   "metadata": {
    "collapsed": false
   },
   "outputs": [],
   "source": [
    "reload(solar.analyze.model)\n",
    "import numpy as np\n",
    "from solar.analyze.model import Model\n",
    "\n",
    "from sklearn.linear_model import Ridge\n",
    "from sklearn import metrics\n",
    "\n",
    "error_formula = 'mean_absolute_error'\n",
    "\n",
    "model = Model.model(input_data, Ridge, {'alpha':np.logspace(-3,1,10,base=10)}, 10, \n",
    "                    error_formula, 4, 'extern', normalize=True)"
   ]
  },
  {
   "cell_type": "code",
   "execution_count": null,
   "metadata": {
    "collapsed": false
   },
   "outputs": [],
   "source": [
    "reload(solar.analyze.model)\n",
    "import numpy as np\n",
    "from solar.analyze.model import Model\n",
    "\n",
    "from sklearn.ensemble import GradientBoostingRegressor\n",
    "from sklearn import metrics\n",
    "\n",
    "error_formula = 'mean_absolute_error'\n",
    "\n",
    "model = Model.model_from_pickle('input_2016-02-06-18-17-28.p', GradientBoostingRegressor, {'n_estimators':range(100,500, 100), 'learning_rate':np.logspace(-3,1,5,base=10)}, 10, \n",
    "                    error_formula, loss='ls', max_depth=1, random_state=0)"
   ]
  },
  {
   "cell_type": "code",
   "execution_count": null,
   "metadata": {
    "collapsed": false
   },
   "outputs": [],
   "source": [
    "reload(solar.report.submission)\n",
    "from solar.report.submission import Submission\n",
    "\n",
    "preds = Submission.submit_from_pickle('model_2016-02-06-18-21-41.p', 'input_2016-02-06-18-17-28.p', True)\n",
    "\n"
   ]
  },
  {
   "cell_type": "code",
   "execution_count": null,
   "metadata": {
    "collapsed": true
   },
   "outputs": [],
   "source": []
  }
 ],
 "metadata": {
  "kernelspec": {
   "display_name": "Python 2",
   "language": "python",
   "name": "python2"
  },
  "language_info": {
   "codemirror_mode": {
    "name": "ipython",
    "version": 2
   },
   "file_extension": ".py",
   "mimetype": "text/x-python",
   "name": "python",
   "nbconvert_exporter": "python",
   "pygments_lexer": "ipython2",
   "version": "2.7.11"
  }
 },
 "nbformat": 4,
 "nbformat_minor": 0
}
