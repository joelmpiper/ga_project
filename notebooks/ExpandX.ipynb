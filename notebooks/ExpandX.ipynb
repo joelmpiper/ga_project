{
 "cells": [
  {
   "cell_type": "markdown",
   "metadata": {},
   "source": [
    "Rather than having one X entry for each day, tune the code so that there can be one X entry for each location on each day. This will be put the data in a form that is convenient for feature engineering."
   ]
  },
  {
   "cell_type": "code",
   "execution_count": 3,
   "metadata": {
    "collapsed": true
   },
   "outputs": [],
   "source": [
    "import os\n",
    "os.chdir('..')"
   ]
  },
  {
   "cell_type": "code",
   "execution_count": 4,
   "metadata": {
    "collapsed": false
   },
   "outputs": [],
   "source": [
    "import solar.wrangle.wrangle\n",
    "from solar.wrangle.wrangle import SolarData"
   ]
  },
  {
   "cell_type": "code",
   "execution_count": 67,
   "metadata": {
    "collapsed": false
   },
   "outputs": [
    {
     "name": "stdout",
     "output_type": "stream",
     "text": [
      "Training data shape (64, 3) (64, 1)\n"
     ]
    }
   ],
   "source": [
    "reload(solar.wrangle.wrangle)\n",
    "from solar.wrangle.wrangle import SolarData\n",
    "\n",
    "station = ['ACME', 'BEAV']\n",
    "train_dates = ['2005-07-29','2005-08-29']\n",
    "test_dates = ['2008-12-29', '2009-01-29']\n",
    "#var = ['dswrf_sfc', 'uswrf_sfc', 'spfh_2m', 'ulwrf_tatm']\n",
    "var = ['dswrf_sfc']\n",
    "models = [0]\n",
    "times = [18]\n",
    "lats = range(37,38)\n",
    "longs = range(265,268)\n",
    "X_par = {'train_dates':train_dates, 'test_dates':test_dates, 'var':var, 'models':models, 'times':times, 'lats':lats,\n",
    "        'longs':longs}\n",
    "y_par = {'station':station, 'train_dates':train_dates, 'lats':lats, 'longs':longs}\n",
    "trainX, trainy, testX = SolarData.load('solar/data/kaggle_solar/train/', 'solar/data/kaggle_solar/train.csv', \n",
    "                                'solar/data/kaggle_solar/test', 'solar/data/kaggle_solar/station_info.csv', \n",
    "                                learn_type='one_to_location', station=station, train_dates=train_dates, \n",
    "                                test_dates=test_dates, lats=lats, longs=longs, var=var, models=models, times=times)"
   ]
  },
  {
   "cell_type": "code",
   "execution_count": 4,
   "metadata": {
    "collapsed": false
   },
   "outputs": [],
   "source": [
    "import solar.wrangle.engineer"
   ]
  },
  {
   "cell_type": "code",
   "execution_count": 43,
   "metadata": {
    "collapsed": false
   },
   "outputs": [],
   "source": [
    "reload(solar.wrangle.engineer)\n",
    "from solar.wrangle.engineer import Engineer\n",
    "\n",
    "station = ['ACME', 'BEAV']\n",
    "train_dates = ['2005-07-29','2005-08-29']\n",
    "test_dates = ['2008-12-29', '2009-01-29']\n",
    "var = ['dswrf_sfc', 'uswrf_sfc', 'spfh_2m', 'ulwrf_tatm']\n",
    "#var = ['dswrf_sfc']\n",
    "models = [0,1]\n",
    "times = [18,21]\n",
    "lats = range(37,38)\n",
    "longs = range(265,268)\n",
    "X_par = {'train_dates':train_dates, 'test_dates':test_dates, 'var':var, 'models':models, 'times':times, 'lats':lats,\n",
    "        'longs':longs}\n",
    "y_par = {'station':station, 'train_dates':train_dates, 'lats':lats, 'longs':longs}\n",
    "new_feats = {'grid'}\n",
    "trainX, trainy, testX, locy = Engineer.engineer('solar/data/kaggle_solar/train/', 'solar/data/kaggle_solar/train.csv', \n",
    "                                'solar/data/kaggle_solar/test/', 'solar/data/kaggle_solar/station_info.csv',\n",
    "                                X_par, y_par, new_feats)"
   ]
  },
  {
   "cell_type": "code",
   "execution_count": 44,
   "metadata": {
    "collapsed": false
   },
   "outputs": [
    {
     "data": {
      "text/plain": [
       "(64, 64)"
      ]
     },
     "execution_count": 44,
     "metadata": {},
     "output_type": "execute_result"
    }
   ],
   "source": [
    "trainX.shape"
   ]
  },
  {
   "cell_type": "code",
   "execution_count": 51,
   "metadata": {
    "collapsed": false
   },
   "outputs": [],
   "source": [
    "import solar.wrangle.wrangle\n",
    "import solar.wrangle.engineer"
   ]
  },
  {
   "cell_type": "code",
   "execution_count": 68,
   "metadata": {
    "collapsed": false
   },
   "outputs": [
    {
     "name": "stdout",
     "output_type": "stream",
     "text": [
      "Training data shape (32, 4) (32, 2)\n"
     ]
    }
   ],
   "source": [
    "reload(solar.wrangle.wrangle)\n",
    "reload(solar.wrangle.engineer)\n",
    "\n",
    "\n",
    "from solar.wrangle.wrangle import SolarData\n",
    "from solar.wrangle.engineer import Engineer\n",
    "\n",
    "station = ['ACME', 'BEAV']\n",
    "train_dates = ['2005-07-29','2005-08-29']\n",
    "test_dates = ['2008-12-29', '2009-01-29']\n",
    "#var = ['dswrf_sfc', 'uswrf_sfc', 'spfh_2m', 'ulwrf_tatm']\n",
    "var = ['dswrf_sfc']\n",
    "models = [0]\n",
    "times = [18]\n",
    "lats = range(37,38)\n",
    "longs = range(265,268)\n",
    "new_feats = {'grid'}\n",
    "X_par = {'train_dates':train_dates, 'test_dates':test_dates, 'var':var, 'models':models, 'times':times, 'lats':lats,\n",
    "        'longs':longs}\n",
    "y_par = {'station':station, 'train_dates':train_dates, 'lats':lats, 'longs':longs}\n",
    "input_data = SolarData.load('solar/data/kaggle_solar/train/', 'solar/data/kaggle_solar/train.csv', \n",
    "                                'solar/data/kaggle_solar/test', 'solar/data/kaggle_solar/station_info.csv',\n",
    "                                new_feats, station=station, train_dates=train_dates, \n",
    "                                test_dates=test_dates, lats=lats, longs=longs, var=var, models=models, times=times)"
   ]
  },
  {
   "cell_type": "code",
   "execution_count": 71,
   "metadata": {
    "collapsed": false
   },
   "outputs": [
    {
     "data": {
      "text/html": [
       "<div>\n",
       "<table border=\"1\" class=\"dataframe\">\n",
       "  <thead>\n",
       "    <tr style=\"text-align: right;\">\n",
       "      <th>location</th>\n",
       "      <th>ACME</th>\n",
       "      <th>BEAV</th>\n",
       "    </tr>\n",
       "    <tr>\n",
       "      <th>date</th>\n",
       "      <th></th>\n",
       "      <th></th>\n",
       "    </tr>\n",
       "  </thead>\n",
       "  <tbody>\n",
       "    <tr>\n",
       "      <th>2005-07-29</th>\n",
       "      <td>28302900</td>\n",
       "      <td>29221200</td>\n",
       "    </tr>\n",
       "    <tr>\n",
       "      <th>2005-07-30</th>\n",
       "      <td>26890800</td>\n",
       "      <td>27926700</td>\n",
       "    </tr>\n",
       "    <tr>\n",
       "      <th>2005-07-31</th>\n",
       "      <td>26932200</td>\n",
       "      <td>27732300</td>\n",
       "    </tr>\n",
       "    <tr>\n",
       "      <th>2005-08-01</th>\n",
       "      <td>26653800</td>\n",
       "      <td>27705600</td>\n",
       "    </tr>\n",
       "    <tr>\n",
       "      <th>2005-08-02</th>\n",
       "      <td>26087700</td>\n",
       "      <td>27396000</td>\n",
       "    </tr>\n",
       "    <tr>\n",
       "      <th>2005-08-03</th>\n",
       "      <td>26110200</td>\n",
       "      <td>26341200</td>\n",
       "    </tr>\n",
       "    <tr>\n",
       "      <th>2005-08-04</th>\n",
       "      <td>21778200</td>\n",
       "      <td>13657500</td>\n",
       "    </tr>\n",
       "    <tr>\n",
       "      <th>2005-08-05</th>\n",
       "      <td>23165700</td>\n",
       "      <td>21474300</td>\n",
       "    </tr>\n",
       "    <tr>\n",
       "      <th>2005-08-06</th>\n",
       "      <td>16723200</td>\n",
       "      <td>21845400</td>\n",
       "    </tr>\n",
       "    <tr>\n",
       "      <th>2005-08-07</th>\n",
       "      <td>19678500</td>\n",
       "      <td>25909500</td>\n",
       "    </tr>\n",
       "    <tr>\n",
       "      <th>2005-08-08</th>\n",
       "      <td>14941200</td>\n",
       "      <td>23597700</td>\n",
       "    </tr>\n",
       "    <tr>\n",
       "      <th>2005-08-09</th>\n",
       "      <td>23424900</td>\n",
       "      <td>26688300</td>\n",
       "    </tr>\n",
       "    <tr>\n",
       "      <th>2005-08-10</th>\n",
       "      <td>23497200</td>\n",
       "      <td>22423200</td>\n",
       "    </tr>\n",
       "    <tr>\n",
       "      <th>2005-08-11</th>\n",
       "      <td>21048900</td>\n",
       "      <td>24960900</td>\n",
       "    </tr>\n",
       "    <tr>\n",
       "      <th>2005-08-12</th>\n",
       "      <td>23110800</td>\n",
       "      <td>17272500</td>\n",
       "    </tr>\n",
       "    <tr>\n",
       "      <th>2005-08-13</th>\n",
       "      <td>12648300</td>\n",
       "      <td>9591000</td>\n",
       "    </tr>\n",
       "    <tr>\n",
       "      <th>2005-08-14</th>\n",
       "      <td>5879700</td>\n",
       "      <td>4396200</td>\n",
       "    </tr>\n",
       "    <tr>\n",
       "      <th>2005-08-15</th>\n",
       "      <td>8742600</td>\n",
       "      <td>9235500</td>\n",
       "    </tr>\n",
       "    <tr>\n",
       "      <th>2005-08-16</th>\n",
       "      <td>6998100</td>\n",
       "      <td>11945700</td>\n",
       "    </tr>\n",
       "    <tr>\n",
       "      <th>2005-08-17</th>\n",
       "      <td>23789700</td>\n",
       "      <td>24288600</td>\n",
       "    </tr>\n",
       "    <tr>\n",
       "      <th>2005-08-18</th>\n",
       "      <td>25192500</td>\n",
       "      <td>23188500</td>\n",
       "    </tr>\n",
       "    <tr>\n",
       "      <th>2005-08-19</th>\n",
       "      <td>24472500</td>\n",
       "      <td>24807900</td>\n",
       "    </tr>\n",
       "    <tr>\n",
       "      <th>2005-08-20</th>\n",
       "      <td>24631500</td>\n",
       "      <td>17841600</td>\n",
       "    </tr>\n",
       "    <tr>\n",
       "      <th>2005-08-21</th>\n",
       "      <td>20253900</td>\n",
       "      <td>9878700</td>\n",
       "    </tr>\n",
       "    <tr>\n",
       "      <th>2005-08-22</th>\n",
       "      <td>22303500</td>\n",
       "      <td>23787900</td>\n",
       "    </tr>\n",
       "    <tr>\n",
       "      <th>2005-08-23</th>\n",
       "      <td>19127400</td>\n",
       "      <td>24324000</td>\n",
       "    </tr>\n",
       "    <tr>\n",
       "      <th>2005-08-24</th>\n",
       "      <td>24222300</td>\n",
       "      <td>23621100</td>\n",
       "    </tr>\n",
       "    <tr>\n",
       "      <th>2005-08-25</th>\n",
       "      <td>23527800</td>\n",
       "      <td>21767400</td>\n",
       "    </tr>\n",
       "    <tr>\n",
       "      <th>2005-08-26</th>\n",
       "      <td>24054900</td>\n",
       "      <td>24712200</td>\n",
       "    </tr>\n",
       "    <tr>\n",
       "      <th>2005-08-27</th>\n",
       "      <td>3354300</td>\n",
       "      <td>24649500</td>\n",
       "    </tr>\n",
       "    <tr>\n",
       "      <th>2005-08-28</th>\n",
       "      <td>20629200</td>\n",
       "      <td>22219200</td>\n",
       "    </tr>\n",
       "    <tr>\n",
       "      <th>2005-08-29</th>\n",
       "      <td>23314500</td>\n",
       "      <td>24656700</td>\n",
       "    </tr>\n",
       "  </tbody>\n",
       "</table>\n",
       "</div>"
      ],
      "text/plain": [
       "location        ACME      BEAV\n",
       "date                          \n",
       "2005-07-29  28302900  29221200\n",
       "2005-07-30  26890800  27926700\n",
       "2005-07-31  26932200  27732300\n",
       "2005-08-01  26653800  27705600\n",
       "2005-08-02  26087700  27396000\n",
       "2005-08-03  26110200  26341200\n",
       "2005-08-04  21778200  13657500\n",
       "2005-08-05  23165700  21474300\n",
       "2005-08-06  16723200  21845400\n",
       "2005-08-07  19678500  25909500\n",
       "2005-08-08  14941200  23597700\n",
       "2005-08-09  23424900  26688300\n",
       "2005-08-10  23497200  22423200\n",
       "2005-08-11  21048900  24960900\n",
       "2005-08-12  23110800  17272500\n",
       "2005-08-13  12648300   9591000\n",
       "2005-08-14   5879700   4396200\n",
       "2005-08-15   8742600   9235500\n",
       "2005-08-16   6998100  11945700\n",
       "2005-08-17  23789700  24288600\n",
       "2005-08-18  25192500  23188500\n",
       "2005-08-19  24472500  24807900\n",
       "2005-08-20  24631500  17841600\n",
       "2005-08-21  20253900   9878700\n",
       "2005-08-22  22303500  23787900\n",
       "2005-08-23  19127400  24324000\n",
       "2005-08-24  24222300  23621100\n",
       "2005-08-25  23527800  21767400\n",
       "2005-08-26  24054900  24712200\n",
       "2005-08-27   3354300  24649500\n",
       "2005-08-28  20629200  22219200\n",
       "2005-08-29  23314500  24656700"
      ]
     },
     "execution_count": 71,
     "metadata": {},
     "output_type": "execute_result"
    }
   ],
   "source": [
    "input_data[1]"
   ]
  }
 ],
 "metadata": {
  "kernelspec": {
   "display_name": "Python 2",
   "language": "python",
   "name": "python2"
  },
  "language_info": {
   "codemirror_mode": {
    "name": "ipython",
    "version": 2
   },
   "file_extension": ".py",
   "mimetype": "text/x-python",
   "name": "python",
   "nbconvert_exporter": "python",
   "pygments_lexer": "ipython2",
   "version": "2.7.11"
  }
 },
 "nbformat": 4,
 "nbformat_minor": 0
}
