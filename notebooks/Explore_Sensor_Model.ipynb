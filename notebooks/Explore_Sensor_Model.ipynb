{
 "cells": [
  {
   "cell_type": "code",
   "execution_count": 6,
   "metadata": {
    "collapsed": true
   },
   "outputs": [],
   "source": [
    "import numpy as np\n",
    "import netCDF4 as nc\n",
    "import sys\n",
    "import os\n",
    "os.chdir('..')"
   ]
  },
  {
   "cell_type": "code",
   "execution_count": 8,
   "metadata": {
    "collapsed": false
   },
   "outputs": [
    {
     "data": {
      "text/plain": [
       "<type 'netCDF4._netCDF4.Dataset'>\n",
       "root group (NETCDF4 data model, file format UNDEFINED):\n",
       "    Conventions: CF-1.0\n",
       "    title: Subset of data from 2nd-generation multi-decadal ensemble reforecast generated from the NCEP Global Ensemble Forecast System, mimicking version operational at NCEP/EMC circa mid-2012.\n",
       "    institution: NOAA Earth System Research Laboratory (ESRL)\n",
       "    source: NCEP GFS v 9.01, T254L42.  Control initial conditions from CFSRR.  Perturbed initial conditions from ETR.  Model error simulated with STTP.\n",
       "    references: http://www.esrl.noaa.gov/psd/forecasts/reforecast2/index.html\n",
       "    history: Subset created 2013-01-15 19:19:01 UTC\n",
       "    comment: Original dataset generated on DOE's supercomputers at Lawrence Berkeley Laboratory through ALCC/ASCR grant.\n",
       "    dimensions(sizes): time(5113), lat(9), lon(16), ens(11), fhour(5)\n",
       "    variables(dimensions): float64 \u001b[4mtime\u001b[0m(time), int32 \u001b[4mintTime\u001b[0m(time), float32 \u001b[4mlat\u001b[0m(lat), float32 \u001b[4mlon\u001b[0m(lon), int16 \u001b[4mens\u001b[0m(ens), int32 \u001b[4mfhour\u001b[0m(fhour), int32 \u001b[4mintValidTime\u001b[0m(time,fhour), float32 \u001b[4mDownward_Short-Wave_Rad_Flux\u001b[0m(time,ens,fhour,lat,lon)\n",
       "    groups: "
      ]
     },
     "execution_count": 8,
     "metadata": {},
     "output_type": "execute_result"
    }
   ],
   "source": [
    "data = nc.Dataset('solar/data/kaggle_solar/train/dswrf_sfc_latlon_subset_19940101_20071231.nc')\n",
    "data"
   ]
  },
  {
   "cell_type": "code",
   "execution_count": 9,
   "metadata": {
    "collapsed": false
   },
   "outputs": [
    {
     "name": "stdout",
     "output_type": "stream",
     "text": [
      "time\n",
      "intTime\n",
      "lat\n",
      "lon\n",
      "ens\n",
      "fhour\n",
      "intValidTime\n",
      "Downward_Short-Wave_Rad_Flux\n"
     ]
    }
   ],
   "source": [
    "for v in data.variables.keys():\n",
    "    print v"
   ]
  },
  {
   "cell_type": "code",
   "execution_count": 10,
   "metadata": {
    "collapsed": true
   },
   "outputs": [],
   "source": [
    "dswrf = data.variables.values()[-1]"
   ]
  },
  {
   "cell_type": "code",
   "execution_count": 11,
   "metadata": {
    "collapsed": false
   },
   "outputs": [
    {
     "data": {
      "text/plain": [
       "<type 'netCDF4._netCDF4.Variable'>\n",
       "float32 Downward_Short-Wave_Rad_Flux(time, ens, fhour, lat, lon)\n",
       "    _FillValue: 9999.0\n",
       "    units: W m-2\n",
       "    long_name: Downward_Short-Wave_Rad_Flux_Average (Average for  Mixed Intervals) @ surface\n",
       "    cell_methods: time: mean\n",
       "    GRIB_param_discipline: Meteorological_products\n",
       "    GRIB_param_category: Short-wave_Radiation\n",
       "    GRIB_param_name: Downward_short_wave_rad_flux\n",
       "    GRIB_generating_process_type: Forecast\n",
       "    GRIB_param_id: [  2   0   4 192]\n",
       "    GRIB_product_definition_template: 8\n",
       "    GRIB_product_definition_template_desc: Average, accumulation, extreme values or other statistically processed value at a horizontal level in a time interval\n",
       "    GRIB_level_type: 1\n",
       "    GRIB_level_type_name: surface\n",
       "    GRIB_interval_stat_type: Average\n",
       "    GRIB_VectorComponentFlag: easterlyNortherlyRelative\n",
       "unlimited dimensions: \n",
       "current shape = (5113, 11, 5, 9, 16)\n",
       "filling on"
      ]
     },
     "execution_count": 11,
     "metadata": {},
     "output_type": "execute_result"
    }
   ],
   "source": [
    "dswrf"
   ]
  },
  {
   "cell_type": "code",
   "execution_count": 12,
   "metadata": {
    "collapsed": false
   },
   "outputs": [
    {
     "data": {
      "text/plain": [
       "(5113, 11, 5, 9, 16)"
      ]
     },
     "execution_count": 12,
     "metadata": {},
     "output_type": "execute_result"
    }
   ],
   "source": [
    "dswrf.shape"
   ]
  },
  {
   "cell_type": "code",
   "execution_count": 13,
   "metadata": {
    "collapsed": false
   },
   "outputs": [
    {
     "data": {
      "text/plain": [
       "(u'time', u'ens', u'fhour', u'lat', u'lon')"
      ]
     },
     "execution_count": 13,
     "metadata": {},
     "output_type": "execute_result"
    }
   ],
   "source": [
    "dswrf.dimensions"
   ]
  },
  {
   "cell_type": "code",
   "execution_count": 14,
   "metadata": {
    "collapsed": false
   },
   "outputs": [
    {
     "name": "stdout",
     "output_type": "stream",
     "text": [
      "<type 'netCDF4._netCDF4.Dimension'>: name = 'time', size = 5113\n",
      "\n",
      "<type 'netCDF4._netCDF4.Dimension'>: name = 'lat', size = 9\n",
      "\n",
      "<type 'netCDF4._netCDF4.Dimension'>: name = 'lon', size = 16\n",
      "\n",
      "<type 'netCDF4._netCDF4.Dimension'>: name = 'ens', size = 11\n",
      "\n",
      "<type 'netCDF4._netCDF4.Dimension'>: name = 'fhour', size = 5\n",
      "\n"
     ]
    }
   ],
   "source": [
    "for d in data.dimensions.values():\n",
    "    print d"
   ]
  },
  {
   "cell_type": "code",
   "execution_count": 15,
   "metadata": {
    "collapsed": false
   },
   "outputs": [
    {
     "data": {
      "text/plain": [
       "(9,)"
      ]
     },
     "execution_count": 15,
     "metadata": {},
     "output_type": "execute_result"
    }
   ],
   "source": [
    "lat = data.variables['lat']\n",
    "lat.shape"
   ]
  },
  {
   "cell_type": "code",
   "execution_count": 16,
   "metadata": {
    "collapsed": false
   },
   "outputs": [
    {
     "data": {
      "text/plain": [
       "array([ 31.,  32.,  33.,  34.,  35.,  36.,  37.,  38.,  39.], dtype=float32)"
      ]
     },
     "execution_count": 16,
     "metadata": {},
     "output_type": "execute_result"
    }
   ],
   "source": [
    "l = lat[:]\n",
    "l"
   ]
  },
  {
   "cell_type": "code",
   "execution_count": 17,
   "metadata": {
    "collapsed": false
   },
   "outputs": [
    {
     "data": {
      "text/plain": [
       "(array([2]),)"
      ]
     },
     "execution_count": 17,
     "metadata": {},
     "output_type": "execute_result"
    }
   ],
   "source": [
    "np.where(l == 33)"
   ]
  },
  {
   "cell_type": "code",
   "execution_count": 18,
   "metadata": {
    "collapsed": false
   },
   "outputs": [
    {
     "data": {
      "text/plain": [
       "2"
      ]
     },
     "execution_count": 18,
     "metadata": {},
     "output_type": "execute_result"
    }
   ],
   "source": [
    "np.where(l == 33.)[0][0]"
   ]
  },
  {
   "cell_type": "code",
   "execution_count": 19,
   "metadata": {
    "collapsed": false
   },
   "outputs": [
    {
     "data": {
      "text/plain": [
       "array([ 254.,  255.,  256.,  257.,  258.,  259.,  260.,  261.,  262.,\n",
       "        263.,  264.,  265.,  266.,  267.,  268.,  269.], dtype=float32)"
      ]
     },
     "execution_count": 19,
     "metadata": {},
     "output_type": "execute_result"
    }
   ],
   "source": [
    "lon = data.variables['lon']\n",
    "n = lon[:]\n",
    "n"
   ]
  },
  {
   "cell_type": "code",
   "execution_count": 20,
   "metadata": {
    "collapsed": false
   },
   "outputs": [
    {
     "data": {
      "text/plain": [
       "6"
      ]
     },
     "execution_count": 20,
     "metadata": {},
     "output_type": "execute_result"
    }
   ],
   "source": [
    "np.where(n == 260.)[0][0]"
   ]
  },
  {
   "cell_type": "markdown",
   "metadata": {},
   "source": [
    "So, to find the data for a point at (33,260)"
   ]
  },
  {
   "cell_type": "code",
   "execution_count": 21,
   "metadata": {
    "collapsed": false
   },
   "outputs": [],
   "source": [
    "p_33_260 = dswrf[:,:,:,np.where(l == 33)[0][0],np.where(n == 260)[0][0]]"
   ]
  },
  {
   "cell_type": "code",
   "execution_count": 22,
   "metadata": {
    "collapsed": false
   },
   "outputs": [
    {
     "data": {
      "text/plain": [
       "(5113, 11, 5)"
      ]
     },
     "execution_count": 22,
     "metadata": {},
     "output_type": "execute_result"
    }
   ],
   "source": [
    "p_33_260.shape"
   ]
  },
  {
   "cell_type": "code",
   "execution_count": 23,
   "metadata": {
    "collapsed": false
   },
   "outputs": [],
   "source": [
    "p = np.mean(p_33_260, axis = 1)"
   ]
  },
  {
   "cell_type": "code",
   "execution_count": 24,
   "metadata": {
    "collapsed": false
   },
   "outputs": [
    {
     "data": {
      "text/plain": [
       "(5113, 5)"
      ]
     },
     "execution_count": 24,
     "metadata": {},
     "output_type": "execute_result"
    }
   ],
   "source": [
    "p.shape"
   ]
  },
  {
   "cell_type": "code",
   "execution_count": 25,
   "metadata": {
    "collapsed": false
   },
   "outputs": [
    {
     "data": {
      "text/plain": [
       "296.81818"
      ]
     },
     "execution_count": 25,
     "metadata": {},
     "output_type": "execute_result"
    }
   ],
   "source": [
    "p[1000,2]"
   ]
  },
  {
   "cell_type": "code",
   "execution_count": 26,
   "metadata": {
    "collapsed": false
   },
   "outputs": [],
   "source": [
    "p = p_33_260.reshape(p_33_260.shape[0], p_33_260.shape[1] * p_33_260.shape[2])"
   ]
  },
  {
   "cell_type": "code",
   "execution_count": 27,
   "metadata": {
    "collapsed": false
   },
   "outputs": [
    {
     "data": {
      "text/plain": [
       "(5113, 55)"
      ]
     },
     "execution_count": 27,
     "metadata": {},
     "output_type": "execute_result"
    }
   ],
   "source": [
    "p.shape"
   ]
  },
  {
   "cell_type": "code",
   "execution_count": 28,
   "metadata": {
    "collapsed": false
   },
   "outputs": [],
   "source": [
    "np.savetxt('33_260.csv',p,delimiter=',',fmt=\"%.06f\")"
   ]
  },
  {
   "cell_type": "code",
   "execution_count": 29,
   "metadata": {
    "collapsed": false
   },
   "outputs": [
    {
     "data": {
      "text/plain": [
       "0.0"
      ]
     },
     "execution_count": 29,
     "metadata": {},
     "output_type": "execute_result"
    }
   ],
   "source": [
    "dswrf[0,0,0,0,0]"
   ]
  },
  {
   "cell_type": "code",
   "execution_count": 30,
   "metadata": {
    "collapsed": false
   },
   "outputs": [],
   "source": [
    "dswrf1D = np.reshape(dswrf,-1)"
   ]
  },
  {
   "cell_type": "code",
   "execution_count": 31,
   "metadata": {
    "collapsed": false
   },
   "outputs": [
    {
     "data": {
      "text/plain": [
       "40494960"
      ]
     },
     "execution_count": 31,
     "metadata": {},
     "output_type": "execute_result"
    }
   ],
   "source": [
    "len(dswrf1D)"
   ]
  },
  {
   "cell_type": "code",
   "execution_count": 32,
   "metadata": {
    "collapsed": false
   },
   "outputs": [
    {
     "data": {
      "text/plain": [
       "(40494960,)"
      ]
     },
     "execution_count": 32,
     "metadata": {},
     "output_type": "execute_result"
    }
   ],
   "source": [
    "dswrf1D.shape"
   ]
  },
  {
   "cell_type": "code",
   "execution_count": 33,
   "metadata": {
    "collapsed": true
   },
   "outputs": [],
   "source": [
    "values = data.variables.values()"
   ]
  },
  {
   "cell_type": "code",
   "execution_count": 34,
   "metadata": {
    "collapsed": true
   },
   "outputs": [],
   "source": [
    "models = values[4][:]"
   ]
  },
  {
   "cell_type": "code",
   "execution_count": 35,
   "metadata": {
    "collapsed": false
   },
   "outputs": [],
   "source": [
    "models = [str(val) for val in models]"
   ]
  },
  {
   "cell_type": "code",
   "execution_count": 36,
   "metadata": {
    "collapsed": false
   },
   "outputs": [
    {
     "data": {
      "text/plain": [
       "array([12, 15, 18, 21, 24], dtype=int32)"
      ]
     },
     "execution_count": 36,
     "metadata": {},
     "output_type": "execute_result"
    }
   ],
   "source": [
    "times = values[5][:]\n",
    "times"
   ]
  },
  {
   "cell_type": "code",
   "execution_count": 37,
   "metadata": {
    "collapsed": false
   },
   "outputs": [
    {
     "data": {
      "text/plain": [
       "datetime.datetime(1994, 1, 1, 0, 0)"
      ]
     },
     "execution_count": 37,
     "metadata": {},
     "output_type": "execute_result"
    }
   ],
   "source": [
    "import datetime\n",
    "datetime.datetime.strptime(str(values[1][0]),\"%Y%m%d%H\")"
   ]
  },
  {
   "cell_type": "code",
   "execution_count": 38,
   "metadata": {
    "collapsed": false
   },
   "outputs": [],
   "source": [
    "import datetime\n",
    "values = data.variables.values()\n",
    "models = [str(val) for val in values[4][:]]\n",
    "times = [datetime.time(val%24) for val in values[5][:]]\n",
    "dates = [datetime.datetime.strptime(str(val), \"%Y%m%d%H\") for val in values[1][:]]"
   ]
  },
  {
   "cell_type": "code",
   "execution_count": 39,
   "metadata": {
    "collapsed": true
   },
   "outputs": [],
   "source": [
    "import pandas as pd"
   ]
  },
  {
   "cell_type": "code",
   "execution_count": 40,
   "metadata": {
    "collapsed": false
   },
   "outputs": [],
   "source": [
    "import itertools\n",
    "new_indices = list(itertools.product(dates, models, times, values[2][:],values[3][:]))"
   ]
  },
  {
   "cell_type": "code",
   "execution_count": 41,
   "metadata": {
    "collapsed": false
   },
   "outputs": [
    {
     "data": {
      "text/plain": [
       "40494960"
      ]
     },
     "execution_count": 41,
     "metadata": {},
     "output_type": "execute_result"
    }
   ],
   "source": [
    "len(new_indices)"
   ]
  },
  {
   "cell_type": "code",
   "execution_count": 42,
   "metadata": {
    "collapsed": false
   },
   "outputs": [],
   "source": [
    "dswrf_df = pd.DataFrame(dswrf1D)"
   ]
  },
  {
   "cell_type": "code",
   "execution_count": null,
   "metadata": {
    "collapsed": true
   },
   "outputs": [],
   "source": [
    "dswrf_df.head()"
   ]
  },
  {
   "cell_type": "code",
   "execution_count": 43,
   "metadata": {
    "collapsed": true
   },
   "outputs": [],
   "source": [
    "import numpy as np"
   ]
  },
  {
   "cell_type": "code",
   "execution_count": 44,
   "metadata": {
    "collapsed": false
   },
   "outputs": [],
   "source": [
    "index_frame = pd.DataFrame(new_indices)"
   ]
  },
  {
   "cell_type": "code",
   "execution_count": 45,
   "metadata": {
    "collapsed": false
   },
   "outputs": [
    {
     "data": {
      "text/html": [
       "<div>\n",
       "<table border=\"1\" class=\"dataframe\">\n",
       "  <thead>\n",
       "    <tr style=\"text-align: right;\">\n",
       "      <th></th>\n",
       "      <th>0</th>\n",
       "      <th>1</th>\n",
       "      <th>2</th>\n",
       "      <th>3</th>\n",
       "      <th>4</th>\n",
       "    </tr>\n",
       "  </thead>\n",
       "  <tbody>\n",
       "    <tr>\n",
       "      <th>0</th>\n",
       "      <td>1994-01-01</td>\n",
       "      <td>0</td>\n",
       "      <td>12:00:00</td>\n",
       "      <td>31</td>\n",
       "      <td>254</td>\n",
       "    </tr>\n",
       "    <tr>\n",
       "      <th>1</th>\n",
       "      <td>1994-01-01</td>\n",
       "      <td>0</td>\n",
       "      <td>12:00:00</td>\n",
       "      <td>31</td>\n",
       "      <td>255</td>\n",
       "    </tr>\n",
       "    <tr>\n",
       "      <th>2</th>\n",
       "      <td>1994-01-01</td>\n",
       "      <td>0</td>\n",
       "      <td>12:00:00</td>\n",
       "      <td>31</td>\n",
       "      <td>256</td>\n",
       "    </tr>\n",
       "    <tr>\n",
       "      <th>3</th>\n",
       "      <td>1994-01-01</td>\n",
       "      <td>0</td>\n",
       "      <td>12:00:00</td>\n",
       "      <td>31</td>\n",
       "      <td>257</td>\n",
       "    </tr>\n",
       "    <tr>\n",
       "      <th>4</th>\n",
       "      <td>1994-01-01</td>\n",
       "      <td>0</td>\n",
       "      <td>12:00:00</td>\n",
       "      <td>31</td>\n",
       "      <td>258</td>\n",
       "    </tr>\n",
       "  </tbody>\n",
       "</table>\n",
       "</div>"
      ],
      "text/plain": [
       "           0  1         2   3    4\n",
       "0 1994-01-01  0  12:00:00  31  254\n",
       "1 1994-01-01  0  12:00:00  31  255\n",
       "2 1994-01-01  0  12:00:00  31  256\n",
       "3 1994-01-01  0  12:00:00  31  257\n",
       "4 1994-01-01  0  12:00:00  31  258"
      ]
     },
     "execution_count": 45,
     "metadata": {},
     "output_type": "execute_result"
    }
   ],
   "source": [
    "index_frame.head()"
   ]
  },
  {
   "cell_type": "raw",
   "metadata": {},
   "source": []
  },
  {
   "cell_type": "code",
   "execution_count": 46,
   "metadata": {
    "collapsed": false
   },
   "outputs": [],
   "source": [
    "dswrf_df.columns=['total_precip']"
   ]
  },
  {
   "cell_type": "code",
   "execution_count": 47,
   "metadata": {
    "collapsed": false
   },
   "outputs": [
    {
     "data": {
      "text/html": [
       "<div>\n",
       "<table border=\"1\" class=\"dataframe\">\n",
       "  <thead>\n",
       "    <tr style=\"text-align: right;\">\n",
       "      <th></th>\n",
       "      <th>total_precip</th>\n",
       "    </tr>\n",
       "  </thead>\n",
       "  <tbody>\n",
       "    <tr>\n",
       "      <th>0</th>\n",
       "      <td>0</td>\n",
       "    </tr>\n",
       "    <tr>\n",
       "      <th>1</th>\n",
       "      <td>0</td>\n",
       "    </tr>\n",
       "    <tr>\n",
       "      <th>2</th>\n",
       "      <td>0</td>\n",
       "    </tr>\n",
       "    <tr>\n",
       "      <th>3</th>\n",
       "      <td>0</td>\n",
       "    </tr>\n",
       "    <tr>\n",
       "      <th>4</th>\n",
       "      <td>0</td>\n",
       "    </tr>\n",
       "  </tbody>\n",
       "</table>\n",
       "</div>"
      ],
      "text/plain": [
       "   total_precip\n",
       "0             0\n",
       "1             0\n",
       "2             0\n",
       "3             0\n",
       "4             0"
      ]
     },
     "execution_count": 47,
     "metadata": {},
     "output_type": "execute_result"
    }
   ],
   "source": [
    "dswrf_df.head()"
   ]
  },
  {
   "cell_type": "code",
   "execution_count": 48,
   "metadata": {
    "collapsed": false
   },
   "outputs": [],
   "source": [
    "index_frame.columns=['date','model','time','latitude','longitude']"
   ]
  },
  {
   "cell_type": "code",
   "execution_count": 49,
   "metadata": {
    "collapsed": false
   },
   "outputs": [
    {
     "data": {
      "text/html": [
       "<div>\n",
       "<table border=\"1\" class=\"dataframe\">\n",
       "  <thead>\n",
       "    <tr style=\"text-align: right;\">\n",
       "      <th></th>\n",
       "      <th>date</th>\n",
       "      <th>model</th>\n",
       "      <th>time</th>\n",
       "      <th>latitude</th>\n",
       "      <th>longitude</th>\n",
       "    </tr>\n",
       "  </thead>\n",
       "  <tbody>\n",
       "    <tr>\n",
       "      <th>0</th>\n",
       "      <td>1994-01-01</td>\n",
       "      <td>0</td>\n",
       "      <td>12:00:00</td>\n",
       "      <td>31</td>\n",
       "      <td>254</td>\n",
       "    </tr>\n",
       "    <tr>\n",
       "      <th>1</th>\n",
       "      <td>1994-01-01</td>\n",
       "      <td>0</td>\n",
       "      <td>12:00:00</td>\n",
       "      <td>31</td>\n",
       "      <td>255</td>\n",
       "    </tr>\n",
       "    <tr>\n",
       "      <th>2</th>\n",
       "      <td>1994-01-01</td>\n",
       "      <td>0</td>\n",
       "      <td>12:00:00</td>\n",
       "      <td>31</td>\n",
       "      <td>256</td>\n",
       "    </tr>\n",
       "    <tr>\n",
       "      <th>3</th>\n",
       "      <td>1994-01-01</td>\n",
       "      <td>0</td>\n",
       "      <td>12:00:00</td>\n",
       "      <td>31</td>\n",
       "      <td>257</td>\n",
       "    </tr>\n",
       "    <tr>\n",
       "      <th>4</th>\n",
       "      <td>1994-01-01</td>\n",
       "      <td>0</td>\n",
       "      <td>12:00:00</td>\n",
       "      <td>31</td>\n",
       "      <td>258</td>\n",
       "    </tr>\n",
       "  </tbody>\n",
       "</table>\n",
       "</div>"
      ],
      "text/plain": [
       "        date model      time  latitude  longitude\n",
       "0 1994-01-01     0  12:00:00        31        254\n",
       "1 1994-01-01     0  12:00:00        31        255\n",
       "2 1994-01-01     0  12:00:00        31        256\n",
       "3 1994-01-01     0  12:00:00        31        257\n",
       "4 1994-01-01     0  12:00:00        31        258"
      ]
     },
     "execution_count": 49,
     "metadata": {},
     "output_type": "execute_result"
    }
   ],
   "source": [
    "index_frame.head()"
   ]
  },
  {
   "cell_type": "code",
   "execution_count": 52,
   "metadata": {
    "collapsed": false
   },
   "outputs": [],
   "source": [
    "all_info = pd.merge(index_frame,dswrf_df,left_index=True, right_index=True)"
   ]
  },
  {
   "cell_type": "code",
   "execution_count": 53,
   "metadata": {
    "collapsed": false
   },
   "outputs": [
    {
     "data": {
      "text/plain": [
       "list"
      ]
     },
     "execution_count": 53,
     "metadata": {},
     "output_type": "execute_result"
    }
   ],
   "source": [
    "type(new_indices)"
   ]
  },
  {
   "cell_type": "code",
   "execution_count": 54,
   "metadata": {
    "collapsed": true
   },
   "outputs": [],
   "source": [
    "one_loc_one_day = all_info[(all_info['latitude'] == 31) & (all_info['longitude'] == 254) & (all_info['date'] == '2004-03-07')]"
   ]
  },
  {
   "cell_type": "code",
   "execution_count": 92,
   "metadata": {
    "collapsed": false
   },
   "outputs": [
    {
     "data": {
      "text/html": [
       "<div>\n",
       "<table border=\"1\" class=\"dataframe\">\n",
       "  <thead>\n",
       "    <tr>\n",
       "      <th></th>\n",
       "      <th colspan=\"21\" halign=\"left\">total_precip</th>\n",
       "    </tr>\n",
       "    <tr>\n",
       "      <th>time</th>\n",
       "      <th>12:00:00</th>\n",
       "      <th>15:00:00</th>\n",
       "      <th>18:00:00</th>\n",
       "      <th>21:00:00</th>\n",
       "      <th>00:00:00</th>\n",
       "      <th>12:00:00</th>\n",
       "      <th>15:00:00</th>\n",
       "      <th>18:00:00</th>\n",
       "      <th>21:00:00</th>\n",
       "      <th>00:00:00</th>\n",
       "      <th>...</th>\n",
       "      <th>12:00:00</th>\n",
       "      <th>15:00:00</th>\n",
       "      <th>18:00:00</th>\n",
       "      <th>21:00:00</th>\n",
       "      <th>00:00:00</th>\n",
       "      <th>12:00:00</th>\n",
       "      <th>15:00:00</th>\n",
       "      <th>18:00:00</th>\n",
       "      <th>21:00:00</th>\n",
       "      <th>00:00:00</th>\n",
       "    </tr>\n",
       "    <tr>\n",
       "      <th>model</th>\n",
       "      <th>0</th>\n",
       "      <th>0</th>\n",
       "      <th>0</th>\n",
       "      <th>0</th>\n",
       "      <th>0</th>\n",
       "      <th>1</th>\n",
       "      <th>1</th>\n",
       "      <th>1</th>\n",
       "      <th>1</th>\n",
       "      <th>1</th>\n",
       "      <th>...</th>\n",
       "      <th>9</th>\n",
       "      <th>9</th>\n",
       "      <th>9</th>\n",
       "      <th>9</th>\n",
       "      <th>9</th>\n",
       "      <th>10</th>\n",
       "      <th>10</th>\n",
       "      <th>10</th>\n",
       "      <th>10</th>\n",
       "      <th>10</th>\n",
       "    </tr>\n",
       "    <tr>\n",
       "      <th>latitude</th>\n",
       "      <th>31</th>\n",
       "      <th>31</th>\n",
       "      <th>31</th>\n",
       "      <th>31</th>\n",
       "      <th>31</th>\n",
       "      <th>31</th>\n",
       "      <th>31</th>\n",
       "      <th>31</th>\n",
       "      <th>31</th>\n",
       "      <th>31</th>\n",
       "      <th>...</th>\n",
       "      <th>31</th>\n",
       "      <th>31</th>\n",
       "      <th>31</th>\n",
       "      <th>31</th>\n",
       "      <th>31</th>\n",
       "      <th>31</th>\n",
       "      <th>31</th>\n",
       "      <th>31</th>\n",
       "      <th>31</th>\n",
       "      <th>31</th>\n",
       "    </tr>\n",
       "    <tr>\n",
       "      <th>longitude</th>\n",
       "      <th>254</th>\n",
       "      <th>254</th>\n",
       "      <th>254</th>\n",
       "      <th>254</th>\n",
       "      <th>254</th>\n",
       "      <th>254</th>\n",
       "      <th>254</th>\n",
       "      <th>254</th>\n",
       "      <th>254</th>\n",
       "      <th>254</th>\n",
       "      <th>...</th>\n",
       "      <th>254</th>\n",
       "      <th>254</th>\n",
       "      <th>254</th>\n",
       "      <th>254</th>\n",
       "      <th>254</th>\n",
       "      <th>254</th>\n",
       "      <th>254</th>\n",
       "      <th>254</th>\n",
       "      <th>254</th>\n",
       "      <th>254</th>\n",
       "    </tr>\n",
       "    <tr>\n",
       "      <th>date</th>\n",
       "      <th></th>\n",
       "      <th></th>\n",
       "      <th></th>\n",
       "      <th></th>\n",
       "      <th></th>\n",
       "      <th></th>\n",
       "      <th></th>\n",
       "      <th></th>\n",
       "      <th></th>\n",
       "      <th></th>\n",
       "      <th></th>\n",
       "      <th></th>\n",
       "      <th></th>\n",
       "      <th></th>\n",
       "      <th></th>\n",
       "      <th></th>\n",
       "      <th></th>\n",
       "      <th></th>\n",
       "      <th></th>\n",
       "      <th></th>\n",
       "      <th></th>\n",
       "    </tr>\n",
       "  </thead>\n",
       "  <tbody>\n",
       "    <tr>\n",
       "      <th>2004-03-07</th>\n",
       "      <td>0</td>\n",
       "      <td>50</td>\n",
       "      <td>308</td>\n",
       "      <td>820</td>\n",
       "      <td>637</td>\n",
       "      <td>0</td>\n",
       "      <td>60</td>\n",
       "      <td>319</td>\n",
       "      <td>860</td>\n",
       "      <td>692</td>\n",
       "      <td>...</td>\n",
       "      <td>0</td>\n",
       "      <td>60</td>\n",
       "      <td>317</td>\n",
       "      <td>840</td>\n",
       "      <td>664</td>\n",
       "      <td>0</td>\n",
       "      <td>50</td>\n",
       "      <td>293</td>\n",
       "      <td>790</td>\n",
       "      <td>620</td>\n",
       "    </tr>\n",
       "  </tbody>\n",
       "</table>\n",
       "<p>1 rows × 55 columns</p>\n",
       "</div>"
      ],
      "text/plain": [
       "           total_precip                                                        \\\n",
       "time           12:00:00 15:00:00 18:00:00 21:00:00 00:00:00 12:00:00 15:00:00   \n",
       "model                 0        0        0        0        0        1        1   \n",
       "latitude             31       31       31       31       31       31       31   \n",
       "longitude           254      254      254      254      254      254      254   \n",
       "date                                                                            \n",
       "2004-03-07            0       50      308      820      637        0       60   \n",
       "\n",
       "                                        ...                                \\\n",
       "time       18:00:00 21:00:00 00:00:00   ...    12:00:00 15:00:00 18:00:00   \n",
       "model             1        1        1   ...           9        9        9   \n",
       "latitude         31       31       31   ...          31       31       31   \n",
       "longitude       254      254      254   ...         254      254      254   \n",
       "date                                    ...                                 \n",
       "2004-03-07      319      860      692   ...           0       60      317   \n",
       "\n",
       "                                                                           \n",
       "time       21:00:00 00:00:00 12:00:00 15:00:00 18:00:00 21:00:00 00:00:00  \n",
       "model             9        9       10       10       10       10       10  \n",
       "latitude         31       31       31       31       31       31       31  \n",
       "longitude       254      254      254      254      254      254      254  \n",
       "date                                                                       \n",
       "2004-03-07      840      664        0       50      293      790      620  \n",
       "\n",
       "[1 rows x 55 columns]"
      ]
     },
     "execution_count": 92,
     "metadata": {},
     "output_type": "execute_result"
    }
   ],
   "source": [
    "one_loc_one_day.set_index(['date','time','model','latitude','longitude',]).unstack(['time','model','latitude','longitude'])"
   ]
  },
  {
   "cell_type": "code",
   "execution_count": null,
   "metadata": {
    "collapsed": true
   },
   "outputs": [],
   "source": []
  },
  {
   "cell_type": "code",
   "execution_count": 72,
   "metadata": {
    "collapsed": false
   },
   "outputs": [
    {
     "data": {
      "text/html": [
       "<div>\n",
       "<table border=\"1\" class=\"dataframe\">\n",
       "  <thead>\n",
       "    <tr style=\"text-align: right;\">\n",
       "      <th></th>\n",
       "      <th>date</th>\n",
       "      <th>model</th>\n",
       "      <th>time</th>\n",
       "      <th>latitude</th>\n",
       "      <th>longitude</th>\n",
       "      <th>total_precip</th>\n",
       "    </tr>\n",
       "  </thead>\n",
       "  <tbody>\n",
       "    <tr>\n",
       "      <th>29446560</th>\n",
       "      <td>2004-03-07</td>\n",
       "      <td>0</td>\n",
       "      <td>12:00:00</td>\n",
       "      <td>31</td>\n",
       "      <td>254</td>\n",
       "      <td>0</td>\n",
       "    </tr>\n",
       "    <tr>\n",
       "      <th>29446704</th>\n",
       "      <td>2004-03-07</td>\n",
       "      <td>0</td>\n",
       "      <td>15:00:00</td>\n",
       "      <td>31</td>\n",
       "      <td>254</td>\n",
       "      <td>50</td>\n",
       "    </tr>\n",
       "    <tr>\n",
       "      <th>29446848</th>\n",
       "      <td>2004-03-07</td>\n",
       "      <td>0</td>\n",
       "      <td>18:00:00</td>\n",
       "      <td>31</td>\n",
       "      <td>254</td>\n",
       "      <td>308</td>\n",
       "    </tr>\n",
       "    <tr>\n",
       "      <th>29446992</th>\n",
       "      <td>2004-03-07</td>\n",
       "      <td>0</td>\n",
       "      <td>21:00:00</td>\n",
       "      <td>31</td>\n",
       "      <td>254</td>\n",
       "      <td>820</td>\n",
       "    </tr>\n",
       "    <tr>\n",
       "      <th>29447136</th>\n",
       "      <td>2004-03-07</td>\n",
       "      <td>0</td>\n",
       "      <td>00:00:00</td>\n",
       "      <td>31</td>\n",
       "      <td>254</td>\n",
       "      <td>637</td>\n",
       "    </tr>\n",
       "  </tbody>\n",
       "</table>\n",
       "</div>"
      ],
      "text/plain": [
       "               date model      time  latitude  longitude  total_precip\n",
       "29446560 2004-03-07     0  12:00:00        31        254             0\n",
       "29446704 2004-03-07     0  15:00:00        31        254            50\n",
       "29446848 2004-03-07     0  18:00:00        31        254           308\n",
       "29446992 2004-03-07     0  21:00:00        31        254           820\n",
       "29447136 2004-03-07     0  00:00:00        31        254           637"
      ]
     },
     "execution_count": 72,
     "metadata": {},
     "output_type": "execute_result"
    }
   ],
   "source": [
    "one_loc_one_day.head()"
   ]
  },
  {
   "cell_type": "code",
   "execution_count": 56,
   "metadata": {
    "collapsed": false
   },
   "outputs": [
    {
     "data": {
      "text/plain": [
       "array([   0.,    0.,    0., ...,  120.,  120.,  150.], dtype=float32)"
      ]
     },
     "execution_count": 56,
     "metadata": {},
     "output_type": "execute_result"
    }
   ],
   "source": [
    "dswrf1D"
   ]
  },
  {
   "cell_type": "code",
   "execution_count": 57,
   "metadata": {
    "collapsed": false
   },
   "outputs": [
    {
     "ename": "KeyboardInterrupt",
     "evalue": "",
     "output_type": "error",
     "traceback": [
      "\u001b[0;31m---------------------------------------------------------------------------\u001b[0m",
      "\u001b[0;31mKeyboardInterrupt\u001b[0m                         Traceback (most recent call last)",
      "\u001b[0;32m<ipython-input-57-fe57eca31caa>\u001b[0m in \u001b[0;36m<module>\u001b[0;34m()\u001b[0m\n\u001b[0;32m----> 1\u001b[0;31m \u001b[0mtype\u001b[0m\u001b[0;34m(\u001b[0m\u001b[0mnp\u001b[0m\u001b[0;34m.\u001b[0m\u001b[0masarray\u001b[0m\u001b[0;34m(\u001b[0m\u001b[0mnew_indices\u001b[0m\u001b[0;34m)\u001b[0m\u001b[0;34m)\u001b[0m\u001b[0;34m\u001b[0m\u001b[0m\n\u001b[0m",
      "\u001b[0;32m/Users/Joel/anaconda/lib/python2.7/site-packages/numpy/core/numeric.pyc\u001b[0m in \u001b[0;36masarray\u001b[0;34m(a, dtype, order)\u001b[0m\n\u001b[1;32m    472\u001b[0m \u001b[0;34m\u001b[0m\u001b[0m\n\u001b[1;32m    473\u001b[0m     \"\"\"\n\u001b[0;32m--> 474\u001b[0;31m     \u001b[0;32mreturn\u001b[0m \u001b[0marray\u001b[0m\u001b[0;34m(\u001b[0m\u001b[0ma\u001b[0m\u001b[0;34m,\u001b[0m \u001b[0mdtype\u001b[0m\u001b[0;34m,\u001b[0m \u001b[0mcopy\u001b[0m\u001b[0;34m=\u001b[0m\u001b[0mFalse\u001b[0m\u001b[0;34m,\u001b[0m \u001b[0morder\u001b[0m\u001b[0;34m=\u001b[0m\u001b[0morder\u001b[0m\u001b[0;34m)\u001b[0m\u001b[0;34m\u001b[0m\u001b[0m\n\u001b[0m\u001b[1;32m    475\u001b[0m \u001b[0;34m\u001b[0m\u001b[0m\n\u001b[1;32m    476\u001b[0m \u001b[0;32mdef\u001b[0m \u001b[0masanyarray\u001b[0m\u001b[0;34m(\u001b[0m\u001b[0ma\u001b[0m\u001b[0;34m,\u001b[0m \u001b[0mdtype\u001b[0m\u001b[0;34m=\u001b[0m\u001b[0mNone\u001b[0m\u001b[0;34m,\u001b[0m \u001b[0morder\u001b[0m\u001b[0;34m=\u001b[0m\u001b[0mNone\u001b[0m\u001b[0;34m)\u001b[0m\u001b[0;34m:\u001b[0m\u001b[0;34m\u001b[0m\u001b[0m\n",
      "\u001b[0;31mKeyboardInterrupt\u001b[0m: "
     ]
    }
   ],
   "source": [
    "type(np.asarray(new_indices))"
   ]
  },
  {
   "cell_type": "code",
   "execution_count": null,
   "metadata": {
    "collapsed": true
   },
   "outputs": [],
   "source": [
    "arrayed_index = np.asarray(new_indices)"
   ]
  },
  {
   "cell_type": "code",
   "execution_count": null,
   "metadata": {
    "collapsed": false
   },
   "outputs": [],
   "source": [
    "stacked = np.hstack((arrayed_index, dswrf1D[:,None]))"
   ]
  }
 ],
 "metadata": {
  "kernelspec": {
   "display_name": "Python 2",
   "language": "python",
   "name": "python2"
  },
  "language_info": {
   "codemirror_mode": {
    "name": "ipython",
    "version": 2
   },
   "file_extension": ".py",
   "mimetype": "text/x-python",
   "name": "python",
   "nbconvert_exporter": "python",
   "pygments_lexer": "ipython2",
   "version": "2.7.11"
  }
 },
 "nbformat": 4,
 "nbformat_minor": 0
}
